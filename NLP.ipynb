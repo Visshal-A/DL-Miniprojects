{
 "cells": [
  {
   "cell_type": "code",
   "execution_count": 1,
   "id": "micro-disposition",
   "metadata": {},
   "outputs": [],
   "source": [
    "import pandas as panda\n",
    "import numpy as np\n",
    "import string\n",
    "\n",
    "import nltk\n",
    "from nltk.tokenize import word_tokenize\n",
    "from nltk.corpus import stopwords\n",
    "from nltk.stem.porter import *\n",
    "from nltk.tokenize.treebank import TreebankWordDetokenizer\n",
    "from nltk.stem import WordNetLemmatizer\n",
    "\n",
    "from keras.preprocessing.text import Tokenizer\n",
    "from keras.preprocessing.sequence import pad_sequences\n",
    "from keras import regularizers\n",
    "from keras import backend as K\n",
    "from keras.callbacks import ModelCheckpoint\n",
    "\n",
    "from sklearn.preprocessing import OneHotEncoder\n",
    "from sklearn.feature_extraction.text import CountVectorizer\n",
    "from sklearn.feature_extraction.text import TfidfVectorizer\n",
    "from sklearn.model_selection import train_test_split\n",
    "\n",
    "from keras.models import Sequential\n",
    "from keras import layers\n",
    "from keras.optimizers import RMSprop,Adam\n",
    "\n",
    "from sklearn.metrics import confusion_matrix\n",
    "import seaborn as sns\n",
    "import matplotlib.pyplot as plt"
   ]
  },
  {
   "cell_type": "code",
   "execution_count": 2,
   "id": "moral-puppy",
   "metadata": {},
   "outputs": [
    {
     "data": {
      "text/html": [
       "<div>\n",
       "<style scoped>\n",
       "    .dataframe tbody tr th:only-of-type {\n",
       "        vertical-align: middle;\n",
       "    }\n",
       "\n",
       "    .dataframe tbody tr th {\n",
       "        vertical-align: top;\n",
       "    }\n",
       "\n",
       "    .dataframe thead th {\n",
       "        text-align: right;\n",
       "    }\n",
       "</style>\n",
       "<table border=\"1\" class=\"dataframe\">\n",
       "  <thead>\n",
       "    <tr style=\"text-align: right;\">\n",
       "      <th></th>\n",
       "      <th>index</th>\n",
       "      <th>count</th>\n",
       "      <th>hate_speech</th>\n",
       "      <th>offensive_language</th>\n",
       "      <th>neither</th>\n",
       "      <th>class</th>\n",
       "      <th>tweet</th>\n",
       "    </tr>\n",
       "  </thead>\n",
       "  <tbody>\n",
       "    <tr>\n",
       "      <th>0</th>\n",
       "      <td>0</td>\n",
       "      <td>3</td>\n",
       "      <td>0</td>\n",
       "      <td>0</td>\n",
       "      <td>3</td>\n",
       "      <td>2</td>\n",
       "      <td>!!! RT @mayasolovely: As a woman you shouldn't...</td>\n",
       "    </tr>\n",
       "    <tr>\n",
       "      <th>1</th>\n",
       "      <td>1</td>\n",
       "      <td>3</td>\n",
       "      <td>0</td>\n",
       "      <td>3</td>\n",
       "      <td>0</td>\n",
       "      <td>1</td>\n",
       "      <td>!!!!! RT @mleew17: boy dats cold...tyga dwn ba...</td>\n",
       "    </tr>\n",
       "    <tr>\n",
       "      <th>2</th>\n",
       "      <td>2</td>\n",
       "      <td>3</td>\n",
       "      <td>0</td>\n",
       "      <td>3</td>\n",
       "      <td>0</td>\n",
       "      <td>1</td>\n",
       "      <td>!!!!!!! RT @UrKindOfBrand Dawg!!!! RT @80sbaby...</td>\n",
       "    </tr>\n",
       "    <tr>\n",
       "      <th>3</th>\n",
       "      <td>3</td>\n",
       "      <td>3</td>\n",
       "      <td>0</td>\n",
       "      <td>2</td>\n",
       "      <td>1</td>\n",
       "      <td>1</td>\n",
       "      <td>!!!!!!!!! RT @C_G_Anderson: @viva_based she lo...</td>\n",
       "    </tr>\n",
       "    <tr>\n",
       "      <th>4</th>\n",
       "      <td>4</td>\n",
       "      <td>6</td>\n",
       "      <td>0</td>\n",
       "      <td>6</td>\n",
       "      <td>0</td>\n",
       "      <td>1</td>\n",
       "      <td>!!!!!!!!!!!!! RT @ShenikaRoberts: The shit you...</td>\n",
       "    </tr>\n",
       "    <tr>\n",
       "      <th>...</th>\n",
       "      <td>...</td>\n",
       "      <td>...</td>\n",
       "      <td>...</td>\n",
       "      <td>...</td>\n",
       "      <td>...</td>\n",
       "      <td>...</td>\n",
       "      <td>...</td>\n",
       "    </tr>\n",
       "    <tr>\n",
       "      <th>24778</th>\n",
       "      <td>25291</td>\n",
       "      <td>3</td>\n",
       "      <td>0</td>\n",
       "      <td>2</td>\n",
       "      <td>1</td>\n",
       "      <td>1</td>\n",
       "      <td>you's a muthaf***in lie &amp;#8220;@LifeAsKing: @2...</td>\n",
       "    </tr>\n",
       "    <tr>\n",
       "      <th>24779</th>\n",
       "      <td>25292</td>\n",
       "      <td>3</td>\n",
       "      <td>0</td>\n",
       "      <td>1</td>\n",
       "      <td>2</td>\n",
       "      <td>2</td>\n",
       "      <td>you've gone and broke the wrong heart baby, an...</td>\n",
       "    </tr>\n",
       "    <tr>\n",
       "      <th>24780</th>\n",
       "      <td>25294</td>\n",
       "      <td>3</td>\n",
       "      <td>0</td>\n",
       "      <td>3</td>\n",
       "      <td>0</td>\n",
       "      <td>1</td>\n",
       "      <td>young buck wanna eat!!.. dat nigguh like I ain...</td>\n",
       "    </tr>\n",
       "    <tr>\n",
       "      <th>24781</th>\n",
       "      <td>25295</td>\n",
       "      <td>6</td>\n",
       "      <td>0</td>\n",
       "      <td>6</td>\n",
       "      <td>0</td>\n",
       "      <td>1</td>\n",
       "      <td>youu got wild bitches tellin you lies</td>\n",
       "    </tr>\n",
       "    <tr>\n",
       "      <th>24782</th>\n",
       "      <td>25296</td>\n",
       "      <td>3</td>\n",
       "      <td>0</td>\n",
       "      <td>0</td>\n",
       "      <td>3</td>\n",
       "      <td>2</td>\n",
       "      <td>~~Ruffled | Ntac Eileen Dahlia - Beautiful col...</td>\n",
       "    </tr>\n",
       "  </tbody>\n",
       "</table>\n",
       "<p>24783 rows × 7 columns</p>\n",
       "</div>"
      ],
      "text/plain": [
       "       index  count  hate_speech  offensive_language  neither  class  \\\n",
       "0          0      3            0                   0        3      2   \n",
       "1          1      3            0                   3        0      1   \n",
       "2          2      3            0                   3        0      1   \n",
       "3          3      3            0                   2        1      1   \n",
       "4          4      6            0                   6        0      1   \n",
       "...      ...    ...          ...                 ...      ...    ...   \n",
       "24778  25291      3            0                   2        1      1   \n",
       "24779  25292      3            0                   1        2      2   \n",
       "24780  25294      3            0                   3        0      1   \n",
       "24781  25295      6            0                   6        0      1   \n",
       "24782  25296      3            0                   0        3      2   \n",
       "\n",
       "                                                   tweet  \n",
       "0      !!! RT @mayasolovely: As a woman you shouldn't...  \n",
       "1      !!!!! RT @mleew17: boy dats cold...tyga dwn ba...  \n",
       "2      !!!!!!! RT @UrKindOfBrand Dawg!!!! RT @80sbaby...  \n",
       "3      !!!!!!!!! RT @C_G_Anderson: @viva_based she lo...  \n",
       "4      !!!!!!!!!!!!! RT @ShenikaRoberts: The shit you...  \n",
       "...                                                  ...  \n",
       "24778  you's a muthaf***in lie &#8220;@LifeAsKing: @2...  \n",
       "24779  you've gone and broke the wrong heart baby, an...  \n",
       "24780  young buck wanna eat!!.. dat nigguh like I ain...  \n",
       "24781              youu got wild bitches tellin you lies  \n",
       "24782  ~~Ruffled | Ntac Eileen Dahlia - Beautiful col...  \n",
       "\n",
       "[24783 rows x 7 columns]"
      ]
     },
     "execution_count": 2,
     "metadata": {},
     "output_type": "execute_result"
    }
   ],
   "source": [
    "data = panda.read_csv(\"labeled_data.csv\")\n",
    "data"
   ]
  },
  {
   "cell_type": "code",
   "execution_count": 3,
   "id": "stainless-dietary",
   "metadata": {},
   "outputs": [
    {
     "name": "stdout",
     "output_type": "stream",
     "text": [
      "<class 'pandas.core.frame.DataFrame'>\n",
      "RangeIndex: 24783 entries, 0 to 24782\n",
      "Data columns (total 7 columns):\n",
      " #   Column              Non-Null Count  Dtype \n",
      "---  ------              --------------  ----- \n",
      " 0   index               24783 non-null  int64 \n",
      " 1   count               24783 non-null  int64 \n",
      " 2   hate_speech         24783 non-null  int64 \n",
      " 3   offensive_language  24783 non-null  int64 \n",
      " 4   neither             24783 non-null  int64 \n",
      " 5   class               24783 non-null  int64 \n",
      " 6   tweet               24783 non-null  object\n",
      "dtypes: int64(6), object(1)\n",
      "memory usage: 1.3+ MB\n"
     ]
    }
   ],
   "source": [
    "data.info()"
   ]
  },
  {
   "cell_type": "code",
   "execution_count": 4,
   "id": "continent-blend",
   "metadata": {},
   "outputs": [
    {
     "data": {
      "text/plain": [
       "<AxesSubplot:>"
      ]
     },
     "execution_count": 4,
     "metadata": {},
     "output_type": "execute_result"
    },
    {
     "data": {
      "image/png": "[encoded data removed]",
      "text/plain": [
       "<Figure size 432x288 with 1 Axes>"
      ]
     },
     "metadata": {
      "needs_background": "light"
     },
     "output_type": "display_data"
    }
   ],
   "source": [
    "data['class'].hist()"
   ]
  },
  {
   "cell_type": "code",
   "execution_count": 5,
   "id": "charitable-shoulder",
   "metadata": {},
   "outputs": [],
   "source": [
    "tweet=data.tweet"
   ]
  },
  {
   "cell_type": "code",
   "execution_count": 6,
   "id": "elegant-excellence",
   "metadata": {},
   "outputs": [],
   "source": [
    "def remove_space(tweet):  \n",
    "    \n",
    "    \n",
    "    regex_pat = re.compile(r'\\s+')\n",
    "    tweet_space = tweet.str.replace(regex_pat, ' ')    \n",
    "    newtweet=tweet.str.replace(r'\\s+', ' ')    \n",
    "    newtweet=newtweet.str.replace(r'^\\s+|\\s+?$','')   \n",
    "    newtweet=newtweet.str.replace(r'\\d+(\\.\\d+)?','numbr')\n",
    "    tweet_lower = newtweet.str.lower()\n",
    "    \n",
    "    return tweet_lower"
   ]
  },
  {
   "cell_type": "code",
   "execution_count": 7,
   "id": "valid-vault",
   "metadata": {},
   "outputs": [
    {
     "data": {
      "text/html": [
       "<div>\n",
       "<style scoped>\n",
       "    .dataframe tbody tr th:only-of-type {\n",
       "        vertical-align: middle;\n",
       "    }\n",
       "\n",
       "    .dataframe tbody tr th {\n",
       "        vertical-align: top;\n",
       "    }\n",
       "\n",
       "    .dataframe thead th {\n",
       "        text-align: right;\n",
       "    }\n",
       "</style>\n",
       "<table border=\"1\" class=\"dataframe\">\n",
       "  <thead>\n",
       "    <tr style=\"text-align: right;\">\n",
       "      <th></th>\n",
       "      <th>index</th>\n",
       "      <th>count</th>\n",
       "      <th>hate_speech</th>\n",
       "      <th>offensive_language</th>\n",
       "      <th>neither</th>\n",
       "      <th>class</th>\n",
       "      <th>tweet</th>\n",
       "      <th>tweets_w/o_space</th>\n",
       "    </tr>\n",
       "  </thead>\n",
       "  <tbody>\n",
       "    <tr>\n",
       "      <th>0</th>\n",
       "      <td>0</td>\n",
       "      <td>3</td>\n",
       "      <td>0</td>\n",
       "      <td>0</td>\n",
       "      <td>3</td>\n",
       "      <td>2</td>\n",
       "      <td>!!! RT @mayasolovely: As a woman you shouldn't...</td>\n",
       "      <td>!!! rt @mayasolovely: as a woman you shouldn't...</td>\n",
       "    </tr>\n",
       "    <tr>\n",
       "      <th>1</th>\n",
       "      <td>1</td>\n",
       "      <td>3</td>\n",
       "      <td>0</td>\n",
       "      <td>3</td>\n",
       "      <td>0</td>\n",
       "      <td>1</td>\n",
       "      <td>!!!!! RT @mleew17: boy dats cold...tyga dwn ba...</td>\n",
       "      <td>!!!!! rt @mleewnumbr: boy dats cold...tyga dwn...</td>\n",
       "    </tr>\n",
       "    <tr>\n",
       "      <th>2</th>\n",
       "      <td>2</td>\n",
       "      <td>3</td>\n",
       "      <td>0</td>\n",
       "      <td>3</td>\n",
       "      <td>0</td>\n",
       "      <td>1</td>\n",
       "      <td>!!!!!!! RT @UrKindOfBrand Dawg!!!! RT @80sbaby...</td>\n",
       "      <td>!!!!!!! rt @urkindofbrand dawg!!!! rt @numbrsb...</td>\n",
       "    </tr>\n",
       "    <tr>\n",
       "      <th>3</th>\n",
       "      <td>3</td>\n",
       "      <td>3</td>\n",
       "      <td>0</td>\n",
       "      <td>2</td>\n",
       "      <td>1</td>\n",
       "      <td>1</td>\n",
       "      <td>!!!!!!!!! RT @C_G_Anderson: @viva_based she lo...</td>\n",
       "      <td>!!!!!!!!! rt @c_g_anderson: @viva_based she lo...</td>\n",
       "    </tr>\n",
       "    <tr>\n",
       "      <th>4</th>\n",
       "      <td>4</td>\n",
       "      <td>6</td>\n",
       "      <td>0</td>\n",
       "      <td>6</td>\n",
       "      <td>0</td>\n",
       "      <td>1</td>\n",
       "      <td>!!!!!!!!!!!!! RT @ShenikaRoberts: The shit you...</td>\n",
       "      <td>!!!!!!!!!!!!! rt @shenikaroberts: the shit you...</td>\n",
       "    </tr>\n",
       "  </tbody>\n",
       "</table>\n",
       "</div>"
      ],
      "text/plain": [
       "   index  count  hate_speech  offensive_language  neither  class  \\\n",
       "0      0      3            0                   0        3      2   \n",
       "1      1      3            0                   3        0      1   \n",
       "2      2      3            0                   3        0      1   \n",
       "3      3      3            0                   2        1      1   \n",
       "4      4      6            0                   6        0      1   \n",
       "\n",
       "                                               tweet  \\\n",
       "0  !!! RT @mayasolovely: As a woman you shouldn't...   \n",
       "1  !!!!! RT @mleew17: boy dats cold...tyga dwn ba...   \n",
       "2  !!!!!!! RT @UrKindOfBrand Dawg!!!! RT @80sbaby...   \n",
       "3  !!!!!!!!! RT @C_G_Anderson: @viva_based she lo...   \n",
       "4  !!!!!!!!!!!!! RT @ShenikaRoberts: The shit you...   \n",
       "\n",
       "                                    tweets_w/o_space  \n",
       "0  !!! rt @mayasolovely: as a woman you shouldn't...  \n",
       "1  !!!!! rt @mleewnumbr: boy dats cold...tyga dwn...  \n",
       "2  !!!!!!! rt @urkindofbrand dawg!!!! rt @numbrsb...  \n",
       "3  !!!!!!!!! rt @c_g_anderson: @viva_based she lo...  \n",
       "4  !!!!!!!!!!!!! rt @shenikaroberts: the shit you...  "
      ]
     },
     "execution_count": 7,
     "metadata": {},
     "output_type": "execute_result"
    }
   ],
   "source": [
    "tweets_space= remove_space(tweet)\n",
    "data[\"tweets_w/o_space\"]=tweets_space\n",
    "data.head()"
   ]
  },
  {
   "cell_type": "code",
   "execution_count": 8,
   "id": "broke-panel",
   "metadata": {},
   "outputs": [],
   "source": [
    "def remove_urls(tweet):\n",
    "    url_pattern = re.compile(r'https?://\\S+|www\\.\\S+')\n",
    "    return url_pattern.sub(r'', tweet)\n",
    "\n",
    "data[\"tweet_w/o_url\"] = data[\"tweets_w/o_space\"].apply(lambda tweet: remove_urls(tweet))"
   ]
  },
  {
   "cell_type": "code",
   "execution_count": 1,
   "id": "unusual-appendix",
   "metadata": {},
   "outputs": [
    {
     "name": "stderr",
     "output_type": "stream",
     "text": [
      "[nltk_data] Downloading package wordnet to\n",
      "[nltk_data]     C:\\Users\\vissh\\AppData\\Roaming\\nltk_data...\n",
      "[nltk_data]   Package wordnet is already up-to-date!\n"
     ]
    },
    {
     "data": {
      "text/plain": [
       "True"
      ]
     },
     "execution_count": 1,
     "metadata": {},
     "output_type": "execute_result"
    }
   ],
   "source": [
    "import nltk\n",
    "nltk.download('wordnet')"
   ]
  },
  {
   "cell_type": "code",
   "execution_count": 10,
   "id": "coupled-wright",
   "metadata": {},
   "outputs": [],
   "source": [
    "from nltk.stem import WordNetLemmatizer\n",
    "\n",
    "data['tweet_lem'] = [''.join([WordNetLemmatizer().lemmatize(re.sub('[^A-Za-z]',' ',tweet)) for tweet in lis]) \n",
    "                     for lis in data['tweet_w/o_url']]"
   ]
  },
  {
   "cell_type": "code",
   "execution_count": 11,
   "id": "flexible-resolution",
   "metadata": {},
   "outputs": [],
   "source": [
    "data[\"tokenized_tweet\"] = data[\"tweet_lem\"].apply(lambda x: x.split())"
   ]
  },
  {
   "cell_type": "code",
   "execution_count": 12,
   "id": "heated-decision",
   "metadata": {},
   "outputs": [
    {
     "data": {
      "text/html": [
       "<div>\n",
       "<style scoped>\n",
       "    .dataframe tbody tr th:only-of-type {\n",
       "        vertical-align: middle;\n",
       "    }\n",
       "\n",
       "    .dataframe tbody tr th {\n",
       "        vertical-align: top;\n",
       "    }\n",
       "\n",
       "    .dataframe thead th {\n",
       "        text-align: right;\n",
       "    }\n",
       "</style>\n",
       "<table border=\"1\" class=\"dataframe\">\n",
       "  <thead>\n",
       "    <tr style=\"text-align: right;\">\n",
       "      <th></th>\n",
       "      <th>index</th>\n",
       "      <th>count</th>\n",
       "      <th>hate_speech</th>\n",
       "      <th>offensive_language</th>\n",
       "      <th>neither</th>\n",
       "      <th>class</th>\n",
       "      <th>tweet</th>\n",
       "      <th>tweets_w/o_space</th>\n",
       "      <th>tweet_w/o_url</th>\n",
       "      <th>tweet_lem</th>\n",
       "      <th>tokenized_tweet</th>\n",
       "    </tr>\n",
       "  </thead>\n",
       "  <tbody>\n",
       "    <tr>\n",
       "      <th>0</th>\n",
       "      <td>0</td>\n",
       "      <td>3</td>\n",
       "      <td>0</td>\n",
       "      <td>0</td>\n",
       "      <td>3</td>\n",
       "      <td>2</td>\n",
       "      <td>!!! RT @mayasolovely: As a woman you shouldn't...</td>\n",
       "      <td>!!! rt @mayasolovely: as a woman you shouldn't...</td>\n",
       "      <td>!!! rt @mayasolovely: as a woman you shouldn't...</td>\n",
       "      <td>rt  mayasolovely  as a woman you shouldn t...</td>\n",
       "      <td>[rt, mayasolovely, as, a, woman, you, shouldn,...</td>\n",
       "    </tr>\n",
       "    <tr>\n",
       "      <th>1</th>\n",
       "      <td>1</td>\n",
       "      <td>3</td>\n",
       "      <td>0</td>\n",
       "      <td>3</td>\n",
       "      <td>0</td>\n",
       "      <td>1</td>\n",
       "      <td>!!!!! RT @mleew17: boy dats cold...tyga dwn ba...</td>\n",
       "      <td>!!!!! rt @mleewnumbr: boy dats cold...tyga dwn...</td>\n",
       "      <td>!!!!! rt @mleewnumbr: boy dats cold...tyga dwn...</td>\n",
       "      <td>rt  mleewnumbr  boy dats cold   tyga dwn...</td>\n",
       "      <td>[rt, mleewnumbr, boy, dats, cold, tyga, dwn, b...</td>\n",
       "    </tr>\n",
       "    <tr>\n",
       "      <th>2</th>\n",
       "      <td>2</td>\n",
       "      <td>3</td>\n",
       "      <td>0</td>\n",
       "      <td>3</td>\n",
       "      <td>0</td>\n",
       "      <td>1</td>\n",
       "      <td>!!!!!!! RT @UrKindOfBrand Dawg!!!! RT @80sbaby...</td>\n",
       "      <td>!!!!!!! rt @urkindofbrand dawg!!!! rt @numbrsb...</td>\n",
       "      <td>!!!!!!! rt @urkindofbrand dawg!!!! rt @numbrsb...</td>\n",
       "      <td>rt  urkindofbrand dawg     rt  numbrsb...</td>\n",
       "      <td>[rt, urkindofbrand, dawg, rt, numbrsbabynumbrl...</td>\n",
       "    </tr>\n",
       "    <tr>\n",
       "      <th>3</th>\n",
       "      <td>3</td>\n",
       "      <td>3</td>\n",
       "      <td>0</td>\n",
       "      <td>2</td>\n",
       "      <td>1</td>\n",
       "      <td>1</td>\n",
       "      <td>!!!!!!!!! RT @C_G_Anderson: @viva_based she lo...</td>\n",
       "      <td>!!!!!!!!! rt @c_g_anderson: @viva_based she lo...</td>\n",
       "      <td>!!!!!!!!! rt @c_g_anderson: @viva_based she lo...</td>\n",
       "      <td>rt  c g anderson   viva based she lo...</td>\n",
       "      <td>[rt, c, g, anderson, viva, based, she, look, l...</td>\n",
       "    </tr>\n",
       "    <tr>\n",
       "      <th>4</th>\n",
       "      <td>4</td>\n",
       "      <td>6</td>\n",
       "      <td>0</td>\n",
       "      <td>6</td>\n",
       "      <td>0</td>\n",
       "      <td>1</td>\n",
       "      <td>!!!!!!!!!!!!! RT @ShenikaRoberts: The shit you...</td>\n",
       "      <td>!!!!!!!!!!!!! rt @shenikaroberts: the shit you...</td>\n",
       "      <td>!!!!!!!!!!!!! rt @shenikaroberts: the shit you...</td>\n",
       "      <td>rt  shenikaroberts  the shit you...</td>\n",
       "      <td>[rt, shenikaroberts, the, shit, you, hear, abo...</td>\n",
       "    </tr>\n",
       "  </tbody>\n",
       "</table>\n",
       "</div>"
      ],
      "text/plain": [
       "   index  count  hate_speech  offensive_language  neither  class  \\\n",
       "0      0      3            0                   0        3      2   \n",
       "1      1      3            0                   3        0      1   \n",
       "2      2      3            0                   3        0      1   \n",
       "3      3      3            0                   2        1      1   \n",
       "4      4      6            0                   6        0      1   \n",
       "\n",
       "                                               tweet  \\\n",
       "0  !!! RT @mayasolovely: As a woman you shouldn't...   \n",
       "1  !!!!! RT @mleew17: boy dats cold...tyga dwn ba...   \n",
       "2  !!!!!!! RT @UrKindOfBrand Dawg!!!! RT @80sbaby...   \n",
       "3  !!!!!!!!! RT @C_G_Anderson: @viva_based she lo...   \n",
       "4  !!!!!!!!!!!!! RT @ShenikaRoberts: The shit you...   \n",
       "\n",
       "                                    tweets_w/o_space  \\\n",
       "0  !!! rt @mayasolovely: as a woman you shouldn't...   \n",
       "1  !!!!! rt @mleewnumbr: boy dats cold...tyga dwn...   \n",
       "2  !!!!!!! rt @urkindofbrand dawg!!!! rt @numbrsb...   \n",
       "3  !!!!!!!!! rt @c_g_anderson: @viva_based she lo...   \n",
       "4  !!!!!!!!!!!!! rt @shenikaroberts: the shit you...   \n",
       "\n",
       "                                       tweet_w/o_url  \\\n",
       "0  !!! rt @mayasolovely: as a woman you shouldn't...   \n",
       "1  !!!!! rt @mleewnumbr: boy dats cold...tyga dwn...   \n",
       "2  !!!!!!! rt @urkindofbrand dawg!!!! rt @numbrsb...   \n",
       "3  !!!!!!!!! rt @c_g_anderson: @viva_based she lo...   \n",
       "4  !!!!!!!!!!!!! rt @shenikaroberts: the shit you...   \n",
       "\n",
       "                                           tweet_lem  \\\n",
       "0      rt  mayasolovely  as a woman you shouldn t...   \n",
       "1        rt  mleewnumbr  boy dats cold   tyga dwn...   \n",
       "2          rt  urkindofbrand dawg     rt  numbrsb...   \n",
       "3            rt  c g anderson   viva based she lo...   \n",
       "4                rt  shenikaroberts  the shit you...   \n",
       "\n",
       "                                     tokenized_tweet  \n",
       "0  [rt, mayasolovely, as, a, woman, you, shouldn,...  \n",
       "1  [rt, mleewnumbr, boy, dats, cold, tyga, dwn, b...  \n",
       "2  [rt, urkindofbrand, dawg, rt, numbrsbabynumbrl...  \n",
       "3  [rt, c, g, anderson, viva, based, she, look, l...  \n",
       "4  [rt, shenikaroberts, the, shit, you, hear, abo...  "
      ]
     },
     "execution_count": 12,
     "metadata": {},
     "output_type": "execute_result"
    }
   ],
   "source": [
    "data.head()"
   ]
  },
  {
   "cell_type": "code",
   "execution_count": 2,
   "id": "traditional-things",
   "metadata": {},
   "outputs": [
    {
     "name": "stderr",
     "output_type": "stream",
     "text": [
      "[nltk_data] Downloading package stopwords to\n",
      "[nltk_data]     C:\\Users\\vissh\\AppData\\Roaming\\nltk_data...\n",
      "[nltk_data]   Package stopwords is already up-to-date!\n"
     ]
    },
    {
     "data": {
      "text/plain": [
       "True"
      ]
     },
     "execution_count": 2,
     "metadata": {},
     "output_type": "execute_result"
    }
   ],
   "source": [
    "import nltk\n",
    "nltk.download('stopwords')"
   ]
  },
  {
   "cell_type": "code",
   "execution_count": 14,
   "id": "boolean-algebra",
   "metadata": {},
   "outputs": [],
   "source": [
    "stopwords = nltk.corpus.stopwords.words(\"english\")\n",
    "other_exclusions = [\"#ff\", \"ff\", \"rt\"]\n",
    "stopwords.extend(other_exclusions)\n",
    "stemmer = PorterStemmer()"
   ]
  },
  {
   "cell_type": "code",
   "execution_count": 15,
   "id": "abroad-worth",
   "metadata": {},
   "outputs": [
    {
     "data": {
      "text/html": [
       "<div>\n",
       "<style scoped>\n",
       "    .dataframe tbody tr th:only-of-type {\n",
       "        vertical-align: middle;\n",
       "    }\n",
       "\n",
       "    .dataframe tbody tr th {\n",
       "        vertical-align: top;\n",
       "    }\n",
       "\n",
       "    .dataframe thead th {\n",
       "        text-align: right;\n",
       "    }\n",
       "</style>\n",
       "<table border=\"1\" class=\"dataframe\">\n",
       "  <thead>\n",
       "    <tr style=\"text-align: right;\">\n",
       "      <th></th>\n",
       "      <th>index</th>\n",
       "      <th>count</th>\n",
       "      <th>hate_speech</th>\n",
       "      <th>offensive_language</th>\n",
       "      <th>neither</th>\n",
       "      <th>class</th>\n",
       "      <th>tweet</th>\n",
       "      <th>tweets_w/o_space</th>\n",
       "      <th>tweet_w/o_url</th>\n",
       "      <th>tweet_lem</th>\n",
       "      <th>tokenized_tweet</th>\n",
       "      <th>tweet_w/o_stop</th>\n",
       "    </tr>\n",
       "  </thead>\n",
       "  <tbody>\n",
       "    <tr>\n",
       "      <th>0</th>\n",
       "      <td>0</td>\n",
       "      <td>3</td>\n",
       "      <td>0</td>\n",
       "      <td>0</td>\n",
       "      <td>3</td>\n",
       "      <td>2</td>\n",
       "      <td>!!! RT @mayasolovely: As a woman you shouldn't...</td>\n",
       "      <td>!!! rt @mayasolovely: as a woman you shouldn't...</td>\n",
       "      <td>!!! rt @mayasolovely: as a woman you shouldn't...</td>\n",
       "      <td>rt  mayasolovely  as a woman you shouldn t...</td>\n",
       "      <td>[rt, mayasolovely, as, a, woman, you, shouldn,...</td>\n",
       "      <td>[mayasolovely, woman, complain, cleaning, hous...</td>\n",
       "    </tr>\n",
       "    <tr>\n",
       "      <th>1</th>\n",
       "      <td>1</td>\n",
       "      <td>3</td>\n",
       "      <td>0</td>\n",
       "      <td>3</td>\n",
       "      <td>0</td>\n",
       "      <td>1</td>\n",
       "      <td>!!!!! RT @mleew17: boy dats cold...tyga dwn ba...</td>\n",
       "      <td>!!!!! rt @mleewnumbr: boy dats cold...tyga dwn...</td>\n",
       "      <td>!!!!! rt @mleewnumbr: boy dats cold...tyga dwn...</td>\n",
       "      <td>rt  mleewnumbr  boy dats cold   tyga dwn...</td>\n",
       "      <td>[rt, mleewnumbr, boy, dats, cold, tyga, dwn, b...</td>\n",
       "      <td>[mleewnumbr, boy, dats, cold, tyga, dwn, bad, ...</td>\n",
       "    </tr>\n",
       "    <tr>\n",
       "      <th>2</th>\n",
       "      <td>2</td>\n",
       "      <td>3</td>\n",
       "      <td>0</td>\n",
       "      <td>3</td>\n",
       "      <td>0</td>\n",
       "      <td>1</td>\n",
       "      <td>!!!!!!! RT @UrKindOfBrand Dawg!!!! RT @80sbaby...</td>\n",
       "      <td>!!!!!!! rt @urkindofbrand dawg!!!! rt @numbrsb...</td>\n",
       "      <td>!!!!!!! rt @urkindofbrand dawg!!!! rt @numbrsb...</td>\n",
       "      <td>rt  urkindofbrand dawg     rt  numbrsb...</td>\n",
       "      <td>[rt, urkindofbrand, dawg, rt, numbrsbabynumbrl...</td>\n",
       "      <td>[urkindofbrand, dawg, numbrsbabynumbrlife, eve...</td>\n",
       "    </tr>\n",
       "    <tr>\n",
       "      <th>3</th>\n",
       "      <td>3</td>\n",
       "      <td>3</td>\n",
       "      <td>0</td>\n",
       "      <td>2</td>\n",
       "      <td>1</td>\n",
       "      <td>1</td>\n",
       "      <td>!!!!!!!!! RT @C_G_Anderson: @viva_based she lo...</td>\n",
       "      <td>!!!!!!!!! rt @c_g_anderson: @viva_based she lo...</td>\n",
       "      <td>!!!!!!!!! rt @c_g_anderson: @viva_based she lo...</td>\n",
       "      <td>rt  c g anderson   viva based she lo...</td>\n",
       "      <td>[rt, c, g, anderson, viva, based, she, look, l...</td>\n",
       "      <td>[c, g, anderson, viva, based, look, like, tranny]</td>\n",
       "    </tr>\n",
       "    <tr>\n",
       "      <th>4</th>\n",
       "      <td>4</td>\n",
       "      <td>6</td>\n",
       "      <td>0</td>\n",
       "      <td>6</td>\n",
       "      <td>0</td>\n",
       "      <td>1</td>\n",
       "      <td>!!!!!!!!!!!!! RT @ShenikaRoberts: The shit you...</td>\n",
       "      <td>!!!!!!!!!!!!! rt @shenikaroberts: the shit you...</td>\n",
       "      <td>!!!!!!!!!!!!! rt @shenikaroberts: the shit you...</td>\n",
       "      <td>rt  shenikaroberts  the shit you...</td>\n",
       "      <td>[rt, shenikaroberts, the, shit, you, hear, abo...</td>\n",
       "      <td>[shenikaroberts, shit, hear, might, true, migh...</td>\n",
       "    </tr>\n",
       "  </tbody>\n",
       "</table>\n",
       "</div>"
      ],
      "text/plain": [
       "   index  count  hate_speech  offensive_language  neither  class  \\\n",
       "0      0      3            0                   0        3      2   \n",
       "1      1      3            0                   3        0      1   \n",
       "2      2      3            0                   3        0      1   \n",
       "3      3      3            0                   2        1      1   \n",
       "4      4      6            0                   6        0      1   \n",
       "\n",
       "                                               tweet  \\\n",
       "0  !!! RT @mayasolovely: As a woman you shouldn't...   \n",
       "1  !!!!! RT @mleew17: boy dats cold...tyga dwn ba...   \n",
       "2  !!!!!!! RT @UrKindOfBrand Dawg!!!! RT @80sbaby...   \n",
       "3  !!!!!!!!! RT @C_G_Anderson: @viva_based she lo...   \n",
       "4  !!!!!!!!!!!!! RT @ShenikaRoberts: The shit you...   \n",
       "\n",
       "                                    tweets_w/o_space  \\\n",
       "0  !!! rt @mayasolovely: as a woman you shouldn't...   \n",
       "1  !!!!! rt @mleewnumbr: boy dats cold...tyga dwn...   \n",
       "2  !!!!!!! rt @urkindofbrand dawg!!!! rt @numbrsb...   \n",
       "3  !!!!!!!!! rt @c_g_anderson: @viva_based she lo...   \n",
       "4  !!!!!!!!!!!!! rt @shenikaroberts: the shit you...   \n",
       "\n",
       "                                       tweet_w/o_url  \\\n",
       "0  !!! rt @mayasolovely: as a woman you shouldn't...   \n",
       "1  !!!!! rt @mleewnumbr: boy dats cold...tyga dwn...   \n",
       "2  !!!!!!! rt @urkindofbrand dawg!!!! rt @numbrsb...   \n",
       "3  !!!!!!!!! rt @c_g_anderson: @viva_based she lo...   \n",
       "4  !!!!!!!!!!!!! rt @shenikaroberts: the shit you...   \n",
       "\n",
       "                                           tweet_lem  \\\n",
       "0      rt  mayasolovely  as a woman you shouldn t...   \n",
       "1        rt  mleewnumbr  boy dats cold   tyga dwn...   \n",
       "2          rt  urkindofbrand dawg     rt  numbrsb...   \n",
       "3            rt  c g anderson   viva based she lo...   \n",
       "4                rt  shenikaroberts  the shit you...   \n",
       "\n",
       "                                     tokenized_tweet  \\\n",
       "0  [rt, mayasolovely, as, a, woman, you, shouldn,...   \n",
       "1  [rt, mleewnumbr, boy, dats, cold, tyga, dwn, b...   \n",
       "2  [rt, urkindofbrand, dawg, rt, numbrsbabynumbrl...   \n",
       "3  [rt, c, g, anderson, viva, based, she, look, l...   \n",
       "4  [rt, shenikaroberts, the, shit, you, hear, abo...   \n",
       "\n",
       "                                      tweet_w/o_stop  \n",
       "0  [mayasolovely, woman, complain, cleaning, hous...  \n",
       "1  [mleewnumbr, boy, dats, cold, tyga, dwn, bad, ...  \n",
       "2  [urkindofbrand, dawg, numbrsbabynumbrlife, eve...  \n",
       "3  [c, g, anderson, viva, based, look, like, tranny]  \n",
       "4  [shenikaroberts, shit, hear, might, true, migh...  "
      ]
     },
     "execution_count": 15,
     "metadata": {},
     "output_type": "execute_result"
    }
   ],
   "source": [
    "data[\"tweet_w/o_stop\"] = data[\"tokenized_tweet\"].apply(lambda x: [item for item in x if item not in stopwords])\n",
    "data.head()"
   ]
  },
  {
   "cell_type": "code",
   "execution_count": 16,
   "id": "narrow-religious",
   "metadata": {},
   "outputs": [],
   "source": [
    "processed_tweet = data[\"tweet_w/o_stop\"].apply(lambda x: [stemmer.stem(i) for i in x]) \n",
    "    "
   ]
  },
  {
   "cell_type": "code",
   "execution_count": 17,
   "id": "developmental-nickel",
   "metadata": {},
   "outputs": [],
   "source": [
    " for i in range(len(processed_tweet)):\n",
    "        processed_tweet[i] = ' '.join(processed_tweet[i])\n",
    "        tweets_p= processed_tweet"
   ]
  },
  {
   "cell_type": "code",
   "execution_count": 18,
   "id": "desperate-trader",
   "metadata": {},
   "outputs": [],
   "source": [
    "data['processed_tweet'] = tweets_p"
   ]
  },
  {
   "cell_type": "code",
   "execution_count": 19,
   "id": "developed-invite",
   "metadata": {},
   "outputs": [
    {
     "data": {
      "text/html": [
       "<div>\n",
       "<style scoped>\n",
       "    .dataframe tbody tr th:only-of-type {\n",
       "        vertical-align: middle;\n",
       "    }\n",
       "\n",
       "    .dataframe tbody tr th {\n",
       "        vertical-align: top;\n",
       "    }\n",
       "\n",
       "    .dataframe thead th {\n",
       "        text-align: right;\n",
       "    }\n",
       "</style>\n",
       "<table border=\"1\" class=\"dataframe\">\n",
       "  <thead>\n",
       "    <tr style=\"text-align: right;\">\n",
       "      <th></th>\n",
       "      <th>index</th>\n",
       "      <th>count</th>\n",
       "      <th>hate_speech</th>\n",
       "      <th>offensive_language</th>\n",
       "      <th>neither</th>\n",
       "      <th>class</th>\n",
       "      <th>tweet</th>\n",
       "      <th>tweets_w/o_space</th>\n",
       "      <th>tweet_w/o_url</th>\n",
       "      <th>tweet_lem</th>\n",
       "      <th>tokenized_tweet</th>\n",
       "      <th>tweet_w/o_stop</th>\n",
       "      <th>processed_tweet</th>\n",
       "    </tr>\n",
       "  </thead>\n",
       "  <tbody>\n",
       "    <tr>\n",
       "      <th>0</th>\n",
       "      <td>0</td>\n",
       "      <td>3</td>\n",
       "      <td>0</td>\n",
       "      <td>0</td>\n",
       "      <td>3</td>\n",
       "      <td>2</td>\n",
       "      <td>!!! RT @mayasolovely: As a woman you shouldn't...</td>\n",
       "      <td>!!! rt @mayasolovely: as a woman you shouldn't...</td>\n",
       "      <td>!!! rt @mayasolovely: as a woman you shouldn't...</td>\n",
       "      <td>rt  mayasolovely  as a woman you shouldn t...</td>\n",
       "      <td>[rt, mayasolovely, as, a, woman, you, shouldn,...</td>\n",
       "      <td>[mayasolovely, woman, complain, cleaning, hous...</td>\n",
       "      <td>mayasolov woman complain clean hous amp man al...</td>\n",
       "    </tr>\n",
       "    <tr>\n",
       "      <th>1</th>\n",
       "      <td>1</td>\n",
       "      <td>3</td>\n",
       "      <td>0</td>\n",
       "      <td>3</td>\n",
       "      <td>0</td>\n",
       "      <td>1</td>\n",
       "      <td>!!!!! RT @mleew17: boy dats cold...tyga dwn ba...</td>\n",
       "      <td>!!!!! rt @mleewnumbr: boy dats cold...tyga dwn...</td>\n",
       "      <td>!!!!! rt @mleewnumbr: boy dats cold...tyga dwn...</td>\n",
       "      <td>rt  mleewnumbr  boy dats cold   tyga dwn...</td>\n",
       "      <td>[rt, mleewnumbr, boy, dats, cold, tyga, dwn, b...</td>\n",
       "      <td>[mleewnumbr, boy, dats, cold, tyga, dwn, bad, ...</td>\n",
       "      <td>mleewnumbr boy dat cold tyga dwn bad cuffin da...</td>\n",
       "    </tr>\n",
       "    <tr>\n",
       "      <th>2</th>\n",
       "      <td>2</td>\n",
       "      <td>3</td>\n",
       "      <td>0</td>\n",
       "      <td>3</td>\n",
       "      <td>0</td>\n",
       "      <td>1</td>\n",
       "      <td>!!!!!!! RT @UrKindOfBrand Dawg!!!! RT @80sbaby...</td>\n",
       "      <td>!!!!!!! rt @urkindofbrand dawg!!!! rt @numbrsb...</td>\n",
       "      <td>!!!!!!! rt @urkindofbrand dawg!!!! rt @numbrsb...</td>\n",
       "      <td>rt  urkindofbrand dawg     rt  numbrsb...</td>\n",
       "      <td>[rt, urkindofbrand, dawg, rt, numbrsbabynumbrl...</td>\n",
       "      <td>[urkindofbrand, dawg, numbrsbabynumbrlife, eve...</td>\n",
       "      <td>urkindofbrand dawg numbrsbabynumbrlif ever fuc...</td>\n",
       "    </tr>\n",
       "    <tr>\n",
       "      <th>3</th>\n",
       "      <td>3</td>\n",
       "      <td>3</td>\n",
       "      <td>0</td>\n",
       "      <td>2</td>\n",
       "      <td>1</td>\n",
       "      <td>1</td>\n",
       "      <td>!!!!!!!!! RT @C_G_Anderson: @viva_based she lo...</td>\n",
       "      <td>!!!!!!!!! rt @c_g_anderson: @viva_based she lo...</td>\n",
       "      <td>!!!!!!!!! rt @c_g_anderson: @viva_based she lo...</td>\n",
       "      <td>rt  c g anderson   viva based she lo...</td>\n",
       "      <td>[rt, c, g, anderson, viva, based, she, look, l...</td>\n",
       "      <td>[c, g, anderson, viva, based, look, like, tranny]</td>\n",
       "      <td>c g anderson viva base look like tranni</td>\n",
       "    </tr>\n",
       "    <tr>\n",
       "      <th>4</th>\n",
       "      <td>4</td>\n",
       "      <td>6</td>\n",
       "      <td>0</td>\n",
       "      <td>6</td>\n",
       "      <td>0</td>\n",
       "      <td>1</td>\n",
       "      <td>!!!!!!!!!!!!! RT @ShenikaRoberts: The shit you...</td>\n",
       "      <td>!!!!!!!!!!!!! rt @shenikaroberts: the shit you...</td>\n",
       "      <td>!!!!!!!!!!!!! rt @shenikaroberts: the shit you...</td>\n",
       "      <td>rt  shenikaroberts  the shit you...</td>\n",
       "      <td>[rt, shenikaroberts, the, shit, you, hear, abo...</td>\n",
       "      <td>[shenikaroberts, shit, hear, might, true, migh...</td>\n",
       "      <td>shenikarobert shit hear might true might faker...</td>\n",
       "    </tr>\n",
       "  </tbody>\n",
       "</table>\n",
       "</div>"
      ],
      "text/plain": [
       "   index  count  hate_speech  offensive_language  neither  class  \\\n",
       "0      0      3            0                   0        3      2   \n",
       "1      1      3            0                   3        0      1   \n",
       "2      2      3            0                   3        0      1   \n",
       "3      3      3            0                   2        1      1   \n",
       "4      4      6            0                   6        0      1   \n",
       "\n",
       "                                               tweet  \\\n",
       "0  !!! RT @mayasolovely: As a woman you shouldn't...   \n",
       "1  !!!!! RT @mleew17: boy dats cold...tyga dwn ba...   \n",
       "2  !!!!!!! RT @UrKindOfBrand Dawg!!!! RT @80sbaby...   \n",
       "3  !!!!!!!!! RT @C_G_Anderson: @viva_based she lo...   \n",
       "4  !!!!!!!!!!!!! RT @ShenikaRoberts: The shit you...   \n",
       "\n",
       "                                    tweets_w/o_space  \\\n",
       "0  !!! rt @mayasolovely: as a woman you shouldn't...   \n",
       "1  !!!!! rt @mleewnumbr: boy dats cold...tyga dwn...   \n",
       "2  !!!!!!! rt @urkindofbrand dawg!!!! rt @numbrsb...   \n",
       "3  !!!!!!!!! rt @c_g_anderson: @viva_based she lo...   \n",
       "4  !!!!!!!!!!!!! rt @shenikaroberts: the shit you...   \n",
       "\n",
       "                                       tweet_w/o_url  \\\n",
       "0  !!! rt @mayasolovely: as a woman you shouldn't...   \n",
       "1  !!!!! rt @mleewnumbr: boy dats cold...tyga dwn...   \n",
       "2  !!!!!!! rt @urkindofbrand dawg!!!! rt @numbrsb...   \n",
       "3  !!!!!!!!! rt @c_g_anderson: @viva_based she lo...   \n",
       "4  !!!!!!!!!!!!! rt @shenikaroberts: the shit you...   \n",
       "\n",
       "                                           tweet_lem  \\\n",
       "0      rt  mayasolovely  as a woman you shouldn t...   \n",
       "1        rt  mleewnumbr  boy dats cold   tyga dwn...   \n",
       "2          rt  urkindofbrand dawg     rt  numbrsb...   \n",
       "3            rt  c g anderson   viva based she lo...   \n",
       "4                rt  shenikaroberts  the shit you...   \n",
       "\n",
       "                                     tokenized_tweet  \\\n",
       "0  [rt, mayasolovely, as, a, woman, you, shouldn,...   \n",
       "1  [rt, mleewnumbr, boy, dats, cold, tyga, dwn, b...   \n",
       "2  [rt, urkindofbrand, dawg, rt, numbrsbabynumbrl...   \n",
       "3  [rt, c, g, anderson, viva, based, she, look, l...   \n",
       "4  [rt, shenikaroberts, the, shit, you, hear, abo...   \n",
       "\n",
       "                                      tweet_w/o_stop  \\\n",
       "0  [mayasolovely, woman, complain, cleaning, hous...   \n",
       "1  [mleewnumbr, boy, dats, cold, tyga, dwn, bad, ...   \n",
       "2  [urkindofbrand, dawg, numbrsbabynumbrlife, eve...   \n",
       "3  [c, g, anderson, viva, based, look, like, tranny]   \n",
       "4  [shenikaroberts, shit, hear, might, true, migh...   \n",
       "\n",
       "                                     processed_tweet  \n",
       "0  mayasolov woman complain clean hous amp man al...  \n",
       "1  mleewnumbr boy dat cold tyga dwn bad cuffin da...  \n",
       "2  urkindofbrand dawg numbrsbabynumbrlif ever fuc...  \n",
       "3            c g anderson viva base look like tranni  \n",
       "4  shenikarobert shit hear might true might faker...  "
      ]
     },
     "execution_count": 19,
     "metadata": {},
     "output_type": "execute_result"
    }
   ],
   "source": [
    "data.head()"
   ]
  },
  {
   "cell_type": "code",
   "execution_count": 20,
   "id": "foreign-german",
   "metadata": {},
   "outputs": [
    {
     "data": {
      "text/plain": [
       "0        !!! RT @mayasolovely: As a woman you shouldn't...\n",
       "1        !!!!! RT @mleew17: boy dats cold...tyga dwn ba...\n",
       "2        !!!!!!! RT @UrKindOfBrand Dawg!!!! RT @80sbaby...\n",
       "3        !!!!!!!!! RT @C_G_Anderson: @viva_based she lo...\n",
       "4        !!!!!!!!!!!!! RT @ShenikaRoberts: The shit you...\n",
       "                               ...                        \n",
       "24778    you's a muthaf***in lie &#8220;@LifeAsKing: @2...\n",
       "24779    you've gone and broke the wrong heart baby, an...\n",
       "24780    young buck wanna eat!!.. dat nigguh like I ain...\n",
       "24781                youu got wild bitches tellin you lies\n",
       "24782    ~~Ruffled | Ntac Eileen Dahlia - Beautiful col...\n",
       "Name: tweet, Length: 24783, dtype: object"
      ]
     },
     "execution_count": 20,
     "metadata": {},
     "output_type": "execute_result"
    }
   ],
   "source": [
    "data.tweet"
   ]
  },
  {
   "cell_type": "code",
   "execution_count": 21,
   "id": "crucial-madonna",
   "metadata": {},
   "outputs": [
    {
     "data": {
      "text/plain": [
       "0        mayasolov woman complain clean hous amp man al...\n",
       "1        mleewnumbr boy dat cold tyga dwn bad cuffin da...\n",
       "2        urkindofbrand dawg numbrsbabynumbrlif ever fuc...\n",
       "3                  c g anderson viva base look like tranni\n",
       "4        shenikarobert shit hear might true might faker...\n",
       "                               ...                        \n",
       "24778    muthaf lie numbr lifeask numbr pearl corey ema...\n",
       "24779      gone broke wrong heart babi drove redneck crazi\n",
       "24780    young buck wanna eat dat nigguh like aint fuck...\n",
       "24781                       youu got wild bitch tellin lie\n",
       "24782    ruffl ntac eileen dahlia beauti color combin p...\n",
       "Name: processed_tweet, Length: 24783, dtype: object"
      ]
     },
     "execution_count": 21,
     "metadata": {},
     "output_type": "execute_result"
    }
   ],
   "source": [
    "data.processed_tweet"
   ]
  },
  {
   "cell_type": "code",
   "execution_count": 22,
   "id": "d15058e8",
   "metadata": {},
   "outputs": [],
   "source": [
    "tweetstop = data['tweet_w/o_stop'] "
   ]
  },
  {
   "cell_type": "code",
   "execution_count": 23,
   "id": "44947b3e",
   "metadata": {},
   "outputs": [],
   "source": [
    "labels = data['class']"
   ]
  },
  {
   "cell_type": "code",
   "execution_count": 24,
   "id": "d6e95c42",
   "metadata": {},
   "outputs": [],
   "source": [
    "from sklearn.preprocessing import OneHotEncoder\n",
    "\n",
    "encoder = OneHotEncoder(sparse=False)\n",
    "\n",
    "labels = encoder.fit_transform(np.array(labels).reshape(-1, 1))"
   ]
  },
  {
   "cell_type": "code",
   "execution_count": 25,
   "id": "4514c3a5",
   "metadata": {},
   "outputs": [],
   "source": [
    "from nltk.tokenize.treebank import TreebankWordDetokenizer\n",
    "def detokenize(text):\n",
    "    return TreebankWordDetokenizer().detokenize(text)"
   ]
  },
  {
   "cell_type": "code",
   "execution_count": 26,
   "id": "9c43ff27",
   "metadata": {},
   "outputs": [
    {
     "name": "stdout",
     "output_type": "stream",
     "text": [
      "['mayasolovely woman complain cleaning house amp man always take trash', 'mleewnumbr boy dats cold tyga dwn bad cuffin dat hoe numbrst place', 'urkindofbrand dawg numbrsbabynumbrlife ever fuck bitch start cry confused shit', 'c g anderson viva based look like tranny', 'shenikaroberts shit hear might true might faker bitch told ya numbr']\n"
     ]
    }
   ],
   "source": [
    "data1 = []\n",
    "\n",
    "for i in range(len(tweetstop)):\n",
    "    data1.append(detokenize(tweetstop[i]))\n",
    "print(data1[:5])"
   ]
  },
  {
   "cell_type": "code",
   "execution_count": 27,
   "id": "d1a27356",
   "metadata": {},
   "outputs": [],
   "source": [
    "data1 = np.array(data1)"
   ]
  },
  {
   "cell_type": "code",
   "execution_count": 28,
   "id": "681675ae",
   "metadata": {},
   "outputs": [
    {
     "name": "stdout",
     "output_type": "stream",
     "text": [
      "[[   0    0    0 ...   83   76   15]\n",
      " [   0    0    0 ...    7  605  414]\n",
      " [   0    0    0 ...  470  900   12]\n",
      " ...\n",
      " [   0    0    0 ...   96   95  246]\n",
      " [   0    0    0 ...    3 1826 1247]\n",
      " [   0    0    0 ...   94   17   48]]\n"
     ]
    }
   ],
   "source": [
    "max_words = 5000\n",
    "max_len = 200\n",
    "\n",
    "tokenizer = Tokenizer(num_words=max_words)\n",
    "tokenizer.fit_on_texts(data1)\n",
    "sequences = tokenizer.texts_to_sequences(data1)\n",
    "tweets_in = pad_sequences(sequences, maxlen=max_len)\n",
    "print(tweets_in)"
   ]
  },
  {
   "cell_type": "code",
   "execution_count": 29,
   "id": "fceb8430",
   "metadata": {},
   "outputs": [
    {
     "name": "stdout",
     "output_type": "stream",
     "text": [
      "18587 6196 18587 6196\n"
     ]
    }
   ],
   "source": [
    "from sklearn.model_selection import train_test_split\n",
    "X_train, X_test, y_train, y_test = train_test_split(tweets_in,labels, random_state=0)\n",
    "print (len(X_train),len(X_test),len(y_train),len(y_test))"
   ]
  },
  {
   "cell_type": "code",
   "execution_count": 30,
   "id": "675f383e",
   "metadata": {},
   "outputs": [],
   "source": [
    "model = Sequential()\n",
    "\n",
    "model.add(layers.Embedding(max_words, 20))\n",
    "\n",
    "model.add(layers.LSTM(15,dropout=0.5))\n",
    "\n",
    "model.add(layers.Flatten())\n",
    "model.add(layers.Dropout(0.25))\n",
    "\n",
    "model.add(layers.Dense(512,activation='relu'))\n",
    "model.add(layers.Dense(3,activation='softmax'))\n",
    "\n",
    "model.compile(optimizer='adam',loss='categorical_crossentropy', metrics=['accuracy'])"
   ]
  },
  {
   "cell_type": "code",
   "execution_count": 31,
   "id": "ec9feeb4",
   "metadata": {},
   "outputs": [
    {
     "name": "stdout",
     "output_type": "stream",
     "text": [
      "WARNING:tensorflow:`period` argument is deprecated. Please use `save_freq` to specify the frequency in number of batches seen.\n"
     ]
    }
   ],
   "source": [
    "checkpoint = ModelCheckpoint(\"best_model.hdf5\", monitor='val_accuracy', verbose=1,save_best_only=True, mode='auto',\n",
    "                             period=1,save_weights_only=False)"
   ]
  },
  {
   "cell_type": "code",
   "execution_count": 32,
   "id": "debe8dda",
   "metadata": {},
   "outputs": [
    {
     "name": "stdout",
     "output_type": "stream",
     "text": [
      "Epoch 1/10\n",
      "20/20 [==============================] - ETA: 0s - loss: 0.9616 - accuracy: 0.7525\n",
      "Epoch 00001: val_accuracy improved from -inf to 0.77469, saving model to best_model.hdf5\n",
      "20/20 [==============================] - 9s 429ms/step - loss: 0.9616 - accuracy: 0.7525 - val_loss: 0.7381 - val_accuracy: 0.7747\n",
      "Epoch 2/10\n",
      "20/20 [==============================] - ETA: 0s - loss: 0.6738 - accuracy: 0.7742\n",
      "Epoch 00002: val_accuracy did not improve from 0.77469\n",
      "20/20 [==============================] - 9s 460ms/step - loss: 0.6738 - accuracy: 0.7742 - val_loss: 0.6357 - val_accuracy: 0.7747\n",
      "Epoch 3/10\n",
      "20/20 [==============================] - ETA: 0s - loss: 0.6209 - accuracy: 0.7742\n",
      "Epoch 00003: val_accuracy did not improve from 0.77469\n",
      "20/20 [==============================] - 7s 367ms/step - loss: 0.6209 - accuracy: 0.7742 - val_loss: 0.5986 - val_accuracy: 0.7747\n",
      "Epoch 4/10\n",
      "20/20 [==============================] - ETA: 0s - loss: 0.5600 - accuracy: 0.7743\n",
      "Epoch 00004: val_accuracy improved from 0.77469 to 0.77518, saving model to best_model.hdf5\n",
      "20/20 [==============================] - 8s 392ms/step - loss: 0.5600 - accuracy: 0.7743 - val_loss: 0.5207 - val_accuracy: 0.7752\n",
      "Epoch 5/10\n",
      "20/20 [==============================] - ETA: 0s - loss: 0.4621 - accuracy: 0.8069\n",
      "Epoch 00005: val_accuracy improved from 0.77518 to 0.84135, saving model to best_model.hdf5\n",
      "20/20 [==============================] - 8s 384ms/step - loss: 0.4621 - accuracy: 0.8069 - val_loss: 0.4315 - val_accuracy: 0.8413\n",
      "Epoch 6/10\n",
      "20/20 [==============================] - ETA: 0s - loss: 0.3727 - accuracy: 0.8764\n",
      "Epoch 00006: val_accuracy improved from 0.84135 to 0.86701, saving model to best_model.hdf5\n",
      "20/20 [==============================] - 8s 423ms/step - loss: 0.3727 - accuracy: 0.8764 - val_loss: 0.3836 - val_accuracy: 0.8670\n",
      "Epoch 7/10\n",
      "20/20 [==============================] - ETA: 0s - loss: 0.3271 - accuracy: 0.8917\n",
      "Epoch 00007: val_accuracy improved from 0.86701 to 0.87637, saving model to best_model.hdf5\n",
      "20/20 [==============================] - 8s 379ms/step - loss: 0.3271 - accuracy: 0.8917 - val_loss: 0.3678 - val_accuracy: 0.8764\n",
      "Epoch 8/10\n",
      "20/20 [==============================] - ETA: 0s - loss: 0.2989 - accuracy: 0.9028\n",
      "Epoch 00008: val_accuracy improved from 0.87637 to 0.88073, saving model to best_model.hdf5\n",
      "20/20 [==============================] - 9s 430ms/step - loss: 0.2989 - accuracy: 0.9028 - val_loss: 0.3642 - val_accuracy: 0.8807\n",
      "Epoch 9/10\n",
      "20/20 [==============================] - ETA: 0s - loss: 0.2771 - accuracy: 0.9085\n",
      "Epoch 00009: val_accuracy did not improve from 0.88073\n",
      "20/20 [==============================] - 8s 381ms/step - loss: 0.2771 - accuracy: 0.9085 - val_loss: 0.3873 - val_accuracy: 0.8767\n",
      "Epoch 10/10\n",
      "20/20 [==============================] - ETA: 0s - loss: 0.2692 - accuracy: 0.9120\n",
      "Epoch 00010: val_accuracy improved from 0.88073 to 0.88202, saving model to best_model.hdf5\n",
      "20/20 [==============================] - 8s 420ms/step - loss: 0.2692 - accuracy: 0.9120 - val_loss: 0.3736 - val_accuracy: 0.8820\n"
     ]
    }
   ],
   "source": [
    "history1 = model.fit(X_train, y_train,steps_per_epoch=20,epochs=10,validation_data=(X_test, y_test),callbacks=[checkpoint])"
   ]
  },
  {
   "cell_type": "code",
   "execution_count": 33,
   "id": "d5828fe1",
   "metadata": {},
   "outputs": [
    {
     "data": {
      "image/png": "[encoded data removed]",
      "text/plain": [
       "<Figure size 432x288 with 1 Axes>"
      ]
     },
     "metadata": {
      "needs_background": "light"
     },
     "output_type": "display_data"
    },
    {
     "data": {
      "text/plain": [
       "<Figure size 432x288 with 0 Axes>"
      ]
     },
     "metadata": {},
     "output_type": "display_data"
    }
   ],
   "source": [
    "import matplotlib.pyplot as plt\n",
    "acc = history1.history['accuracy']\n",
    "val_acc = history1.history['val_accuracy']\n",
    "\n",
    "epochs = range(1, 11)\n",
    "\n",
    "plt.plot(epochs, acc, 'orange', label='Training acc')\n",
    "plt.plot(epochs, val_acc, 'b', label='Validation acc')\n",
    "plt.title('Training and validation accuracy for LSTM Model with word level one hot encoding as Feature')\n",
    "plt.xlabel('Epochs')\n",
    "plt.ylabel('Accuracy')\n",
    "plt.legend()\n",
    "plt.figure()\n",
    "plt.show()"
   ]
  },
  {
   "cell_type": "code",
   "execution_count": 34,
   "id": "df5e0570",
   "metadata": {},
   "outputs": [
    {
     "data": {
      "image/png": "[encoded data removed]",
      "text/plain": [
       "<Figure size 432x288 with 1 Axes>"
      ]
     },
     "metadata": {
      "needs_background": "light"
     },
     "output_type": "display_data"
    }
   ],
   "source": [
    "loss = history1.history['loss']\n",
    "val_loss = history1.history['val_loss']\n",
    "\n",
    "epochs = range(1, 11)\n",
    "\n",
    "plt.plot(epochs, loss, 'orange', label='Training loss')\n",
    "plt.plot(epochs, val_loss, 'b', label='Validation loss')\n",
    "plt.title('Training and validation loss for LSTM Model with word level one hot encoding as Feature')\n",
    "plt.xlabel('Epochs')\n",
    "plt.ylabel('Loss')\n",
    "plt.legend()\n",
    "plt.show()"
   ]
  },
  {
   "cell_type": "code",
   "execution_count": 35,
   "id": "speaking-occasions",
   "metadata": {},
   "outputs": [
    {
     "data": {
      "text/plain": [
       "array([[0., 0., 0., ..., 0., 0., 0.],\n",
       "       [0., 0., 0., ..., 0., 0., 0.],\n",
       "       [0., 0., 0., ..., 0., 0., 0.],\n",
       "       ...,\n",
       "       [0., 0., 0., ..., 0., 0., 0.],\n",
       "       [0., 0., 0., ..., 0., 0., 0.],\n",
       "       [0., 0., 0., ..., 0., 0., 0.]])"
      ]
     },
     "execution_count": 35,
     "metadata": {},
     "output_type": "execute_result"
    }
   ],
   "source": [
    "tfidf_vectorizer = TfidfVectorizer(ngram_range=(1, 2),max_df=0.75, min_df=5, max_features=1000)\n",
    "tfidf = tfidf_vectorizer.fit_transform(data['processed_tweet'] ).toarray()\n",
    "tfidf"
   ]
  },
  {
   "cell_type": "code",
   "execution_count": 36,
   "id": "caeda8c7",
   "metadata": {},
   "outputs": [
    {
     "data": {
      "text/plain": [
       "(24783, 1000)"
      ]
     },
     "execution_count": 36,
     "metadata": {},
     "output_type": "execute_result"
    }
   ],
   "source": [
    "tfidf.shape"
   ]
  },
  {
   "cell_type": "code",
   "execution_count": 38,
   "id": "dabc6aa2",
   "metadata": {},
   "outputs": [],
   "source": [
    "from sklearn.model_selection import train_test_split\n",
    "X = tfidf\n",
    "X_train1, X_test1, y_train1, y_test1 = train_test_split(X, labels, random_state=42, test_size=0.2)"
   ]
  },
  {
   "cell_type": "code",
   "execution_count": 39,
   "id": "44bea091",
   "metadata": {},
   "outputs": [
    {
     "name": "stdout",
     "output_type": "stream",
     "text": [
      "Epoch 1/10\n",
      "20/20 [==============================] - ETA: 0s - loss: 0.7280 - accuracy: 0.7710\n",
      "Epoch 00001: val_accuracy did not improve from 0.88202\n",
      "20/20 [==============================] - 64s 3s/step - loss: 0.7280 - accuracy: 0.7710 - val_loss: 0.6751 - val_accuracy: 0.7730\n",
      "Epoch 2/10\n",
      "20/20 [==============================] - ETA: 0s - loss: 0.6696 - accuracy: 0.7746\n",
      "Epoch 00002: val_accuracy did not improve from 0.88202\n",
      "20/20 [==============================] - 63s 3s/step - loss: 0.6696 - accuracy: 0.7746 - val_loss: 0.6673 - val_accuracy: 0.7730\n",
      "Epoch 3/10\n",
      "20/20 [==============================] - ETA: 0s - loss: 0.6660 - accuracy: 0.7746\n",
      "Epoch 00003: val_accuracy did not improve from 0.88202\n",
      "20/20 [==============================] - 68s 3s/step - loss: 0.6660 - accuracy: 0.7746 - val_loss: 0.6651 - val_accuracy: 0.7730\n",
      "Epoch 4/10\n",
      "20/20 [==============================] - ETA: 0s - loss: 0.6643 - accuracy: 0.7746\n",
      "Epoch 00004: val_accuracy did not improve from 0.88202\n",
      "20/20 [==============================] - 72s 4s/step - loss: 0.6643 - accuracy: 0.7746 - val_loss: 0.6651 - val_accuracy: 0.7730\n",
      "Epoch 5/10\n",
      "20/20 [==============================] - ETA: 0s - loss: 0.6646 - accuracy: 0.7746\n",
      "Epoch 00005: val_accuracy did not improve from 0.88202\n",
      "20/20 [==============================] - 72s 4s/step - loss: 0.6646 - accuracy: 0.7746 - val_loss: 0.6652 - val_accuracy: 0.7730\n",
      "Epoch 6/10\n",
      "20/20 [==============================] - ETA: 0s - loss: 0.6641 - accuracy: 0.7746\n",
      "Epoch 00006: val_accuracy did not improve from 0.88202\n",
      "20/20 [==============================] - 72s 4s/step - loss: 0.6641 - accuracy: 0.7746 - val_loss: 0.6651 - val_accuracy: 0.7730\n",
      "Epoch 7/10\n",
      "20/20 [==============================] - ETA: 0s - loss: 0.6637 - accuracy: 0.7746\n",
      "Epoch 00007: val_accuracy did not improve from 0.88202\n",
      "20/20 [==============================] - 73s 4s/step - loss: 0.6637 - accuracy: 0.7746 - val_loss: 0.6651 - val_accuracy: 0.7730\n",
      "Epoch 8/10\n",
      "20/20 [==============================] - ETA: 0s - loss: 0.6631 - accuracy: 0.7746\n",
      "Epoch 00008: val_accuracy did not improve from 0.88202\n",
      "20/20 [==============================] - 74s 4s/step - loss: 0.6631 - accuracy: 0.7746 - val_loss: 0.6652 - val_accuracy: 0.7730\n",
      "Epoch 9/10\n",
      "20/20 [==============================] - ETA: 0s - loss: 0.6632 - accuracy: 0.7746\n",
      "Epoch 00009: val_accuracy did not improve from 0.88202\n",
      "20/20 [==============================] - 73s 4s/step - loss: 0.6632 - accuracy: 0.7746 - val_loss: 0.6651 - val_accuracy: 0.7730\n",
      "Epoch 10/10\n",
      "20/20 [==============================] - ETA: 0s - loss: 0.6632 - accuracy: 0.7746\n",
      "Epoch 00010: val_accuracy did not improve from 0.88202\n",
      "20/20 [==============================] - 72s 4s/step - loss: 0.6632 - accuracy: 0.7746 - val_loss: 0.6652 - val_accuracy: 0.7730\n"
     ]
    }
   ],
   "source": [
    "history2 = model.fit(X_train1, y_train1, steps_per_epoch=20, epochs=10,  validation_data=(X_test1, y_test1),\n",
    "                     callbacks=[checkpoint])"
   ]
  },
  {
   "cell_type": "code",
   "execution_count": 40,
   "id": "80f10f74",
   "metadata": {},
   "outputs": [
    {
     "data": {
      "image/png": "[encoded data removed]",
      "text/plain": [
       "<Figure size 432x288 with 1 Axes>"
      ]
     },
     "metadata": {
      "needs_background": "light"
     },
     "output_type": "display_data"
    },
    {
     "data": {
      "text/plain": [
       "<Figure size 432x288 with 0 Axes>"
      ]
     },
     "metadata": {},
     "output_type": "display_data"
    }
   ],
   "source": [
    "import matplotlib.pyplot as plt\n",
    "acc = history2.history['accuracy']\n",
    "val_acc = history2.history['val_accuracy']\n",
    "\n",
    "epochs = range(1, 11)\n",
    "\n",
    "plt.plot(epochs, acc, 'green', label='Training acc')\n",
    "plt.plot(epochs, val_acc, 'yellow', label='Validation acc')\n",
    "plt.title('Training and validation accuracy for LSTM Model with TFIDF Feature')\n",
    "plt.xlabel('Epochs')\n",
    "plt.ylabel('Accuracy')\n",
    "plt.legend()\n",
    "plt.figure()\n",
    "plt.show()"
   ]
  },
  {
   "cell_type": "code",
   "execution_count": 41,
   "id": "a81e6e37",
   "metadata": {},
   "outputs": [
    {
     "data": {
      "image/png": "[encoded data removed]",
      "text/plain": [
       "<Figure size 432x288 with 1 Axes>"
      ]
     },
     "metadata": {
      "needs_background": "light"
     },
     "output_type": "display_data"
    }
   ],
   "source": [
    "loss = history2.history['loss']\n",
    "val_loss = history2.history['val_loss']\n",
    "\n",
    "epochs = range(1, 11)\n",
    "\n",
    "plt.plot(epochs, loss, 'green', label='Training loss')\n",
    "plt.plot(epochs, val_loss, 'yellow', label='Validation loss')\n",
    "plt.title('Training and validation loss for LSTM Model with TFIDF Feature')\n",
    "plt.xlabel('Epochs')\n",
    "plt.ylabel('Loss')\n",
    "plt.legend()\n",
    "plt.show()"
   ]
  },
  {
   "cell_type": "code",
   "execution_count": 42,
   "id": "0c8c6d73",
   "metadata": {},
   "outputs": [
    {
     "data": {
      "text/plain": [
       "array([[0, 0, 0, ..., 0, 0, 0],\n",
       "       [0, 0, 0, ..., 0, 0, 0],\n",
       "       [0, 0, 0, ..., 0, 0, 0],\n",
       "       ...,\n",
       "       [0, 0, 0, ..., 0, 0, 0],\n",
       "       [0, 0, 0, ..., 0, 0, 0],\n",
       "       [0, 0, 0, ..., 0, 0, 0]], dtype=int64)"
      ]
     },
     "execution_count": 42,
     "metadata": {},
     "output_type": "execute_result"
    }
   ],
   "source": [
    "bow_vectorizer = CountVectorizer( max_features=100, stop_words='english', ngram_range=(2,2))\n",
    "bagofwords=bow_vectorizer.fit_transform(data['processed_tweet'] ).toarray()\n",
    "bagofwords"
   ]
  },
  {
   "cell_type": "code",
   "execution_count": 43,
   "id": "40cc03f7",
   "metadata": {},
   "outputs": [
    {
     "data": {
      "text/plain": [
       "(24783, 100)"
      ]
     },
     "execution_count": 43,
     "metadata": {},
     "output_type": "execute_result"
    }
   ],
   "source": [
    "bagofwords.shape"
   ]
  },
  {
   "cell_type": "code",
   "execution_count": 44,
   "id": "25b9b540",
   "metadata": {},
   "outputs": [],
   "source": [
    "X = bagofwords\n",
    "X_train2, X_test2, y_train2, y_test2 = train_test_split(X, labels, random_state=42, test_size=0.2)"
   ]
  },
  {
   "cell_type": "code",
   "execution_count": 45,
   "id": "65f0354e",
   "metadata": {},
   "outputs": [
    {
     "name": "stdout",
     "output_type": "stream",
     "text": [
      "Epoch 1/10\n",
      "20/20 [==============================] - ETA: 0s - loss: 0.6631 - accuracy: 0.7746\n",
      "Epoch 00001: val_accuracy did not improve from 0.88202\n",
      "20/20 [==============================] - 5s 251ms/step - loss: 0.6631 - accuracy: 0.7746 - val_loss: 0.6654 - val_accuracy: 0.7730\n",
      "Epoch 2/10\n",
      "20/20 [==============================] - ETA: 0s - loss: 0.6631 - accuracy: 0.7746\n",
      "Epoch 00002: val_accuracy did not improve from 0.88202\n",
      "20/20 [==============================] - 4s 217ms/step - loss: 0.6631 - accuracy: 0.7746 - val_loss: 0.6654 - val_accuracy: 0.7730\n",
      "Epoch 3/10\n",
      "20/20 [==============================] - ETA: 0s - loss: 0.6629 - accuracy: 0.7746\n",
      "Epoch 00003: val_accuracy did not improve from 0.88202\n",
      "20/20 [==============================] - 4s 213ms/step - loss: 0.6629 - accuracy: 0.7746 - val_loss: 0.6655 - val_accuracy: 0.7730\n",
      "Epoch 4/10\n",
      "20/20 [==============================] - ETA: 0s - loss: 0.6629 - accuracy: 0.7746\n",
      "Epoch 00004: val_accuracy did not improve from 0.88202\n",
      "20/20 [==============================] - 5s 236ms/step - loss: 0.6629 - accuracy: 0.7746 - val_loss: 0.6654 - val_accuracy: 0.7730\n",
      "Epoch 5/10\n",
      "20/20 [==============================] - ETA: 0s - loss: 0.6628 - accuracy: 0.7746\n",
      "Epoch 00005: val_accuracy did not improve from 0.88202\n",
      "20/20 [==============================] - 5s 229ms/step - loss: 0.6628 - accuracy: 0.7746 - val_loss: 0.6652 - val_accuracy: 0.7730\n",
      "Epoch 6/10\n",
      "20/20 [==============================] - ETA: 0s - loss: 0.6625 - accuracy: 0.7746\n",
      "Epoch 00006: val_accuracy did not improve from 0.88202\n",
      "20/20 [==============================] - 5s 227ms/step - loss: 0.6625 - accuracy: 0.7746 - val_loss: 0.6651 - val_accuracy: 0.7730\n",
      "Epoch 7/10\n",
      "20/20 [==============================] - ETA: 0s - loss: 0.6617 - accuracy: 0.7746\n",
      "Epoch 00007: val_accuracy did not improve from 0.88202\n",
      "20/20 [==============================] - 5s 272ms/step - loss: 0.6617 - accuracy: 0.7746 - val_loss: 0.6652 - val_accuracy: 0.7730\n",
      "Epoch 8/10\n",
      "20/20 [==============================] - ETA: 0s - loss: 0.6616 - accuracy: 0.7746\n",
      "Epoch 00008: val_accuracy did not improve from 0.88202\n",
      "20/20 [==============================] - 6s 300ms/step - loss: 0.6616 - accuracy: 0.7746 - val_loss: 0.6651 - val_accuracy: 0.7730\n",
      "Epoch 9/10\n",
      "20/20 [==============================] - ETA: 0s - loss: 0.6616 - accuracy: 0.7746\n",
      "Epoch 00009: val_accuracy did not improve from 0.88202\n",
      "20/20 [==============================] - 5s 274ms/step - loss: 0.6616 - accuracy: 0.7746 - val_loss: 0.6652 - val_accuracy: 0.7730\n",
      "Epoch 10/10\n",
      "20/20 [==============================] - ETA: 0s - loss: 0.6613 - accuracy: 0.7746\n",
      "Epoch 00010: val_accuracy did not improve from 0.88202\n",
      "20/20 [==============================] - 6s 315ms/step - loss: 0.6613 - accuracy: 0.7746 - val_loss: 0.6652 - val_accuracy: 0.7730\n"
     ]
    }
   ],
   "source": [
    "history3 = model.fit(X_train2, y_train2, epochs=10, steps_per_epoch=20, validation_data=(X_test2, y_test2),\n",
    "                     callbacks=[checkpoint])"
   ]
  },
  {
   "cell_type": "code",
   "execution_count": 46,
   "id": "42eaa3fc",
   "metadata": {},
   "outputs": [
    {
     "data": {
      "image/png": "[encoded data removed]",
      "text/plain": [
       "<Figure size 432x288 with 1 Axes>"
      ]
     },
     "metadata": {
      "needs_background": "light"
     },
     "output_type": "display_data"
    },
    {
     "data": {
      "text/plain": [
       "<Figure size 432x288 with 0 Axes>"
      ]
     },
     "metadata": {},
     "output_type": "display_data"
    }
   ],
   "source": [
    "import matplotlib.pyplot as plt\n",
    "acc = history3.history['accuracy']\n",
    "val_acc = history3.history['val_accuracy']\n",
    "\n",
    "epochs = range(1, 11)\n",
    "\n",
    "plt.plot(epochs, acc, 'purple', label='Training acc')\n",
    "plt.plot(epochs, val_acc, 'red', label='Validation acc')\n",
    "plt.title('Training and validation accuracy for LSTM Model with Bag of words Feature')\n",
    "plt.xlabel('Epochs')\n",
    "plt.ylabel('Accuracy')\n",
    "plt.legend()\n",
    "plt.figure()\n",
    "plt.show()"
   ]
  },
  {
   "cell_type": "code",
   "execution_count": 47,
   "id": "56f142ef",
   "metadata": {},
   "outputs": [
    {
     "data": {
      "image/png": "[encoded data removed]",
      "text/plain": [
       "<Figure size 432x288 with 1 Axes>"
      ]
     },
     "metadata": {
      "needs_background": "light"
     },
     "output_type": "display_data"
    }
   ],
   "source": [
    "loss = history3.history['loss']\n",
    "val_loss = history3.history['val_loss']\n",
    "\n",
    "epochs = range(1, 11)\n",
    "\n",
    "plt.plot(epochs, loss, 'purple', label='Training loss')\n",
    "plt.plot(epochs, val_loss, 'red', label='Validation loss')\n",
    "plt.title('Training and validation loss for LSTM Model with Bag of words Feature')\n",
    "plt.xlabel('Epochs')\n",
    "plt.ylabel('Loss')\n",
    "plt.legend()\n",
    "plt.show()"
   ]
  },
  {
   "cell_type": "code",
   "execution_count": 48,
   "id": "b24a7994",
   "metadata": {},
   "outputs": [
    {
     "data": {
      "text/plain": [
       "(24783, 1300)"
      ]
     },
     "execution_count": 48,
     "metadata": {},
     "output_type": "execute_result"
    }
   ],
   "source": [
    "modelling_features = np.concatenate([tfidf,bagofwords,tweets_in],axis=1)\n",
    "modelling_features.shape"
   ]
  },
  {
   "cell_type": "code",
   "execution_count": 49,
   "id": "191e75e1",
   "metadata": {},
   "outputs": [],
   "source": [
    "X = modelling_features\n",
    "X_train3, X_test3, y_train3, y_test3 = train_test_split(X, labels, random_state=42, test_size=0.2)"
   ]
  },
  {
   "cell_type": "code",
   "execution_count": 50,
   "id": "8b302c17",
   "metadata": {},
   "outputs": [
    {
     "name": "stdout",
     "output_type": "stream",
     "text": [
      "Epoch 1/10\n",
      "20/20 [==============================] - ETA: 0s - loss: 0.3324 - accuracy: 0.8962\n",
      "Epoch 00001: val_accuracy improved from 0.88202 to 0.90418, saving model to best_model.hdf5\n",
      "20/20 [==============================] - 111s 6s/step - loss: 0.3324 - accuracy: 0.8962 - val_loss: 0.3003 - val_accuracy: 0.9042\n",
      "Epoch 2/10\n",
      "20/20 [==============================] - ETA: 0s - loss: 0.2740 - accuracy: 0.9112\n",
      "Epoch 00002: val_accuracy did not improve from 0.90418\n",
      "20/20 [==============================] - 114s 6s/step - loss: 0.2740 - accuracy: 0.9112 - val_loss: 0.2939 - val_accuracy: 0.9034\n",
      "Epoch 3/10\n",
      "20/20 [==============================] - ETA: 0s - loss: 0.2502 - accuracy: 0.9174\n",
      "Epoch 00003: val_accuracy did not improve from 0.90418\n",
      "20/20 [==============================] - 116s 6s/step - loss: 0.2502 - accuracy: 0.9174 - val_loss: 0.2961 - val_accuracy: 0.9036\n",
      "Epoch 4/10\n",
      "20/20 [==============================] - ETA: 0s - loss: 0.2337 - accuracy: 0.9223\n",
      "Epoch 00004: val_accuracy did not improve from 0.90418\n",
      "20/20 [==============================] - 117s 6s/step - loss: 0.2337 - accuracy: 0.9223 - val_loss: 0.2931 - val_accuracy: 0.9001\n",
      "Epoch 5/10\n",
      "20/20 [==============================] - ETA: 0s - loss: 0.2171 - accuracy: 0.9271\n",
      "Epoch 00005: val_accuracy did not improve from 0.90418\n",
      "20/20 [==============================] - 122s 6s/step - loss: 0.2171 - accuracy: 0.9271 - val_loss: 0.2966 - val_accuracy: 0.8995\n",
      "Epoch 6/10\n",
      "20/20 [==============================] - ETA: 0s - loss: 0.2010 - accuracy: 0.9320\n",
      "Epoch 00006: val_accuracy did not improve from 0.90418\n",
      "20/20 [==============================] - 119s 6s/step - loss: 0.2010 - accuracy: 0.9320 - val_loss: 0.2953 - val_accuracy: 0.9034\n",
      "Epoch 7/10\n",
      "20/20 [==============================] - ETA: 0s - loss: 0.1885 - accuracy: 0.9348\n",
      "Epoch 00007: val_accuracy did not improve from 0.90418\n",
      "20/20 [==============================] - 119s 6s/step - loss: 0.1885 - accuracy: 0.9348 - val_loss: 0.3046 - val_accuracy: 0.8957\n",
      "Epoch 8/10\n",
      "20/20 [==============================] - ETA: 0s - loss: 0.1790 - accuracy: 0.9380\n",
      "Epoch 00008: val_accuracy did not improve from 0.90418\n",
      "20/20 [==============================] - 119s 6s/step - loss: 0.1790 - accuracy: 0.9380 - val_loss: 0.3067 - val_accuracy: 0.9028\n",
      "Epoch 9/10\n",
      "20/20 [==============================] - ETA: 0s - loss: 0.1695 - accuracy: 0.9398\n",
      "Epoch 00009: val_accuracy did not improve from 0.90418\n",
      "20/20 [==============================] - 118s 6s/step - loss: 0.1695 - accuracy: 0.9398 - val_loss: 0.3173 - val_accuracy: 0.8989\n",
      "Epoch 10/10\n",
      "20/20 [==============================] - ETA: 0s - loss: 0.1641 - accuracy: 0.9433\n",
      "Epoch 00010: val_accuracy did not improve from 0.90418\n",
      "20/20 [==============================] - 120s 6s/step - loss: 0.1641 - accuracy: 0.9433 - val_loss: 0.3369 - val_accuracy: 0.8943\n"
     ]
    }
   ],
   "source": [
    "history4= model.fit(X_train3, y_train3, epochs=10, steps_per_epoch=20, validation_data=(X_test3, y_test3),\n",
    "                    callbacks=[checkpoint])"
   ]
  },
  {
   "cell_type": "code",
   "execution_count": 51,
   "id": "075b58c1",
   "metadata": {},
   "outputs": [
    {
     "data": {
      "image/png": "[encoded data removed]",
      "text/plain": [
       "<Figure size 432x288 with 1 Axes>"
      ]
     },
     "metadata": {
      "needs_background": "light"
     },
     "output_type": "display_data"
    },
    {
     "data": {
      "text/plain": [
       "<Figure size 432x288 with 0 Axes>"
      ]
     },
     "metadata": {},
     "output_type": "display_data"
    }
   ],
   "source": [
    "acc = history4.history['accuracy']\n",
    "val_acc = history4.history['val_accuracy']\n",
    "\n",
    "epochs = range(1, 11)\n",
    "\n",
    "plt.plot(epochs, acc, 'yellow', label='Training acc')\n",
    "plt.plot(epochs, val_acc, 'red', label='Validation acc')\n",
    "plt.title('Training and validation accuracy for LSTM Model with [Bag of words + TFIDF + Word level one hot encoding] Feature')\n",
    "plt.xlabel('Epochs')\n",
    "plt.ylabel('Accuracy')\n",
    "plt.legend()\n",
    "plt.figure()\n",
    "plt.show()"
   ]
  },
  {
   "cell_type": "code",
   "execution_count": 52,
   "id": "dcf06550",
   "metadata": {},
   "outputs": [
    {
     "data": {
      "image/png": "[encoded data removed]",
      "text/plain": [
       "<Figure size 432x288 with 1 Axes>"
      ]
     },
     "metadata": {
      "needs_background": "light"
     },
     "output_type": "display_data"
    }
   ],
   "source": [
    "loss = history4.history['loss']\n",
    "val_loss = history4.history['val_loss']\n",
    "\n",
    "epochs = range(1, 11)\n",
    "\n",
    "plt.plot(epochs, loss, 'yellow', label='Training loss')\n",
    "plt.plot(epochs, val_loss, 'red', label='Validation loss')\n",
    "plt.title('Training and validation loss for LSTM Model with [Bag of words + TFIDF + Word level one hot encoding] Feature')\n",
    "plt.xlabel('Epochs')\n",
    "plt.ylabel('Loss')\n",
    "plt.legend()\n",
    "plt.show()"
   ]
  },
  {
   "cell_type": "code",
   "execution_count": 53,
   "id": "3d03d553",
   "metadata": {},
   "outputs": [
    {
     "name": "stdout",
     "output_type": "stream",
     "text": [
      "Test loss: 0.20353253185749054\n",
      "Test accuracy: 0.9351194500923157\n"
     ]
    }
   ],
   "source": [
    "score1 = model.evaluate(X_test, y_test, verbose=0)\n",
    "print('Test loss:', score1[0])\n",
    "print('Test accuracy:', score1[1])"
   ]
  },
  {
   "cell_type": "code",
   "execution_count": 54,
   "id": "94419652",
   "metadata": {},
   "outputs": [
    {
     "name": "stdout",
     "output_type": "stream",
     "text": [
      "Test loss: 0.6697127819061279\n",
      "Test accuracy: 0.7730482220649719\n"
     ]
    }
   ],
   "source": [
    "score2 = model.evaluate(X_test1, y_test1, verbose=0)\n",
    "print('Test loss:', score2[0])\n",
    "print('Test accuracy:', score2[1])"
   ]
  },
  {
   "cell_type": "code",
   "execution_count": 55,
   "id": "88971171",
   "metadata": {},
   "outputs": [
    {
     "name": "stdout",
     "output_type": "stream",
     "text": [
      "Test loss: 0.6697127819061279\n",
      "Test accuracy: 0.7730482220649719\n"
     ]
    }
   ],
   "source": [
    "score3 = model.evaluate(X_test2, y_test2, verbose=0)\n",
    "print('Test loss:', score2[0])\n",
    "print('Test accuracy:', score2[1])"
   ]
  },
  {
   "cell_type": "code",
   "execution_count": 56,
   "id": "33363c09",
   "metadata": {},
   "outputs": [
    {
     "name": "stdout",
     "output_type": "stream",
     "text": [
      "Test loss: 0.6720296740531921\n",
      "Test accuracy: 0.7730482220649719\n"
     ]
    }
   ],
   "source": [
    "score4 = model.evaluate(X_test3, y_test3, verbose=0)\n",
    "print('Test loss:', score3[0])\n",
    "print('Test accuracy:', score3[1])"
   ]
  },
  {
   "cell_type": "code",
   "execution_count": 57,
   "id": "5f92bfc3",
   "metadata": {},
   "outputs": [
    {
     "data": {
      "image/png": "[encoded data removed]",
      "text/plain": [
       "<Figure size 216x216 with 1 Axes>"
      ]
     },
     "metadata": {
      "needs_background": "light"
     },
     "output_type": "display_data"
    }
   ],
   "source": [
    "from sklearn.metrics import confusion_matrix\n",
    "import seaborn as sns\n",
    "fig = plt.figure(figsize=(3, 3)) \n",
    "\n",
    "y_preds = model.predict(X_test) \n",
    "\n",
    "Y_pred = np.argmax(y_preds, 1) \n",
    "Y_test = np.argmax(y_test, 1) \n",
    "\n",
    "mat = confusion_matrix(Y_test, Y_pred) \n",
    "\n",
    "sns.heatmap(mat.T, square=True, annot=True, cbar=False, cmap=plt.cm.Blues)\n",
    "plt.title('Confusion Matrix for  LSTM Model with word level one hot encoding as Feature ')\n",
    "plt.xlabel('Predicted Values')\n",
    "plt.ylabel('True Values');\n",
    "plt.show();"
   ]
  },
  {
   "cell_type": "code",
   "execution_count": 58,
   "id": "2849ad90",
   "metadata": {},
   "outputs": [
    {
     "data": {
      "image/png": "[encoded data removed]",
      "text/plain": [
       "<Figure size 216x216 with 1 Axes>"
      ]
     },
     "metadata": {
      "needs_background": "light"
     },
     "output_type": "display_data"
    }
   ],
   "source": [
    "fig = plt.figure(figsize=(3, 3)) \n",
    "\n",
    "y_preds = model.predict(X_test1) \n",
    "\n",
    "Y_pred = np.argmax(y_preds, 1) \n",
    "Y_test = np.argmax(y_test1, 1) \n",
    "\n",
    "mat = confusion_matrix(Y_test, Y_pred) \n",
    "\n",
    "sns.heatmap(mat.T, square=True, annot=True, cbar=False, cmap=plt.cm.Blues)\n",
    "plt.title('Confusion Matrix for LSTM Model with TFIDF Feature')\n",
    "plt.xlabel('Predicted Values')\n",
    "plt.ylabel('True Values');\n",
    "plt.show();"
   ]
  },
  {
   "cell_type": "code",
   "execution_count": 59,
   "id": "693505d2",
   "metadata": {},
   "outputs": [
    {
     "data": {
      "image/png": "[encoded data removed]",
      "text/plain": [
       "<Figure size 216x216 with 1 Axes>"
      ]
     },
     "metadata": {
      "needs_background": "light"
     },
     "output_type": "display_data"
    }
   ],
   "source": [
    "fig = plt.figure(figsize=(3, 3)) \n",
    "\n",
    "y_preds = model.predict(X_test2) \n",
    "\n",
    "Y_pred = np.argmax(y_preds, 1) \n",
    "Y_test = np.argmax(y_test2, 1) \n",
    "\n",
    "mat = confusion_matrix(Y_test, Y_pred) \n",
    "\n",
    "sns.heatmap(mat.T, square=True, annot=True, cbar=False, cmap=plt.cm.Blues)\n",
    "plt.title('Confusion Matrix for LSTM Model with Bag of words Feature')\n",
    "plt.xlabel('Predicted Values')\n",
    "plt.ylabel('True Values');\n",
    "plt.show();"
   ]
  },
  {
   "cell_type": "code",
   "execution_count": 60,
   "id": "aa9da5dc",
   "metadata": {},
   "outputs": [
    {
     "data": {
      "image/png": "[encoded data removed]",
      "text/plain": [
       "<Figure size 216x216 with 1 Axes>"
      ]
     },
     "metadata": {
      "needs_background": "light"
     },
     "output_type": "display_data"
    }
   ],
   "source": [
    "fig = plt.figure(figsize=(3, 3)) \n",
    "\n",
    "y_preds = model.predict(X_test3) \n",
    "\n",
    "Y_pred = np.argmax(y_preds, 1) \n",
    "Y_test = np.argmax(y_test3, 1) \n",
    "\n",
    "mat = confusion_matrix(Y_test, Y_pred) \n",
    "\n",
    "sns.heatmap(mat.T, square=True, annot=True, cbar=False, cmap=plt.cm.Blues)\n",
    "plt.title('Confusion Matrix for LSTM Model with [Bag of words + TFIDF + Word level one hot encoding] Feature')\n",
    "plt.xlabel('Predicted Values')\n",
    "plt.ylabel('True Values');\n",
    "plt.show();"
   ]
  },
  {
   "cell_type": "code",
   "execution_count": 61,
   "id": "370d1cea",
   "metadata": {},
   "outputs": [
    {
     "name": "stdout",
     "output_type": "stream",
     "text": [
      "Model: \"sequential\"\n",
      "_________________________________________________________________\n",
      "Layer (type)                 Output Shape              Param #   \n",
      "=================================================================\n",
      "embedding (Embedding)        (None, None, 20)          100000    \n",
      "_________________________________________________________________\n",
      "lstm (LSTM)                  (None, 15)                2160      \n",
      "_________________________________________________________________\n",
      "flatten (Flatten)            (None, 15)                0         \n",
      "_________________________________________________________________\n",
      "dropout (Dropout)            (None, 15)                0         \n",
      "_________________________________________________________________\n",
      "dense (Dense)                (None, 512)               8192      \n",
      "_________________________________________________________________\n",
      "dense_1 (Dense)              (None, 3)                 1539      \n",
      "=================================================================\n",
      "Total params: 111,891\n",
      "Trainable params: 111,891\n",
      "Non-trainable params: 0\n",
      "_________________________________________________________________\n"
     ]
    }
   ],
   "source": [
    "model.summary()"
   ]
  },
  {
   "cell_type": "code",
   "execution_count": 63,
   "id": "5aad3c13",
   "metadata": {},
   "outputs": [],
   "source": [
    "import keras\n",
    "best_model = keras.models.load_model(\"best_model.hdf5\")"
   ]
  },
  {
   "cell_type": "code",
   "execution_count": 64,
   "id": "9f312d41",
   "metadata": {},
   "outputs": [],
   "source": [
    "sentiment = ['Hatespeech','Offensivelanguage','Neither']"
   ]
  },
  {
   "cell_type": "code",
   "execution_count": 65,
   "id": "24f742a7",
   "metadata": {},
   "outputs": [
    {
     "data": {
      "text/plain": [
       "'Hatespeech'"
      ]
     },
     "execution_count": 65,
     "metadata": {},
     "output_type": "execute_result"
    }
   ],
   "source": [
    "sequence = tokenizer.texts_to_sequences(['this experience has been the worst , want my money back'])\n",
    "test = pad_sequences(sequence, maxlen=max_len)\n",
    "sentiment[np.around(best_model.predict(test), decimals=0).argmax(axis=1)[0]]"
   ]
  },
  {
   "cell_type": "code",
   "execution_count": 66,
   "id": "ddf7b551",
   "metadata": {},
   "outputs": [
    {
     "data": {
      "text/plain": [
       "'Offensivelanguage'"
      ]
     },
     "execution_count": 66,
     "metadata": {},
     "output_type": "execute_result"
    }
   ],
   "source": [
    "sequence = tokenizer.texts_to_sequences(['as a woman you should not complain about cleaning up your house'])\n",
    "test = pad_sequences(sequence, maxlen=max_len)\n",
    "sentiment[np.around(best_model.predict(test), decimals=0).argmax(axis=1)[0]]"
   ]
  },
  {
   "cell_type": "code",
   "execution_count": 67,
   "id": "5d81f5d7",
   "metadata": {},
   "outputs": [
    {
     "data": {
      "text/plain": [
       "'Neither'"
      ]
     },
     "execution_count": 67,
     "metadata": {},
     "output_type": "execute_result"
    }
   ],
   "source": [
    "sequence = tokenizer.texts_to_sequences(['When twitter rappers dm me their trash links'])\n",
    "test = pad_sequences(sequence, maxlen=max_len)\n",
    "sentiment[np.around(best_model.predict(test), decimals=0).argmax(axis=1)[0]]"
   ]
  },
  {
   "cell_type": "code",
   "execution_count": 68,
   "id": "d700fdab",
   "metadata": {},
   "outputs": [
    {
     "data": {
      "text/plain": [
       "'Neither'"
      ]
     },
     "execution_count": 68,
     "metadata": {},
     "output_type": "execute_result"
    }
   ],
   "source": [
    "sequence = tokenizer.texts_to_sequences(['hi tweety bird'])\n",
    "test = pad_sequences(sequence, maxlen=max_len)\n",
    "sentiment[np.around(best_model.predict(test), decimals=0).argmax(axis=1)[0]]"
   ]
  },
  {
   "cell_type": "code",
   "execution_count": 69,
   "id": "185cde15",
   "metadata": {},
   "outputs": [
    {
     "data": {
      "text/plain": [
       "'Offensivelanguage'"
      ]
     },
     "execution_count": 69,
     "metadata": {},
     "output_type": "execute_result"
    }
   ],
   "source": [
    "sequence = tokenizer.texts_to_sequences(['now u got what u want bitch '])\n",
    "test = pad_sequences(sequence, maxlen=max_len)\n",
    "sentiment[np.around(best_model.predict(test), decimals=0).argmax(axis=1)[0]]"
   ]
  },
  {
   "cell_type": "code",
   "execution_count": 71,
   "id": "7549e449",
   "metadata": {},
   "outputs": [
    {
     "data": {
      "text/plain": [
       "'Offensivelanguage'"
      ]
     },
     "execution_count": 71,
     "metadata": {},
     "output_type": "execute_result"
    }
   ],
   "source": [
    "sequence = tokenizer.texts_to_sequences(['California is full of white trash'])\n",
    "test = pad_sequences(sequence, maxlen=max_len)\n",
    "sentiment[np.around(best_model.predict(test), decimals=0).argmax(axis=1)[0]]"
   ]
  },
  {
   "cell_type": "code",
   "execution_count": 73,
   "id": "62f05a74",
   "metadata": {},
   "outputs": [
    {
     "data": {
      "text/plain": [
       "'Offensivelanguage'"
      ]
     },
     "execution_count": 73,
     "metadata": {},
     "output_type": "execute_result"
    }
   ],
   "source": [
    "sequence = tokenizer.texts_to_sequences(['Ariza is a coward'])\n",
    "test = pad_sequences(sequence, maxlen=max_len)\n",
    "sentiment[np.around(best_model.predict(test), decimals=0).argmax(axis=1)[0]]"
   ]
  },
  {
   "cell_type": "code",
   "execution_count": 76,
   "id": "b0410ffc",
   "metadata": {},
   "outputs": [
    {
     "name": "stdout",
     "output_type": "stream",
     "text": [
      "Test loss: 0.33693215250968933\n",
      "Test accuracy: 0.8942909240722656\n"
     ]
    }
   ],
   "source": [
    "score4 = model.evaluate(X_test3, y_test3, verbose=0)\n",
    "print('Test loss:', score4[0])\n",
    "print('Test accuracy:', score4[1])"
   ]
  },
  {
   "cell_type": "code",
   "execution_count": null,
   "id": "e3b4b417",
   "metadata": {},
   "outputs": [],
   "source": []
  }
 ],
 "metadata": {
  "kernelspec": {
   "display_name": "Python 3",
   "language": "python",
   "name": "python3"
  },
  "language_info": {
   "codemirror_mode": {
    "name": "ipython",
    "version": 3
   },
   "file_extension": ".py",
   "mimetype": "text/x-python",
   "name": "python",
   "nbconvert_exporter": "python",
   "pygments_lexer": "ipython3",
   "version": "3.7.10"
  }
 },
 "nbformat": 4,
 "nbformat_minor": 5
}
