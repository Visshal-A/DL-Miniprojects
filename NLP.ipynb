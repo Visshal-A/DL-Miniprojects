{
 "cells": [
  {
   "cell_type": "code",
   "execution_count": 1,
   "id": "educated-israel",
   "metadata": {},
   "outputs": [],
   "source": [
    "import pandas as panda\n",
    "from nltk.tokenize import word_tokenize\n",
    "from nltk.corpus import stopwords\n",
    "from nltk.stem.porter import *\n",
    "import string\n",
    "import nltk\n",
    "\n",
    "from sklearn.preprocessing import OneHotEncoder\n",
    "import numpy as np\n",
    "from nltk.tokenize.treebank import TreebankWordDetokenizer\n",
    "\n",
    "from sklearn.feature_extraction.text import CountVectorizer\n",
    "from sklearn.feature_extraction.text import TfidfVectorizer\n",
    "from sklearn.model_selection import train_test_split\n",
    "\n",
    "from keras.models import Sequential\n",
    "from keras import layers\n",
    "from keras.optimizers import RMSprop,Adam\n",
    "from keras.preprocessing.text import Tokenizer\n",
    "from keras.preprocessing.sequence import pad_sequences\n",
    "from keras import regularizers\n",
    "from keras import backend as K\n",
    "from keras.callbacks import ModelCheckpoint\n",
    "import matplotlib.pyplot as plt"
   ]
  },
  {
   "cell_type": "code",
   "execution_count": 2,
   "id": "flush-america",
   "metadata": {},
   "outputs": [
    {
     "data": {
      "text/html": [
       "<div>\n",
       "<style scoped>\n",
       "    .dataframe tbody tr th:only-of-type {\n",
       "        vertical-align: middle;\n",
       "    }\n",
       "\n",
       "    .dataframe tbody tr th {\n",
       "        vertical-align: top;\n",
       "    }\n",
       "\n",
       "    .dataframe thead th {\n",
       "        text-align: right;\n",
       "    }\n",
       "</style>\n",
       "<table border=\"1\" class=\"dataframe\">\n",
       "  <thead>\n",
       "    <tr style=\"text-align: right;\">\n",
       "      <th></th>\n",
       "      <th>index</th>\n",
       "      <th>count</th>\n",
       "      <th>hate_speech</th>\n",
       "      <th>offensive_language</th>\n",
       "      <th>neither</th>\n",
       "      <th>class</th>\n",
       "      <th>tweet</th>\n",
       "    </tr>\n",
       "  </thead>\n",
       "  <tbody>\n",
       "    <tr>\n",
       "      <th>0</th>\n",
       "      <td>0</td>\n",
       "      <td>3</td>\n",
       "      <td>0</td>\n",
       "      <td>0</td>\n",
       "      <td>3</td>\n",
       "      <td>2</td>\n",
       "      <td>!!! RT @mayasolovely: As a woman you shouldn't...</td>\n",
       "    </tr>\n",
       "    <tr>\n",
       "      <th>1</th>\n",
       "      <td>1</td>\n",
       "      <td>3</td>\n",
       "      <td>0</td>\n",
       "      <td>3</td>\n",
       "      <td>0</td>\n",
       "      <td>1</td>\n",
       "      <td>!!!!! RT @mleew17: boy dats cold...tyga dwn ba...</td>\n",
       "    </tr>\n",
       "    <tr>\n",
       "      <th>2</th>\n",
       "      <td>2</td>\n",
       "      <td>3</td>\n",
       "      <td>0</td>\n",
       "      <td>3</td>\n",
       "      <td>0</td>\n",
       "      <td>1</td>\n",
       "      <td>!!!!!!! RT @UrKindOfBrand Dawg!!!! RT @80sbaby...</td>\n",
       "    </tr>\n",
       "    <tr>\n",
       "      <th>3</th>\n",
       "      <td>3</td>\n",
       "      <td>3</td>\n",
       "      <td>0</td>\n",
       "      <td>2</td>\n",
       "      <td>1</td>\n",
       "      <td>1</td>\n",
       "      <td>!!!!!!!!! RT @C_G_Anderson: @viva_based she lo...</td>\n",
       "    </tr>\n",
       "    <tr>\n",
       "      <th>4</th>\n",
       "      <td>4</td>\n",
       "      <td>6</td>\n",
       "      <td>0</td>\n",
       "      <td>6</td>\n",
       "      <td>0</td>\n",
       "      <td>1</td>\n",
       "      <td>!!!!!!!!!!!!! RT @ShenikaRoberts: The shit you...</td>\n",
       "    </tr>\n",
       "    <tr>\n",
       "      <th>...</th>\n",
       "      <td>...</td>\n",
       "      <td>...</td>\n",
       "      <td>...</td>\n",
       "      <td>...</td>\n",
       "      <td>...</td>\n",
       "      <td>...</td>\n",
       "      <td>...</td>\n",
       "    </tr>\n",
       "    <tr>\n",
       "      <th>24778</th>\n",
       "      <td>25291</td>\n",
       "      <td>3</td>\n",
       "      <td>0</td>\n",
       "      <td>2</td>\n",
       "      <td>1</td>\n",
       "      <td>1</td>\n",
       "      <td>you's a muthaf***in lie &amp;#8220;@LifeAsKing: @2...</td>\n",
       "    </tr>\n",
       "    <tr>\n",
       "      <th>24779</th>\n",
       "      <td>25292</td>\n",
       "      <td>3</td>\n",
       "      <td>0</td>\n",
       "      <td>1</td>\n",
       "      <td>2</td>\n",
       "      <td>2</td>\n",
       "      <td>you've gone and broke the wrong heart baby, an...</td>\n",
       "    </tr>\n",
       "    <tr>\n",
       "      <th>24780</th>\n",
       "      <td>25294</td>\n",
       "      <td>3</td>\n",
       "      <td>0</td>\n",
       "      <td>3</td>\n",
       "      <td>0</td>\n",
       "      <td>1</td>\n",
       "      <td>young buck wanna eat!!.. dat nigguh like I ain...</td>\n",
       "    </tr>\n",
       "    <tr>\n",
       "      <th>24781</th>\n",
       "      <td>25295</td>\n",
       "      <td>6</td>\n",
       "      <td>0</td>\n",
       "      <td>6</td>\n",
       "      <td>0</td>\n",
       "      <td>1</td>\n",
       "      <td>youu got wild bitches tellin you lies</td>\n",
       "    </tr>\n",
       "    <tr>\n",
       "      <th>24782</th>\n",
       "      <td>25296</td>\n",
       "      <td>3</td>\n",
       "      <td>0</td>\n",
       "      <td>0</td>\n",
       "      <td>3</td>\n",
       "      <td>2</td>\n",
       "      <td>~~Ruffled | Ntac Eileen Dahlia - Beautiful col...</td>\n",
       "    </tr>\n",
       "  </tbody>\n",
       "</table>\n",
       "<p>24783 rows × 7 columns</p>\n",
       "</div>"
      ],
      "text/plain": [
       "       index  count  hate_speech  offensive_language  neither  class  \\\n",
       "0          0      3            0                   0        3      2   \n",
       "1          1      3            0                   3        0      1   \n",
       "2          2      3            0                   3        0      1   \n",
       "3          3      3            0                   2        1      1   \n",
       "4          4      6            0                   6        0      1   \n",
       "...      ...    ...          ...                 ...      ...    ...   \n",
       "24778  25291      3            0                   2        1      1   \n",
       "24779  25292      3            0                   1        2      2   \n",
       "24780  25294      3            0                   3        0      1   \n",
       "24781  25295      6            0                   6        0      1   \n",
       "24782  25296      3            0                   0        3      2   \n",
       "\n",
       "                                                   tweet  \n",
       "0      !!! RT @mayasolovely: As a woman you shouldn't...  \n",
       "1      !!!!! RT @mleew17: boy dats cold...tyga dwn ba...  \n",
       "2      !!!!!!! RT @UrKindOfBrand Dawg!!!! RT @80sbaby...  \n",
       "3      !!!!!!!!! RT @C_G_Anderson: @viva_based she lo...  \n",
       "4      !!!!!!!!!!!!! RT @ShenikaRoberts: The shit you...  \n",
       "...                                                  ...  \n",
       "24778  you's a muthaf***in lie &#8220;@LifeAsKing: @2...  \n",
       "24779  you've gone and broke the wrong heart baby, an...  \n",
       "24780  young buck wanna eat!!.. dat nigguh like I ain...  \n",
       "24781              youu got wild bitches tellin you lies  \n",
       "24782  ~~Ruffled | Ntac Eileen Dahlia - Beautiful col...  \n",
       "\n",
       "[24783 rows x 7 columns]"
      ]
     },
     "execution_count": 2,
     "metadata": {},
     "output_type": "execute_result"
    }
   ],
   "source": [
    "data = panda.read_csv(\"labeled_data.csv\")\n",
    "data"
   ]
  },
  {
   "cell_type": "code",
   "execution_count": 3,
   "id": "introductory-complex",
   "metadata": {},
   "outputs": [
    {
     "name": "stdout",
     "output_type": "stream",
     "text": [
      "<class 'pandas.core.frame.DataFrame'>\n",
      "RangeIndex: 24783 entries, 0 to 24782\n",
      "Data columns (total 7 columns):\n",
      " #   Column              Non-Null Count  Dtype \n",
      "---  ------              --------------  ----- \n",
      " 0   index               24783 non-null  int64 \n",
      " 1   count               24783 non-null  int64 \n",
      " 2   hate_speech         24783 non-null  int64 \n",
      " 3   offensive_language  24783 non-null  int64 \n",
      " 4   neither             24783 non-null  int64 \n",
      " 5   class               24783 non-null  int64 \n",
      " 6   tweet               24783 non-null  object\n",
      "dtypes: int64(6), object(1)\n",
      "memory usage: 1.3+ MB\n"
     ]
    }
   ],
   "source": [
    "data.info()"
   ]
  },
  {
   "cell_type": "code",
   "execution_count": 4,
   "id": "attended-extreme",
   "metadata": {},
   "outputs": [
    {
     "data": {
      "text/plain": [
       "<AxesSubplot:>"
      ]
     },
     "execution_count": 4,
     "metadata": {},
     "output_type": "execute_result"
    },
    {
     "data": {
      "image/png": "[encoded data removed]",
      "text/plain": [
       "<Figure size 432x288 with 1 Axes>"
      ]
     },
     "metadata": {
      "needs_background": "light"
     },
     "output_type": "display_data"
    }
   ],
   "source": [
    "data['class'].hist()"
   ]
  },
  {
   "cell_type": "code",
   "execution_count": 5,
   "id": "artistic-banks",
   "metadata": {},
   "outputs": [],
   "source": [
    "tweet=data.tweet"
   ]
  },
  {
   "cell_type": "code",
   "execution_count": 6,
   "id": "entertaining-liechtenstein",
   "metadata": {},
   "outputs": [],
   "source": [
    "def remove_space(tweet):  \n",
    "    \n",
    "    # removal of extra spaces\n",
    "    regex_pat = re.compile(r'\\s+')\n",
    "    tweet_space = tweet.str.replace(regex_pat, ' ')\n",
    "    # remove whitespace with a single space\n",
    "    newtweet=tweet.str.replace(r'\\s+', ' ')\n",
    "    # remove leading and trailing whitespace\n",
    "    newtweet=newtweet.str.replace(r'^\\s+|\\s+?$','')\n",
    "    # replace normal numbers with numbr\n",
    "    newtweet=newtweet.str.replace(r'\\d+(\\.\\d+)?','numbr')\n",
    "    # removal of capitalization\n",
    "    tweet_lower = newtweet.str.lower()\n",
    "    \n",
    "    return tweet_lower"
   ]
  },
  {
   "cell_type": "code",
   "execution_count": 7,
   "id": "enabling-hamburg",
   "metadata": {},
   "outputs": [
    {
     "data": {
      "text/html": [
       "<div>\n",
       "<style scoped>\n",
       "    .dataframe tbody tr th:only-of-type {\n",
       "        vertical-align: middle;\n",
       "    }\n",
       "\n",
       "    .dataframe tbody tr th {\n",
       "        vertical-align: top;\n",
       "    }\n",
       "\n",
       "    .dataframe thead th {\n",
       "        text-align: right;\n",
       "    }\n",
       "</style>\n",
       "<table border=\"1\" class=\"dataframe\">\n",
       "  <thead>\n",
       "    <tr style=\"text-align: right;\">\n",
       "      <th></th>\n",
       "      <th>index</th>\n",
       "      <th>count</th>\n",
       "      <th>hate_speech</th>\n",
       "      <th>offensive_language</th>\n",
       "      <th>neither</th>\n",
       "      <th>class</th>\n",
       "      <th>tweet</th>\n",
       "      <th>tweets_w/o_space</th>\n",
       "    </tr>\n",
       "  </thead>\n",
       "  <tbody>\n",
       "    <tr>\n",
       "      <th>0</th>\n",
       "      <td>0</td>\n",
       "      <td>3</td>\n",
       "      <td>0</td>\n",
       "      <td>0</td>\n",
       "      <td>3</td>\n",
       "      <td>2</td>\n",
       "      <td>!!! RT @mayasolovely: As a woman you shouldn't...</td>\n",
       "      <td>!!! rt @mayasolovely: as a woman you shouldn't...</td>\n",
       "    </tr>\n",
       "    <tr>\n",
       "      <th>1</th>\n",
       "      <td>1</td>\n",
       "      <td>3</td>\n",
       "      <td>0</td>\n",
       "      <td>3</td>\n",
       "      <td>0</td>\n",
       "      <td>1</td>\n",
       "      <td>!!!!! RT @mleew17: boy dats cold...tyga dwn ba...</td>\n",
       "      <td>!!!!! rt @mleewnumbr: boy dats cold...tyga dwn...</td>\n",
       "    </tr>\n",
       "    <tr>\n",
       "      <th>2</th>\n",
       "      <td>2</td>\n",
       "      <td>3</td>\n",
       "      <td>0</td>\n",
       "      <td>3</td>\n",
       "      <td>0</td>\n",
       "      <td>1</td>\n",
       "      <td>!!!!!!! RT @UrKindOfBrand Dawg!!!! RT @80sbaby...</td>\n",
       "      <td>!!!!!!! rt @urkindofbrand dawg!!!! rt @numbrsb...</td>\n",
       "    </tr>\n",
       "    <tr>\n",
       "      <th>3</th>\n",
       "      <td>3</td>\n",
       "      <td>3</td>\n",
       "      <td>0</td>\n",
       "      <td>2</td>\n",
       "      <td>1</td>\n",
       "      <td>1</td>\n",
       "      <td>!!!!!!!!! RT @C_G_Anderson: @viva_based she lo...</td>\n",
       "      <td>!!!!!!!!! rt @c_g_anderson: @viva_based she lo...</td>\n",
       "    </tr>\n",
       "    <tr>\n",
       "      <th>4</th>\n",
       "      <td>4</td>\n",
       "      <td>6</td>\n",
       "      <td>0</td>\n",
       "      <td>6</td>\n",
       "      <td>0</td>\n",
       "      <td>1</td>\n",
       "      <td>!!!!!!!!!!!!! RT @ShenikaRoberts: The shit you...</td>\n",
       "      <td>!!!!!!!!!!!!! rt @shenikaroberts: the shit you...</td>\n",
       "    </tr>\n",
       "  </tbody>\n",
       "</table>\n",
       "</div>"
      ],
      "text/plain": [
       "   index  count  hate_speech  offensive_language  neither  class  \\\n",
       "0      0      3            0                   0        3      2   \n",
       "1      1      3            0                   3        0      1   \n",
       "2      2      3            0                   3        0      1   \n",
       "3      3      3            0                   2        1      1   \n",
       "4      4      6            0                   6        0      1   \n",
       "\n",
       "                                               tweet  \\\n",
       "0  !!! RT @mayasolovely: As a woman you shouldn't...   \n",
       "1  !!!!! RT @mleew17: boy dats cold...tyga dwn ba...   \n",
       "2  !!!!!!! RT @UrKindOfBrand Dawg!!!! RT @80sbaby...   \n",
       "3  !!!!!!!!! RT @C_G_Anderson: @viva_based she lo...   \n",
       "4  !!!!!!!!!!!!! RT @ShenikaRoberts: The shit you...   \n",
       "\n",
       "                                    tweets_w/o_space  \n",
       "0  !!! rt @mayasolovely: as a woman you shouldn't...  \n",
       "1  !!!!! rt @mleewnumbr: boy dats cold...tyga dwn...  \n",
       "2  !!!!!!! rt @urkindofbrand dawg!!!! rt @numbrsb...  \n",
       "3  !!!!!!!!! rt @c_g_anderson: @viva_based she lo...  \n",
       "4  !!!!!!!!!!!!! rt @shenikaroberts: the shit you...  "
      ]
     },
     "execution_count": 7,
     "metadata": {},
     "output_type": "execute_result"
    }
   ],
   "source": [
    "tweets_space= remove_space(tweet)\n",
    "data[\"tweets_w/o_space\"]=tweets_space\n",
    "data.head()"
   ]
  },
  {
   "cell_type": "code",
   "execution_count": 8,
   "id": "egyptian-reducing",
   "metadata": {},
   "outputs": [],
   "source": [
    "def remove_urls(tweet):\n",
    "    url_pattern = re.compile(r'https?://\\S+|www\\.\\S+')\n",
    "    return url_pattern.sub(r'', tweet)\n",
    "\n",
    "data[\"tweet_w/o_url\"] = data[\"tweets_w/o_space\"].apply(lambda tweet: remove_urls(tweet))"
   ]
  },
  {
   "cell_type": "code",
   "execution_count": 9,
   "id": "comprehensive-toronto",
   "metadata": {},
   "outputs": [
    {
     "name": "stderr",
     "output_type": "stream",
     "text": [
      "[nltk_data] Downloading package wordnet to\n",
      "[nltk_data]     C:\\Users\\Sridhar\\AppData\\Roaming\\nltk_data...\n",
      "[nltk_data]   Package wordnet is already up-to-date!\n"
     ]
    },
    {
     "data": {
      "text/plain": [
       "True"
      ]
     },
     "execution_count": 9,
     "metadata": {},
     "output_type": "execute_result"
    }
   ],
   "source": [
    "import nltk\n",
    "nltk.download('wordnet')"
   ]
  },
  {
   "cell_type": "code",
   "execution_count": 10,
   "id": "necessary-allah",
   "metadata": {},
   "outputs": [],
   "source": [
    "from nltk.stem import WordNetLemmatizer\n",
    "\n",
    "data['tweet_lem'] = [''.join([WordNetLemmatizer().lemmatize(re.sub('[^A-Za-z]',' ',tweet)) for tweet in lis]) for lis in data['tweet_w/o_url']]"
   ]
  },
  {
   "cell_type": "code",
   "execution_count": 11,
   "id": "fatty-dallas",
   "metadata": {},
   "outputs": [],
   "source": [
    "data[\"tokenized_tweet\"] = data[\"tweet_lem\"].apply(lambda x: x.split())"
   ]
  },
  {
   "cell_type": "code",
   "execution_count": 12,
   "id": "suited-auction",
   "metadata": {},
   "outputs": [
    {
     "data": {
      "text/html": [
       "<div>\n",
       "<style scoped>\n",
       "    .dataframe tbody tr th:only-of-type {\n",
       "        vertical-align: middle;\n",
       "    }\n",
       "\n",
       "    .dataframe tbody tr th {\n",
       "        vertical-align: top;\n",
       "    }\n",
       "\n",
       "    .dataframe thead th {\n",
       "        text-align: right;\n",
       "    }\n",
       "</style>\n",
       "<table border=\"1\" class=\"dataframe\">\n",
       "  <thead>\n",
       "    <tr style=\"text-align: right;\">\n",
       "      <th></th>\n",
       "      <th>index</th>\n",
       "      <th>count</th>\n",
       "      <th>hate_speech</th>\n",
       "      <th>offensive_language</th>\n",
       "      <th>neither</th>\n",
       "      <th>class</th>\n",
       "      <th>tweet</th>\n",
       "      <th>tweets_w/o_space</th>\n",
       "      <th>tweet_w/o_url</th>\n",
       "      <th>tweet_lem</th>\n",
       "      <th>tokenized_tweet</th>\n",
       "    </tr>\n",
       "  </thead>\n",
       "  <tbody>\n",
       "    <tr>\n",
       "      <th>0</th>\n",
       "      <td>0</td>\n",
       "      <td>3</td>\n",
       "      <td>0</td>\n",
       "      <td>0</td>\n",
       "      <td>3</td>\n",
       "      <td>2</td>\n",
       "      <td>!!! RT @mayasolovely: As a woman you shouldn't...</td>\n",
       "      <td>!!! rt @mayasolovely: as a woman you shouldn't...</td>\n",
       "      <td>!!! rt @mayasolovely: as a woman you shouldn't...</td>\n",
       "      <td>rt  mayasolovely  as a woman you shouldn t...</td>\n",
       "      <td>[rt, mayasolovely, as, a, woman, you, shouldn,...</td>\n",
       "    </tr>\n",
       "    <tr>\n",
       "      <th>1</th>\n",
       "      <td>1</td>\n",
       "      <td>3</td>\n",
       "      <td>0</td>\n",
       "      <td>3</td>\n",
       "      <td>0</td>\n",
       "      <td>1</td>\n",
       "      <td>!!!!! RT @mleew17: boy dats cold...tyga dwn ba...</td>\n",
       "      <td>!!!!! rt @mleewnumbr: boy dats cold...tyga dwn...</td>\n",
       "      <td>!!!!! rt @mleewnumbr: boy dats cold...tyga dwn...</td>\n",
       "      <td>rt  mleewnumbr  boy dats cold   tyga dwn...</td>\n",
       "      <td>[rt, mleewnumbr, boy, dats, cold, tyga, dwn, b...</td>\n",
       "    </tr>\n",
       "    <tr>\n",
       "      <th>2</th>\n",
       "      <td>2</td>\n",
       "      <td>3</td>\n",
       "      <td>0</td>\n",
       "      <td>3</td>\n",
       "      <td>0</td>\n",
       "      <td>1</td>\n",
       "      <td>!!!!!!! RT @UrKindOfBrand Dawg!!!! RT @80sbaby...</td>\n",
       "      <td>!!!!!!! rt @urkindofbrand dawg!!!! rt @numbrsb...</td>\n",
       "      <td>!!!!!!! rt @urkindofbrand dawg!!!! rt @numbrsb...</td>\n",
       "      <td>rt  urkindofbrand dawg     rt  numbrsb...</td>\n",
       "      <td>[rt, urkindofbrand, dawg, rt, numbrsbabynumbrl...</td>\n",
       "    </tr>\n",
       "    <tr>\n",
       "      <th>3</th>\n",
       "      <td>3</td>\n",
       "      <td>3</td>\n",
       "      <td>0</td>\n",
       "      <td>2</td>\n",
       "      <td>1</td>\n",
       "      <td>1</td>\n",
       "      <td>!!!!!!!!! RT @C_G_Anderson: @viva_based she lo...</td>\n",
       "      <td>!!!!!!!!! rt @c_g_anderson: @viva_based she lo...</td>\n",
       "      <td>!!!!!!!!! rt @c_g_anderson: @viva_based she lo...</td>\n",
       "      <td>rt  c g anderson   viva based she lo...</td>\n",
       "      <td>[rt, c, g, anderson, viva, based, she, look, l...</td>\n",
       "    </tr>\n",
       "    <tr>\n",
       "      <th>4</th>\n",
       "      <td>4</td>\n",
       "      <td>6</td>\n",
       "      <td>0</td>\n",
       "      <td>6</td>\n",
       "      <td>0</td>\n",
       "      <td>1</td>\n",
       "      <td>!!!!!!!!!!!!! RT @ShenikaRoberts: The shit you...</td>\n",
       "      <td>!!!!!!!!!!!!! rt @shenikaroberts: the shit you...</td>\n",
       "      <td>!!!!!!!!!!!!! rt @shenikaroberts: the shit you...</td>\n",
       "      <td>rt  shenikaroberts  the shit you...</td>\n",
       "      <td>[rt, shenikaroberts, the, shit, you, hear, abo...</td>\n",
       "    </tr>\n",
       "  </tbody>\n",
       "</table>\n",
       "</div>"
      ],
      "text/plain": [
       "   index  count  hate_speech  offensive_language  neither  class  \\\n",
       "0      0      3            0                   0        3      2   \n",
       "1      1      3            0                   3        0      1   \n",
       "2      2      3            0                   3        0      1   \n",
       "3      3      3            0                   2        1      1   \n",
       "4      4      6            0                   6        0      1   \n",
       "\n",
       "                                               tweet  \\\n",
       "0  !!! RT @mayasolovely: As a woman you shouldn't...   \n",
       "1  !!!!! RT @mleew17: boy dats cold...tyga dwn ba...   \n",
       "2  !!!!!!! RT @UrKindOfBrand Dawg!!!! RT @80sbaby...   \n",
       "3  !!!!!!!!! RT @C_G_Anderson: @viva_based she lo...   \n",
       "4  !!!!!!!!!!!!! RT @ShenikaRoberts: The shit you...   \n",
       "\n",
       "                                    tweets_w/o_space  \\\n",
       "0  !!! rt @mayasolovely: as a woman you shouldn't...   \n",
       "1  !!!!! rt @mleewnumbr: boy dats cold...tyga dwn...   \n",
       "2  !!!!!!! rt @urkindofbrand dawg!!!! rt @numbrsb...   \n",
       "3  !!!!!!!!! rt @c_g_anderson: @viva_based she lo...   \n",
       "4  !!!!!!!!!!!!! rt @shenikaroberts: the shit you...   \n",
       "\n",
       "                                       tweet_w/o_url  \\\n",
       "0  !!! rt @mayasolovely: as a woman you shouldn't...   \n",
       "1  !!!!! rt @mleewnumbr: boy dats cold...tyga dwn...   \n",
       "2  !!!!!!! rt @urkindofbrand dawg!!!! rt @numbrsb...   \n",
       "3  !!!!!!!!! rt @c_g_anderson: @viva_based she lo...   \n",
       "4  !!!!!!!!!!!!! rt @shenikaroberts: the shit you...   \n",
       "\n",
       "                                           tweet_lem  \\\n",
       "0      rt  mayasolovely  as a woman you shouldn t...   \n",
       "1        rt  mleewnumbr  boy dats cold   tyga dwn...   \n",
       "2          rt  urkindofbrand dawg     rt  numbrsb...   \n",
       "3            rt  c g anderson   viva based she lo...   \n",
       "4                rt  shenikaroberts  the shit you...   \n",
       "\n",
       "                                     tokenized_tweet  \n",
       "0  [rt, mayasolovely, as, a, woman, you, shouldn,...  \n",
       "1  [rt, mleewnumbr, boy, dats, cold, tyga, dwn, b...  \n",
       "2  [rt, urkindofbrand, dawg, rt, numbrsbabynumbrl...  \n",
       "3  [rt, c, g, anderson, viva, based, she, look, l...  \n",
       "4  [rt, shenikaroberts, the, shit, you, hear, abo...  "
      ]
     },
     "execution_count": 12,
     "metadata": {},
     "output_type": "execute_result"
    }
   ],
   "source": [
    "data.head()"
   ]
  },
  {
   "cell_type": "code",
   "execution_count": 13,
   "id": "educated-dover",
   "metadata": {},
   "outputs": [
    {
     "name": "stderr",
     "output_type": "stream",
     "text": [
      "[nltk_data] Downloading package stopwords to\n",
      "[nltk_data]     C:\\Users\\Sridhar\\AppData\\Roaming\\nltk_data...\n",
      "[nltk_data]   Package stopwords is already up-to-date!\n"
     ]
    },
    {
     "data": {
      "text/plain": [
       "True"
      ]
     },
     "execution_count": 13,
     "metadata": {},
     "output_type": "execute_result"
    }
   ],
   "source": [
    "import nltk\n",
    "nltk.download('stopwords')"
   ]
  },
  {
   "cell_type": "code",
   "execution_count": 14,
   "id": "comparative-proposal",
   "metadata": {},
   "outputs": [],
   "source": [
    "stopwords = nltk.corpus.stopwords.words(\"english\")\n",
    "\n",
    "#extending the stopwords to include other words used in twitter such as retweet(rt) etc.\n",
    "other_exclusions = [\"#ff\", \"ff\", \"rt\"]\n",
    "stopwords.extend(other_exclusions)\n",
    "stemmer = PorterStemmer()"
   ]
  },
  {
   "cell_type": "code",
   "execution_count": 15,
   "id": "challenging-spine",
   "metadata": {},
   "outputs": [
    {
     "data": {
      "text/html": [
       "<div>\n",
       "<style scoped>\n",
       "    .dataframe tbody tr th:only-of-type {\n",
       "        vertical-align: middle;\n",
       "    }\n",
       "\n",
       "    .dataframe tbody tr th {\n",
       "        vertical-align: top;\n",
       "    }\n",
       "\n",
       "    .dataframe thead th {\n",
       "        text-align: right;\n",
       "    }\n",
       "</style>\n",
       "<table border=\"1\" class=\"dataframe\">\n",
       "  <thead>\n",
       "    <tr style=\"text-align: right;\">\n",
       "      <th></th>\n",
       "      <th>index</th>\n",
       "      <th>count</th>\n",
       "      <th>hate_speech</th>\n",
       "      <th>offensive_language</th>\n",
       "      <th>neither</th>\n",
       "      <th>class</th>\n",
       "      <th>tweet</th>\n",
       "      <th>tweets_w/o_space</th>\n",
       "      <th>tweet_w/o_url</th>\n",
       "      <th>tweet_lem</th>\n",
       "      <th>tokenized_tweet</th>\n",
       "      <th>tweet_w/o_stop</th>\n",
       "    </tr>\n",
       "  </thead>\n",
       "  <tbody>\n",
       "    <tr>\n",
       "      <th>0</th>\n",
       "      <td>0</td>\n",
       "      <td>3</td>\n",
       "      <td>0</td>\n",
       "      <td>0</td>\n",
       "      <td>3</td>\n",
       "      <td>2</td>\n",
       "      <td>!!! RT @mayasolovely: As a woman you shouldn't...</td>\n",
       "      <td>!!! rt @mayasolovely: as a woman you shouldn't...</td>\n",
       "      <td>!!! rt @mayasolovely: as a woman you shouldn't...</td>\n",
       "      <td>rt  mayasolovely  as a woman you shouldn t...</td>\n",
       "      <td>[rt, mayasolovely, as, a, woman, you, shouldn,...</td>\n",
       "      <td>[mayasolovely, woman, complain, cleaning, hous...</td>\n",
       "    </tr>\n",
       "    <tr>\n",
       "      <th>1</th>\n",
       "      <td>1</td>\n",
       "      <td>3</td>\n",
       "      <td>0</td>\n",
       "      <td>3</td>\n",
       "      <td>0</td>\n",
       "      <td>1</td>\n",
       "      <td>!!!!! RT @mleew17: boy dats cold...tyga dwn ba...</td>\n",
       "      <td>!!!!! rt @mleewnumbr: boy dats cold...tyga dwn...</td>\n",
       "      <td>!!!!! rt @mleewnumbr: boy dats cold...tyga dwn...</td>\n",
       "      <td>rt  mleewnumbr  boy dats cold   tyga dwn...</td>\n",
       "      <td>[rt, mleewnumbr, boy, dats, cold, tyga, dwn, b...</td>\n",
       "      <td>[mleewnumbr, boy, dats, cold, tyga, dwn, bad, ...</td>\n",
       "    </tr>\n",
       "    <tr>\n",
       "      <th>2</th>\n",
       "      <td>2</td>\n",
       "      <td>3</td>\n",
       "      <td>0</td>\n",
       "      <td>3</td>\n",
       "      <td>0</td>\n",
       "      <td>1</td>\n",
       "      <td>!!!!!!! RT @UrKindOfBrand Dawg!!!! RT @80sbaby...</td>\n",
       "      <td>!!!!!!! rt @urkindofbrand dawg!!!! rt @numbrsb...</td>\n",
       "      <td>!!!!!!! rt @urkindofbrand dawg!!!! rt @numbrsb...</td>\n",
       "      <td>rt  urkindofbrand dawg     rt  numbrsb...</td>\n",
       "      <td>[rt, urkindofbrand, dawg, rt, numbrsbabynumbrl...</td>\n",
       "      <td>[urkindofbrand, dawg, numbrsbabynumbrlife, eve...</td>\n",
       "    </tr>\n",
       "    <tr>\n",
       "      <th>3</th>\n",
       "      <td>3</td>\n",
       "      <td>3</td>\n",
       "      <td>0</td>\n",
       "      <td>2</td>\n",
       "      <td>1</td>\n",
       "      <td>1</td>\n",
       "      <td>!!!!!!!!! RT @C_G_Anderson: @viva_based she lo...</td>\n",
       "      <td>!!!!!!!!! rt @c_g_anderson: @viva_based she lo...</td>\n",
       "      <td>!!!!!!!!! rt @c_g_anderson: @viva_based she lo...</td>\n",
       "      <td>rt  c g anderson   viva based she lo...</td>\n",
       "      <td>[rt, c, g, anderson, viva, based, she, look, l...</td>\n",
       "      <td>[c, g, anderson, viva, based, look, like, tranny]</td>\n",
       "    </tr>\n",
       "    <tr>\n",
       "      <th>4</th>\n",
       "      <td>4</td>\n",
       "      <td>6</td>\n",
       "      <td>0</td>\n",
       "      <td>6</td>\n",
       "      <td>0</td>\n",
       "      <td>1</td>\n",
       "      <td>!!!!!!!!!!!!! RT @ShenikaRoberts: The shit you...</td>\n",
       "      <td>!!!!!!!!!!!!! rt @shenikaroberts: the shit you...</td>\n",
       "      <td>!!!!!!!!!!!!! rt @shenikaroberts: the shit you...</td>\n",
       "      <td>rt  shenikaroberts  the shit you...</td>\n",
       "      <td>[rt, shenikaroberts, the, shit, you, hear, abo...</td>\n",
       "      <td>[shenikaroberts, shit, hear, might, true, migh...</td>\n",
       "    </tr>\n",
       "  </tbody>\n",
       "</table>\n",
       "</div>"
      ],
      "text/plain": [
       "   index  count  hate_speech  offensive_language  neither  class  \\\n",
       "0      0      3            0                   0        3      2   \n",
       "1      1      3            0                   3        0      1   \n",
       "2      2      3            0                   3        0      1   \n",
       "3      3      3            0                   2        1      1   \n",
       "4      4      6            0                   6        0      1   \n",
       "\n",
       "                                               tweet  \\\n",
       "0  !!! RT @mayasolovely: As a woman you shouldn't...   \n",
       "1  !!!!! RT @mleew17: boy dats cold...tyga dwn ba...   \n",
       "2  !!!!!!! RT @UrKindOfBrand Dawg!!!! RT @80sbaby...   \n",
       "3  !!!!!!!!! RT @C_G_Anderson: @viva_based she lo...   \n",
       "4  !!!!!!!!!!!!! RT @ShenikaRoberts: The shit you...   \n",
       "\n",
       "                                    tweets_w/o_space  \\\n",
       "0  !!! rt @mayasolovely: as a woman you shouldn't...   \n",
       "1  !!!!! rt @mleewnumbr: boy dats cold...tyga dwn...   \n",
       "2  !!!!!!! rt @urkindofbrand dawg!!!! rt @numbrsb...   \n",
       "3  !!!!!!!!! rt @c_g_anderson: @viva_based she lo...   \n",
       "4  !!!!!!!!!!!!! rt @shenikaroberts: the shit you...   \n",
       "\n",
       "                                       tweet_w/o_url  \\\n",
       "0  !!! rt @mayasolovely: as a woman you shouldn't...   \n",
       "1  !!!!! rt @mleewnumbr: boy dats cold...tyga dwn...   \n",
       "2  !!!!!!! rt @urkindofbrand dawg!!!! rt @numbrsb...   \n",
       "3  !!!!!!!!! rt @c_g_anderson: @viva_based she lo...   \n",
       "4  !!!!!!!!!!!!! rt @shenikaroberts: the shit you...   \n",
       "\n",
       "                                           tweet_lem  \\\n",
       "0      rt  mayasolovely  as a woman you shouldn t...   \n",
       "1        rt  mleewnumbr  boy dats cold   tyga dwn...   \n",
       "2          rt  urkindofbrand dawg     rt  numbrsb...   \n",
       "3            rt  c g anderson   viva based she lo...   \n",
       "4                rt  shenikaroberts  the shit you...   \n",
       "\n",
       "                                     tokenized_tweet  \\\n",
       "0  [rt, mayasolovely, as, a, woman, you, shouldn,...   \n",
       "1  [rt, mleewnumbr, boy, dats, cold, tyga, dwn, b...   \n",
       "2  [rt, urkindofbrand, dawg, rt, numbrsbabynumbrl...   \n",
       "3  [rt, c, g, anderson, viva, based, she, look, l...   \n",
       "4  [rt, shenikaroberts, the, shit, you, hear, abo...   \n",
       "\n",
       "                                      tweet_w/o_stop  \n",
       "0  [mayasolovely, woman, complain, cleaning, hous...  \n",
       "1  [mleewnumbr, boy, dats, cold, tyga, dwn, bad, ...  \n",
       "2  [urkindofbrand, dawg, numbrsbabynumbrlife, eve...  \n",
       "3  [c, g, anderson, viva, based, look, like, tranny]  \n",
       "4  [shenikaroberts, shit, hear, might, true, migh...  "
      ]
     },
     "execution_count": 15,
     "metadata": {},
     "output_type": "execute_result"
    }
   ],
   "source": [
    "data[\"tweet_w/o_stop\"] = data[\"tokenized_tweet\"].apply(lambda x: [item for item in x if item not in stopwords])\n",
    "data.head()"
   ]
  },
  {
   "cell_type": "code",
   "execution_count": 16,
   "id": "geological-apple",
   "metadata": {},
   "outputs": [],
   "source": [
    "processed_tweet = data[\"tweet_w/o_stop\"].apply(lambda x: [stemmer.stem(i) for i in x]) \n",
    "    "
   ]
  },
  {
   "cell_type": "code",
   "execution_count": 17,
   "id": "stunning-perception",
   "metadata": {},
   "outputs": [],
   "source": [
    " for i in range(len(processed_tweet)):\n",
    "        processed_tweet[i] = ' '.join(processed_tweet[i])\n",
    "        tweets_p= processed_tweet"
   ]
  },
  {
   "cell_type": "code",
   "execution_count": 18,
   "id": "raising-distinction",
   "metadata": {},
   "outputs": [],
   "source": [
    "data['processed_tweet'] = tweets_p"
   ]
  },
  {
   "cell_type": "code",
   "execution_count": 19,
   "id": "japanese-chinese",
   "metadata": {},
   "outputs": [
    {
     "data": {
      "text/html": [
       "<div>\n",
       "<style scoped>\n",
       "    .dataframe tbody tr th:only-of-type {\n",
       "        vertical-align: middle;\n",
       "    }\n",
       "\n",
       "    .dataframe tbody tr th {\n",
       "        vertical-align: top;\n",
       "    }\n",
       "\n",
       "    .dataframe thead th {\n",
       "        text-align: right;\n",
       "    }\n",
       "</style>\n",
       "<table border=\"1\" class=\"dataframe\">\n",
       "  <thead>\n",
       "    <tr style=\"text-align: right;\">\n",
       "      <th></th>\n",
       "      <th>index</th>\n",
       "      <th>count</th>\n",
       "      <th>hate_speech</th>\n",
       "      <th>offensive_language</th>\n",
       "      <th>neither</th>\n",
       "      <th>class</th>\n",
       "      <th>tweet</th>\n",
       "      <th>tweets_w/o_space</th>\n",
       "      <th>tweet_w/o_url</th>\n",
       "      <th>tweet_lem</th>\n",
       "      <th>tokenized_tweet</th>\n",
       "      <th>tweet_w/o_stop</th>\n",
       "      <th>processed_tweet</th>\n",
       "    </tr>\n",
       "  </thead>\n",
       "  <tbody>\n",
       "    <tr>\n",
       "      <th>0</th>\n",
       "      <td>0</td>\n",
       "      <td>3</td>\n",
       "      <td>0</td>\n",
       "      <td>0</td>\n",
       "      <td>3</td>\n",
       "      <td>2</td>\n",
       "      <td>!!! RT @mayasolovely: As a woman you shouldn't...</td>\n",
       "      <td>!!! rt @mayasolovely: as a woman you shouldn't...</td>\n",
       "      <td>!!! rt @mayasolovely: as a woman you shouldn't...</td>\n",
       "      <td>rt  mayasolovely  as a woman you shouldn t...</td>\n",
       "      <td>[rt, mayasolovely, as, a, woman, you, shouldn,...</td>\n",
       "      <td>[mayasolovely, woman, complain, cleaning, hous...</td>\n",
       "      <td>mayasolov woman complain clean hous amp man al...</td>\n",
       "    </tr>\n",
       "    <tr>\n",
       "      <th>1</th>\n",
       "      <td>1</td>\n",
       "      <td>3</td>\n",
       "      <td>0</td>\n",
       "      <td>3</td>\n",
       "      <td>0</td>\n",
       "      <td>1</td>\n",
       "      <td>!!!!! RT @mleew17: boy dats cold...tyga dwn ba...</td>\n",
       "      <td>!!!!! rt @mleewnumbr: boy dats cold...tyga dwn...</td>\n",
       "      <td>!!!!! rt @mleewnumbr: boy dats cold...tyga dwn...</td>\n",
       "      <td>rt  mleewnumbr  boy dats cold   tyga dwn...</td>\n",
       "      <td>[rt, mleewnumbr, boy, dats, cold, tyga, dwn, b...</td>\n",
       "      <td>[mleewnumbr, boy, dats, cold, tyga, dwn, bad, ...</td>\n",
       "      <td>mleewnumbr boy dat cold tyga dwn bad cuffin da...</td>\n",
       "    </tr>\n",
       "    <tr>\n",
       "      <th>2</th>\n",
       "      <td>2</td>\n",
       "      <td>3</td>\n",
       "      <td>0</td>\n",
       "      <td>3</td>\n",
       "      <td>0</td>\n",
       "      <td>1</td>\n",
       "      <td>!!!!!!! RT @UrKindOfBrand Dawg!!!! RT @80sbaby...</td>\n",
       "      <td>!!!!!!! rt @urkindofbrand dawg!!!! rt @numbrsb...</td>\n",
       "      <td>!!!!!!! rt @urkindofbrand dawg!!!! rt @numbrsb...</td>\n",
       "      <td>rt  urkindofbrand dawg     rt  numbrsb...</td>\n",
       "      <td>[rt, urkindofbrand, dawg, rt, numbrsbabynumbrl...</td>\n",
       "      <td>[urkindofbrand, dawg, numbrsbabynumbrlife, eve...</td>\n",
       "      <td>urkindofbrand dawg numbrsbabynumbrlif ever fuc...</td>\n",
       "    </tr>\n",
       "    <tr>\n",
       "      <th>3</th>\n",
       "      <td>3</td>\n",
       "      <td>3</td>\n",
       "      <td>0</td>\n",
       "      <td>2</td>\n",
       "      <td>1</td>\n",
       "      <td>1</td>\n",
       "      <td>!!!!!!!!! RT @C_G_Anderson: @viva_based she lo...</td>\n",
       "      <td>!!!!!!!!! rt @c_g_anderson: @viva_based she lo...</td>\n",
       "      <td>!!!!!!!!! rt @c_g_anderson: @viva_based she lo...</td>\n",
       "      <td>rt  c g anderson   viva based she lo...</td>\n",
       "      <td>[rt, c, g, anderson, viva, based, she, look, l...</td>\n",
       "      <td>[c, g, anderson, viva, based, look, like, tranny]</td>\n",
       "      <td>c g anderson viva base look like tranni</td>\n",
       "    </tr>\n",
       "    <tr>\n",
       "      <th>4</th>\n",
       "      <td>4</td>\n",
       "      <td>6</td>\n",
       "      <td>0</td>\n",
       "      <td>6</td>\n",
       "      <td>0</td>\n",
       "      <td>1</td>\n",
       "      <td>!!!!!!!!!!!!! RT @ShenikaRoberts: The shit you...</td>\n",
       "      <td>!!!!!!!!!!!!! rt @shenikaroberts: the shit you...</td>\n",
       "      <td>!!!!!!!!!!!!! rt @shenikaroberts: the shit you...</td>\n",
       "      <td>rt  shenikaroberts  the shit you...</td>\n",
       "      <td>[rt, shenikaroberts, the, shit, you, hear, abo...</td>\n",
       "      <td>[shenikaroberts, shit, hear, might, true, migh...</td>\n",
       "      <td>shenikarobert shit hear might true might faker...</td>\n",
       "    </tr>\n",
       "  </tbody>\n",
       "</table>\n",
       "</div>"
      ],
      "text/plain": [
       "   index  count  hate_speech  offensive_language  neither  class  \\\n",
       "0      0      3            0                   0        3      2   \n",
       "1      1      3            0                   3        0      1   \n",
       "2      2      3            0                   3        0      1   \n",
       "3      3      3            0                   2        1      1   \n",
       "4      4      6            0                   6        0      1   \n",
       "\n",
       "                                               tweet  \\\n",
       "0  !!! RT @mayasolovely: As a woman you shouldn't...   \n",
       "1  !!!!! RT @mleew17: boy dats cold...tyga dwn ba...   \n",
       "2  !!!!!!! RT @UrKindOfBrand Dawg!!!! RT @80sbaby...   \n",
       "3  !!!!!!!!! RT @C_G_Anderson: @viva_based she lo...   \n",
       "4  !!!!!!!!!!!!! RT @ShenikaRoberts: The shit you...   \n",
       "\n",
       "                                    tweets_w/o_space  \\\n",
       "0  !!! rt @mayasolovely: as a woman you shouldn't...   \n",
       "1  !!!!! rt @mleewnumbr: boy dats cold...tyga dwn...   \n",
       "2  !!!!!!! rt @urkindofbrand dawg!!!! rt @numbrsb...   \n",
       "3  !!!!!!!!! rt @c_g_anderson: @viva_based she lo...   \n",
       "4  !!!!!!!!!!!!! rt @shenikaroberts: the shit you...   \n",
       "\n",
       "                                       tweet_w/o_url  \\\n",
       "0  !!! rt @mayasolovely: as a woman you shouldn't...   \n",
       "1  !!!!! rt @mleewnumbr: boy dats cold...tyga dwn...   \n",
       "2  !!!!!!! rt @urkindofbrand dawg!!!! rt @numbrsb...   \n",
       "3  !!!!!!!!! rt @c_g_anderson: @viva_based she lo...   \n",
       "4  !!!!!!!!!!!!! rt @shenikaroberts: the shit you...   \n",
       "\n",
       "                                           tweet_lem  \\\n",
       "0      rt  mayasolovely  as a woman you shouldn t...   \n",
       "1        rt  mleewnumbr  boy dats cold   tyga dwn...   \n",
       "2          rt  urkindofbrand dawg     rt  numbrsb...   \n",
       "3            rt  c g anderson   viva based she lo...   \n",
       "4                rt  shenikaroberts  the shit you...   \n",
       "\n",
       "                                     tokenized_tweet  \\\n",
       "0  [rt, mayasolovely, as, a, woman, you, shouldn,...   \n",
       "1  [rt, mleewnumbr, boy, dats, cold, tyga, dwn, b...   \n",
       "2  [rt, urkindofbrand, dawg, rt, numbrsbabynumbrl...   \n",
       "3  [rt, c, g, anderson, viva, based, she, look, l...   \n",
       "4  [rt, shenikaroberts, the, shit, you, hear, abo...   \n",
       "\n",
       "                                      tweet_w/o_stop  \\\n",
       "0  [mayasolovely, woman, complain, cleaning, hous...   \n",
       "1  [mleewnumbr, boy, dats, cold, tyga, dwn, bad, ...   \n",
       "2  [urkindofbrand, dawg, numbrsbabynumbrlife, eve...   \n",
       "3  [c, g, anderson, viva, based, look, like, tranny]   \n",
       "4  [shenikaroberts, shit, hear, might, true, migh...   \n",
       "\n",
       "                                     processed_tweet  \n",
       "0  mayasolov woman complain clean hous amp man al...  \n",
       "1  mleewnumbr boy dat cold tyga dwn bad cuffin da...  \n",
       "2  urkindofbrand dawg numbrsbabynumbrlif ever fuc...  \n",
       "3            c g anderson viva base look like tranni  \n",
       "4  shenikarobert shit hear might true might faker...  "
      ]
     },
     "execution_count": 19,
     "metadata": {},
     "output_type": "execute_result"
    }
   ],
   "source": [
    "data.head()"
   ]
  },
  {
   "cell_type": "code",
   "execution_count": 20,
   "id": "young-clone",
   "metadata": {},
   "outputs": [
    {
     "data": {
      "text/plain": [
       "0        !!! RT @mayasolovely: As a woman you shouldn't...\n",
       "1        !!!!! RT @mleew17: boy dats cold...tyga dwn ba...\n",
       "2        !!!!!!! RT @UrKindOfBrand Dawg!!!! RT @80sbaby...\n",
       "3        !!!!!!!!! RT @C_G_Anderson: @viva_based she lo...\n",
       "4        !!!!!!!!!!!!! RT @ShenikaRoberts: The shit you...\n",
       "                               ...                        \n",
       "24778    you's a muthaf***in lie &#8220;@LifeAsKing: @2...\n",
       "24779    you've gone and broke the wrong heart baby, an...\n",
       "24780    young buck wanna eat!!.. dat nigguh like I ain...\n",
       "24781                youu got wild bitches tellin you lies\n",
       "24782    ~~Ruffled | Ntac Eileen Dahlia - Beautiful col...\n",
       "Name: tweet, Length: 24783, dtype: object"
      ]
     },
     "execution_count": 20,
     "metadata": {},
     "output_type": "execute_result"
    }
   ],
   "source": [
    "data.tweet"
   ]
  },
  {
   "cell_type": "code",
   "execution_count": 21,
   "id": "divine-mumbai",
   "metadata": {},
   "outputs": [
    {
     "data": {
      "text/plain": [
       "0        mayasolov woman complain clean hous amp man al...\n",
       "1        mleewnumbr boy dat cold tyga dwn bad cuffin da...\n",
       "2        urkindofbrand dawg numbrsbabynumbrlif ever fuc...\n",
       "3                  c g anderson viva base look like tranni\n",
       "4        shenikarobert shit hear might true might faker...\n",
       "                               ...                        \n",
       "24778    muthaf lie numbr lifeask numbr pearl corey ema...\n",
       "24779      gone broke wrong heart babi drove redneck crazi\n",
       "24780    young buck wanna eat dat nigguh like aint fuck...\n",
       "24781                       youu got wild bitch tellin lie\n",
       "24782    ruffl ntac eileen dahlia beauti color combin p...\n",
       "Name: processed_tweet, Length: 24783, dtype: object"
      ]
     },
     "execution_count": 21,
     "metadata": {},
     "output_type": "execute_result"
    }
   ],
   "source": [
    "data.processed_tweet"
   ]
  },
  {
   "cell_type": "code",
   "execution_count": 22,
   "id": "broad-decade",
   "metadata": {},
   "outputs": [],
   "source": [
    "tweetstop = data['tweet_w/o_stop'] "
   ]
  },
  {
   "cell_type": "code",
   "execution_count": 23,
   "id": "laughing-community",
   "metadata": {},
   "outputs": [],
   "source": [
    "labels = data['class']"
   ]
  },
  {
   "cell_type": "code",
   "execution_count": 24,
   "id": "contained-freight",
   "metadata": {},
   "outputs": [],
   "source": [
    "from sklearn.preprocessing import OneHotEncoder\n",
    "\n",
    "encoder = OneHotEncoder(sparse=False)\n",
    "\n",
    "labels = encoder.fit_transform(np.array(labels).reshape(-1, 1))"
   ]
  },
  {
   "cell_type": "code",
   "execution_count": 25,
   "id": "primary-fiction",
   "metadata": {},
   "outputs": [],
   "source": [
    "from nltk.tokenize.treebank import TreebankWordDetokenizer\n",
    "def detokenize(text):\n",
    "    return TreebankWordDetokenizer().detokenize(text)"
   ]
  },
  {
   "cell_type": "code",
   "execution_count": 26,
   "id": "provincial-helen",
   "metadata": {},
   "outputs": [
    {
     "name": "stdout",
     "output_type": "stream",
     "text": [
      "['mayasolovely woman complain cleaning house amp man always take trash', 'mleewnumbr boy dats cold tyga dwn bad cuffin dat hoe numbrst place', 'urkindofbrand dawg numbrsbabynumbrlife ever fuck bitch start cry confused shit', 'c g anderson viva based look like tranny', 'shenikaroberts shit hear might true might faker bitch told ya numbr']\n"
     ]
    }
   ],
   "source": [
    "data1 = []\n",
    "\n",
    "for i in range(len(tweetstop)):\n",
    "    data1.append(detokenize(tweetstop[i]))\n",
    "print(data1[:5])"
   ]
  },
  {
   "cell_type": "code",
   "execution_count": 27,
   "id": "acoustic-miller",
   "metadata": {},
   "outputs": [],
   "source": [
    "data1 = np.array(data1)"
   ]
  },
  {
   "cell_type": "code",
   "execution_count": 28,
   "id": "associate-buddy",
   "metadata": {},
   "outputs": [
    {
     "name": "stdout",
     "output_type": "stream",
     "text": [
      "[[   0    0    0 ...   83   76   15]\n",
      " [   0    0    0 ...    7  605  414]\n",
      " [   0    0    0 ...  470  900   12]\n",
      " ...\n",
      " [   0    0    0 ...   96   95  246]\n",
      " [   0    0    0 ...    3 1826 1247]\n",
      " [   0    0    0 ...   94   17   48]]\n"
     ]
    }
   ],
   "source": [
    "max_words = 5000\n",
    "max_len = 200\n",
    "\n",
    "tokenizer = Tokenizer(num_words=max_words)\n",
    "tokenizer.fit_on_texts(data1)\n",
    "sequences = tokenizer.texts_to_sequences(data1)\n",
    "tweets_in = pad_sequences(sequences, maxlen=max_len)\n",
    "print(tweets_in)"
   ]
  },
  {
   "cell_type": "code",
   "execution_count": 29,
   "id": "identical-latter",
   "metadata": {},
   "outputs": [
    {
     "name": "stdout",
     "output_type": "stream",
     "text": [
      "18587 6196 18587 6196\n"
     ]
    }
   ],
   "source": [
    "from sklearn.model_selection import train_test_split\n",
    "X_train, X_test, y_train, y_test = train_test_split(tweets_in,labels, random_state=0)\n",
    "print (len(X_train),len(X_test),len(y_train),len(y_test))"
   ]
  },
  {
   "cell_type": "code",
   "execution_count": 30,
   "id": "controversial-thirty",
   "metadata": {},
   "outputs": [],
   "source": [
    "model1 = Sequential()\n",
    "model1.add(layers.Embedding(max_words, 20))\n",
    "model1.add(layers.LSTM(15,dropout=0.5))\n",
    "model1.add(layers.Dense(3,activation='softmax'))\n",
    "\n",
    "\n",
    "model1.compile(optimizer='rmsprop',loss='categorical_crossentropy', metrics=['accuracy'])"
   ]
  },
  {
   "cell_type": "code",
   "execution_count": 31,
   "id": "crude-award",
   "metadata": {},
   "outputs": [
    {
     "name": "stdout",
     "output_type": "stream",
     "text": [
      "WARNING:tensorflow:`period` argument is deprecated. Please use `save_freq` to specify the frequency in number of batches seen.\n"
     ]
    }
   ],
   "source": [
    "checkpoint1 = ModelCheckpoint(\"best_model1.hdf5\", monitor='val_accuracy', verbose=1,save_best_only=True, mode='auto', period=1,save_weights_only=False)"
   ]
  },
  {
   "cell_type": "code",
   "execution_count": 32,
   "id": "buried-jungle",
   "metadata": {},
   "outputs": [
    {
     "name": "stdout",
     "output_type": "stream",
     "text": [
      "Epoch 1/10\n",
      "581/581 [==============================] - ETA: 0s - loss: 0.4937 - accuracy: 0.8260\n",
      "Epoch 00001: val_accuracy improved from -inf to 0.88073, saving model to best_model1.hdf5\n",
      "581/581 [==============================] - 33s 57ms/step - loss: 0.4937 - accuracy: 0.8260 - val_loss: 0.3475 - val_accuracy: 0.8807\n",
      "Epoch 2/10\n",
      "581/581 [==============================] - ETA: 0s - loss: 0.3371 - accuracy: 0.8872\n",
      "Epoch 00002: val_accuracy improved from 0.88073 to 0.89106, saving model to best_model1.hdf5\n",
      "581/581 [==============================] - 36s 61ms/step - loss: 0.3371 - accuracy: 0.8872 - val_loss: 0.3234 - val_accuracy: 0.8911\n",
      "Epoch 3/10\n",
      "581/581 [==============================] - ETA: 0s - loss: 0.3175 - accuracy: 0.8945\n",
      "Epoch 00003: val_accuracy improved from 0.89106 to 0.89251, saving model to best_model1.hdf5\n",
      "581/581 [==============================] - 36s 61ms/step - loss: 0.3175 - accuracy: 0.8945 - val_loss: 0.3189 - val_accuracy: 0.8925\n",
      "Epoch 4/10\n",
      "581/581 [==============================] - ETA: 0s - loss: 0.3050 - accuracy: 0.8980\n",
      "Epoch 00004: val_accuracy did not improve from 0.89251\n",
      "581/581 [==============================] - 37s 64ms/step - loss: 0.3050 - accuracy: 0.8980 - val_loss: 0.3115 - val_accuracy: 0.8904\n",
      "Epoch 5/10\n",
      "581/581 [==============================] - ETA: 0s - loss: 0.2908 - accuracy: 0.9029\n",
      "Epoch 00005: val_accuracy improved from 0.89251 to 0.89703, saving model to best_model1.hdf5\n",
      "581/581 [==============================] - 39s 66ms/step - loss: 0.2908 - accuracy: 0.9029 - val_loss: 0.2964 - val_accuracy: 0.8970\n",
      "Epoch 6/10\n",
      "581/581 [==============================] - ETA: 0s - loss: 0.2782 - accuracy: 0.9046\n",
      "Epoch 00006: val_accuracy improved from 0.89703 to 0.89800, saving model to best_model1.hdf5\n",
      "581/581 [==============================] - 39s 67ms/step - loss: 0.2782 - accuracy: 0.9046 - val_loss: 0.2946 - val_accuracy: 0.8980\n",
      "Epoch 7/10\n",
      "581/581 [==============================] - ETA: 0s - loss: 0.2645 - accuracy: 0.9100\n",
      "Epoch 00007: val_accuracy improved from 0.89800 to 0.89832, saving model to best_model1.hdf5\n",
      "581/581 [==============================] - 39s 67ms/step - loss: 0.2645 - accuracy: 0.9100 - val_loss: 0.2843 - val_accuracy: 0.8983\n",
      "Epoch 8/10\n",
      "581/581 [==============================] - ETA: 0s - loss: 0.2585 - accuracy: 0.9122\n",
      "Epoch 00008: val_accuracy improved from 0.89832 to 0.90219, saving model to best_model1.hdf5\n",
      "581/581 [==============================] - 39s 66ms/step - loss: 0.2585 - accuracy: 0.9122 - val_loss: 0.2841 - val_accuracy: 0.9022\n",
      "Epoch 9/10\n",
      "581/581 [==============================] - ETA: 0s - loss: 0.2491 - accuracy: 0.9157\n",
      "Epoch 00009: val_accuracy did not improve from 0.90219\n",
      "581/581 [==============================] - 36s 62ms/step - loss: 0.2491 - accuracy: 0.9157 - val_loss: 0.2792 - val_accuracy: 0.9009\n",
      "Epoch 10/10\n",
      "581/581 [==============================] - ETA: 0s - loss: 0.2441 - accuracy: 0.9167\n",
      "Epoch 00010: val_accuracy improved from 0.90219 to 0.90284, saving model to best_model1.hdf5\n",
      "581/581 [==============================] - 39s 67ms/step - loss: 0.2441 - accuracy: 0.9167 - val_loss: 0.2779 - val_accuracy: 0.9028\n"
     ]
    }
   ],
   "source": [
    "history1 = model1.fit(X_train, y_train, epochs=10,validation_data=(X_test, y_test),callbacks=[checkpoint1])"
   ]
  },
  {
   "cell_type": "code",
   "execution_count": 37,
   "id": "lasting-given",
   "metadata": {},
   "outputs": [
    {
     "data": {
      "image/png": "[encoded data removed]",
      "text/plain": [
       "<Figure size 432x288 with 1 Axes>"
      ]
     },
     "metadata": {
      "needs_background": "light"
     },
     "output_type": "display_data"
    },
    {
     "data": {
      "text/plain": [
       "<Figure size 432x288 with 0 Axes>"
      ]
     },
     "metadata": {},
     "output_type": "display_data"
    }
   ],
   "source": [
    "import matplotlib.pyplot as plt\n",
    "acc = history1.history['accuracy']\n",
    "val_acc = history1.history['val_accuracy']\n",
    "\n",
    "epochs = range(1, 11)\n",
    "\n",
    "plt.plot(epochs, acc, 'orange', label='Training acc')\n",
    "plt.plot(epochs, val_acc, 'b', label='Validation acc')\n",
    "plt.title('Training and validation accuracy for LSTM Model with word level one hot encoding as Feature')\n",
    "plt.xlabel('Epochs')\n",
    "plt.ylabel('Accuracy')\n",
    "plt.legend()\n",
    "plt.figure()\n",
    "plt.show()"
   ]
  },
  {
   "cell_type": "code",
   "execution_count": 35,
   "id": "changed-layout",
   "metadata": {},
   "outputs": [
    {
     "data": {
      "image/png": "[encoded data removed]",
      "text/plain": [
       "<Figure size 432x288 with 1 Axes>"
      ]
     },
     "metadata": {
      "needs_background": "light"
     },
     "output_type": "display_data"
    }
   ],
   "source": [
    "loss = history1.history['loss']\n",
    "val_loss = history1.history['val_loss']\n",
    "\n",
    "epochs = range(1, 11)\n",
    "\n",
    "plt.plot(epochs, loss, 'orange', label='Training loss')\n",
    "plt.plot(epochs, val_loss, 'b', label='Validation loss')\n",
    "plt.title('Training and validation loss for LSTM Model with word level one hot encoding as Feature')\n",
    "plt.xlabel('Epochs')\n",
    "plt.ylabel('Loss')\n",
    "plt.legend()\n",
    "plt.show()"
   ]
  },
  {
   "cell_type": "code",
   "execution_count": 38,
   "id": "abandoned-portugal",
   "metadata": {},
   "outputs": [
    {
     "data": {
      "text/plain": [
       "array([[0., 0., 0., ..., 0., 0., 0.],\n",
       "       [0., 0., 0., ..., 0., 0., 0.],\n",
       "       [0., 0., 0., ..., 0., 0., 0.],\n",
       "       ...,\n",
       "       [0., 0., 0., ..., 0., 0., 0.],\n",
       "       [0., 0., 0., ..., 0., 0., 0.],\n",
       "       [0., 0., 0., ..., 0., 0., 0.]])"
      ]
     },
     "execution_count": 38,
     "metadata": {},
     "output_type": "execute_result"
    }
   ],
   "source": [
    "tfidf_vectorizer = TfidfVectorizer(ngram_range=(1, 2),max_df=0.75, min_df=5, max_features=1000)\n",
    "tfidf = tfidf_vectorizer.fit_transform(data['processed_tweet'] ).toarray()\n",
    "tfidf"
   ]
  },
  {
   "cell_type": "code",
   "execution_count": 39,
   "id": "fewer-packet",
   "metadata": {},
   "outputs": [
    {
     "data": {
      "text/plain": [
       "(24783, 1000)"
      ]
     },
     "execution_count": 39,
     "metadata": {},
     "output_type": "execute_result"
    }
   ],
   "source": [
    "tfidf.shape"
   ]
  },
  {
   "cell_type": "code",
   "execution_count": 40,
   "id": "level-carpet",
   "metadata": {},
   "outputs": [],
   "source": [
    "max_words = 10000"
   ]
  },
  {
   "cell_type": "code",
   "execution_count": 41,
   "id": "enabling-november",
   "metadata": {},
   "outputs": [],
   "source": [
    "model2 = Sequential()\n",
    "model2.add(layers.Embedding(max_words, 20))\n",
    "model2.add(layers.LSTM(15,dropout=0.5))\n",
    "model2.add(layers.Dense(3,activation='softmax'))\n",
    "\n",
    "\n",
    "model2.compile(optimizer='rmsprop',loss='categorical_crossentropy', metrics=['accuracy'])"
   ]
  },
  {
   "cell_type": "code",
   "execution_count": 42,
   "id": "deadly-republic",
   "metadata": {},
   "outputs": [],
   "source": [
    "from sklearn.model_selection import train_test_split\n",
    "X = tfidf\n",
    "X_train1, X_test1, y_train1, y_test1 = train_test_split(X, labels, random_state=42, test_size=0.2)"
   ]
  },
  {
   "cell_type": "code",
   "execution_count": 43,
   "id": "amended-chassis",
   "metadata": {},
   "outputs": [
    {
     "name": "stdout",
     "output_type": "stream",
     "text": [
      "WARNING:tensorflow:`period` argument is deprecated. Please use `save_freq` to specify the frequency in number of batches seen.\n"
     ]
    }
   ],
   "source": [
    "checkpoint2 = ModelCheckpoint(\"best_model2.hdf5\", monitor='val_accuracy', verbose=1,save_best_only=True, mode='auto', period=1,save_weights_only=False)"
   ]
  },
  {
   "cell_type": "code",
   "execution_count": 44,
   "id": "commercial-reform",
   "metadata": {},
   "outputs": [
    {
     "name": "stdout",
     "output_type": "stream",
     "text": [
      "Epoch 1/10\n",
      "620/620 [==============================] - ETA: 0s - loss: 0.6751 - accuracy: 0.7727\n",
      "Epoch 00001: val_accuracy improved from -inf to 0.77469, saving model to best_model2.hdf5\n",
      "620/620 [==============================] - 197s 318ms/step - loss: 0.6751 - accuracy: 0.7727 - val_loss: 0.6653 - val_accuracy: 0.7747\n",
      "Epoch 2/10\n",
      "620/620 [==============================] - ETA: 0s - loss: 0.6627 - accuracy: 0.7746\n",
      "Epoch 00002: val_accuracy did not improve from 0.77469\n",
      "620/620 [==============================] - 197s 318ms/step - loss: 0.6627 - accuracy: 0.7746 - val_loss: 0.6686 - val_accuracy: 0.7747\n",
      "Epoch 3/10\n",
      "620/620 [==============================] - ETA: 0s - loss: 0.6630 - accuracy: 0.7746\n",
      "Epoch 00003: val_accuracy did not improve from 0.77469\n",
      "620/620 [==============================] - 196s 317ms/step - loss: 0.6630 - accuracy: 0.7746 - val_loss: 0.6654 - val_accuracy: 0.7747\n",
      "Epoch 4/10\n",
      "620/620 [==============================] - ETA: 0s - loss: 0.6626 - accuracy: 0.7746\n",
      "Epoch 00004: val_accuracy did not improve from 0.77469\n",
      "620/620 [==============================] - 196s 316ms/step - loss: 0.6626 - accuracy: 0.7746 - val_loss: 0.6702 - val_accuracy: 0.7747\n",
      "Epoch 5/10\n",
      "620/620 [==============================] - ETA: 0s - loss: 0.6623 - accuracy: 0.7746\n",
      "Epoch 00005: val_accuracy did not improve from 0.77469\n",
      "620/620 [==============================] - 195s 315ms/step - loss: 0.6623 - accuracy: 0.7746 - val_loss: 0.6639 - val_accuracy: 0.7747\n",
      "Epoch 6/10\n",
      "620/620 [==============================] - ETA: 0s - loss: 0.6624 - accuracy: 0.7746\n",
      "Epoch 00006: val_accuracy did not improve from 0.77469\n",
      "620/620 [==============================] - 196s 316ms/step - loss: 0.6624 - accuracy: 0.7746 - val_loss: 0.6642 - val_accuracy: 0.7747\n",
      "Epoch 7/10\n",
      "620/620 [==============================] - ETA: 0s - loss: 0.6627 - accuracy: 0.7746\n",
      "Epoch 00007: val_accuracy did not improve from 0.77469\n",
      "620/620 [==============================] - 196s 316ms/step - loss: 0.6627 - accuracy: 0.7746 - val_loss: 0.6646 - val_accuracy: 0.7747\n",
      "Epoch 8/10\n",
      "620/620 [==============================] - ETA: 0s - loss: 0.6625 - accuracy: 0.7746\n",
      "Epoch 00008: val_accuracy did not improve from 0.77469\n",
      "620/620 [==============================] - 197s 318ms/step - loss: 0.6625 - accuracy: 0.7746 - val_loss: 0.6645 - val_accuracy: 0.7747\n",
      "Epoch 9/10\n",
      "620/620 [==============================] - ETA: 0s - loss: 0.6622 - accuracy: 0.7746\n",
      "Epoch 00009: val_accuracy did not improve from 0.77469\n",
      "620/620 [==============================] - 197s 318ms/step - loss: 0.6622 - accuracy: 0.7746 - val_loss: 0.6645 - val_accuracy: 0.7747\n",
      "Epoch 10/10\n",
      "620/620 [==============================] - ETA: 0s - loss: 0.6623 - accuracy: 0.7746\n",
      "Epoch 00010: val_accuracy did not improve from 0.77469\n",
      "620/620 [==============================] - 196s 316ms/step - loss: 0.6623 - accuracy: 0.7746 - val_loss: 0.6654 - val_accuracy: 0.7747\n"
     ]
    }
   ],
   "source": [
    "history2 = model2.fit(X_train1, y_train1, epochs=10,  validation_data=(X_test, y_test),callbacks=[checkpoint2])"
   ]
  },
  {
   "cell_type": "code",
   "execution_count": 45,
   "id": "difficult-arcade",
   "metadata": {},
   "outputs": [
    {
     "data": {
      "image/png": "[encoded data removed]",
      "text/plain": [
       "<Figure size 432x288 with 1 Axes>"
      ]
     },
     "metadata": {
      "needs_background": "light"
     },
     "output_type": "display_data"
    },
    {
     "data": {
      "text/plain": [
       "<Figure size 432x288 with 0 Axes>"
      ]
     },
     "metadata": {},
     "output_type": "display_data"
    }
   ],
   "source": [
    "import matplotlib.pyplot as plt\n",
    "acc = history2.history['accuracy']\n",
    "val_acc = history2.history['val_accuracy']\n",
    "\n",
    "epochs = range(1, 11)\n",
    "\n",
    "plt.plot(epochs, acc, 'green', label='Training acc')\n",
    "plt.plot(epochs, val_acc, 'yellow', label='Validation acc')\n",
    "plt.title('Training and validation accuracy for LSTM Model with TFIDF Feature')\n",
    "plt.xlabel('Epochs')\n",
    "plt.ylabel('Accuracy')\n",
    "plt.legend()\n",
    "plt.figure()\n",
    "plt.show()"
   ]
  },
  {
   "cell_type": "code",
   "execution_count": 46,
   "id": "acknowledged-brazilian",
   "metadata": {},
   "outputs": [
    {
     "data": {
      "image/png": "[encoded data removed]",
      "text/plain": [
       "<Figure size 432x288 with 1 Axes>"
      ]
     },
     "metadata": {
      "needs_background": "light"
     },
     "output_type": "display_data"
    }
   ],
   "source": [
    "loss = history2.history['loss']\n",
    "val_loss = history2.history['val_loss']\n",
    "\n",
    "epochs = range(1, 11)\n",
    "\n",
    "plt.plot(epochs, loss, 'green', label='Training loss')\n",
    "plt.plot(epochs, val_loss, 'yellow', label='Validation loss')\n",
    "plt.title('Training and validation loss for LSTM Model with TFIDF Feature')\n",
    "plt.xlabel('Epochs')\n",
    "plt.ylabel('Loss')\n",
    "plt.legend()\n",
    "plt.show()"
   ]
  },
  {
   "cell_type": "code",
   "execution_count": 47,
   "id": "official-seven",
   "metadata": {},
   "outputs": [
    {
     "data": {
      "text/plain": [
       "array([[0, 0, 0, ..., 0, 0, 0],\n",
       "       [0, 0, 0, ..., 0, 0, 0],\n",
       "       [0, 0, 0, ..., 0, 0, 0],\n",
       "       ...,\n",
       "       [0, 0, 0, ..., 0, 0, 0],\n",
       "       [0, 0, 0, ..., 0, 0, 0],\n",
       "       [0, 0, 0, ..., 0, 0, 0]], dtype=int64)"
      ]
     },
     "execution_count": 47,
     "metadata": {},
     "output_type": "execute_result"
    }
   ],
   "source": [
    "bow_vectorizer = CountVectorizer( max_features=100, stop_words='english', ngram_range=(2,2))\n",
    "bagofwords=bow_vectorizer.fit_transform(data['processed_tweet'] ).toarray()\n",
    "bagofwords"
   ]
  },
  {
   "cell_type": "code",
   "execution_count": 48,
   "id": "pleased-booth",
   "metadata": {},
   "outputs": [
    {
     "data": {
      "text/plain": [
       "(24783, 100)"
      ]
     },
     "execution_count": 48,
     "metadata": {},
     "output_type": "execute_result"
    }
   ],
   "source": [
    "bagofwords.shape"
   ]
  },
  {
   "cell_type": "code",
   "execution_count": 49,
   "id": "experienced-province",
   "metadata": {},
   "outputs": [],
   "source": [
    "X = bagofwords\n",
    "X_train2, X_test2, y_train2, y_test2 = train_test_split(X, labels, random_state=42, test_size=0.2)"
   ]
  },
  {
   "cell_type": "code",
   "execution_count": 50,
   "id": "sweet-cholesterol",
   "metadata": {},
   "outputs": [],
   "source": [
    "model3 = Sequential()\n",
    "model3.add(layers.Embedding(max_words, 20))\n",
    "model3.add(layers.LSTM(15,dropout=0.5))\n",
    "model3.add(layers.Dense(3,activation='softmax'))\n",
    "\n",
    "\n",
    "model3.compile(optimizer='rmsprop',loss='categorical_crossentropy', metrics=['accuracy'])"
   ]
  },
  {
   "cell_type": "code",
   "execution_count": 51,
   "id": "presidential-vatican",
   "metadata": {},
   "outputs": [
    {
     "name": "stdout",
     "output_type": "stream",
     "text": [
      "WARNING:tensorflow:`period` argument is deprecated. Please use `save_freq` to specify the frequency in number of batches seen.\n"
     ]
    }
   ],
   "source": [
    "checkpoint3 = ModelCheckpoint(\"best_model3.hdf5\", monitor='val_accuracy', verbose=1,save_best_only=True, mode='auto', period=1,save_weights_only=False)"
   ]
  },
  {
   "cell_type": "code",
   "execution_count": 52,
   "id": "dependent-postage",
   "metadata": {},
   "outputs": [
    {
     "name": "stdout",
     "output_type": "stream",
     "text": [
      "Epoch 1/10\n",
      "20/20 [==============================] - ETA: 0s - loss: 0.8173 - accuracy: 0.7500\n",
      "Epoch 00001: val_accuracy improved from -inf to 0.77469, saving model to best_model3.hdf5\n",
      "20/20 [==============================] - 7s 327ms/step - loss: 0.8173 - accuracy: 0.7500 - val_loss: 0.6705 - val_accuracy: 0.7747\n",
      "Epoch 2/10\n",
      "20/20 [==============================] - ETA: 0s - loss: 0.6652 - accuracy: 0.7746\n",
      "Epoch 00002: val_accuracy did not improve from 0.77469\n",
      "20/20 [==============================] - 6s 278ms/step - loss: 0.6652 - accuracy: 0.7746 - val_loss: 0.6623 - val_accuracy: 0.7747\n",
      "Epoch 3/10\n",
      "20/20 [==============================] - ETA: 0s - loss: 0.6621 - accuracy: 0.7746\n",
      "Epoch 00003: val_accuracy did not improve from 0.77469\n",
      "20/20 [==============================] - 6s 305ms/step - loss: 0.6621 - accuracy: 0.7746 - val_loss: 0.6625 - val_accuracy: 0.7747\n",
      "Epoch 4/10\n",
      "20/20 [==============================] - ETA: 0s - loss: 0.6618 - accuracy: 0.7746\n",
      "Epoch 00004: val_accuracy did not improve from 0.77469\n",
      "20/20 [==============================] - 5s 273ms/step - loss: 0.6618 - accuracy: 0.7746 - val_loss: 0.6581 - val_accuracy: 0.7747\n",
      "Epoch 5/10\n",
      "20/20 [==============================] - ETA: 0s - loss: 0.6622 - accuracy: 0.7746\n",
      "Epoch 00005: val_accuracy did not improve from 0.77469\n",
      "20/20 [==============================] - 5s 272ms/step - loss: 0.6622 - accuracy: 0.7746 - val_loss: 0.6548 - val_accuracy: 0.7747\n",
      "Epoch 6/10\n",
      "20/20 [==============================] - ETA: 0s - loss: 0.6619 - accuracy: 0.7746\n",
      "Epoch 00006: val_accuracy did not improve from 0.77469\n",
      "20/20 [==============================] - 6s 288ms/step - loss: 0.6619 - accuracy: 0.7746 - val_loss: 0.6530 - val_accuracy: 0.7747\n",
      "Epoch 7/10\n",
      "20/20 [==============================] - ETA: 0s - loss: 0.6618 - accuracy: 0.7746\n",
      "Epoch 00007: val_accuracy did not improve from 0.77469\n",
      "20/20 [==============================] - 5s 266ms/step - loss: 0.6618 - accuracy: 0.7746 - val_loss: 0.6544 - val_accuracy: 0.7747\n",
      "Epoch 8/10\n",
      "20/20 [==============================] - ETA: 0s - loss: 0.6619 - accuracy: 0.7746\n",
      "Epoch 00008: val_accuracy did not improve from 0.77469\n",
      "20/20 [==============================] - 6s 282ms/step - loss: 0.6619 - accuracy: 0.7746 - val_loss: 0.6525 - val_accuracy: 0.7747\n",
      "Epoch 9/10\n",
      "20/20 [==============================] - ETA: 0s - loss: 0.6617 - accuracy: 0.7746\n",
      "Epoch 00009: val_accuracy did not improve from 0.77469\n",
      "20/20 [==============================] - 5s 256ms/step - loss: 0.6617 - accuracy: 0.7746 - val_loss: 0.6499 - val_accuracy: 0.7747\n",
      "Epoch 10/10\n",
      "20/20 [==============================] - ETA: 0s - loss: 0.6617 - accuracy: 0.7746\n",
      "Epoch 00010: val_accuracy did not improve from 0.77469\n",
      "20/20 [==============================] - 5s 272ms/step - loss: 0.6617 - accuracy: 0.7746 - val_loss: 0.6485 - val_accuracy: 0.7747\n"
     ]
    }
   ],
   "source": [
    "history3 = model3.fit(X_train2, y_train2, epochs=10, steps_per_epoch=20, validation_data=(X_test, y_test),callbacks=[checkpoint3])"
   ]
  },
  {
   "cell_type": "code",
   "execution_count": 53,
   "id": "extra-check",
   "metadata": {},
   "outputs": [
    {
     "data": {
      "image/png": "[encoded data removed]",
      "text/plain": [
       "<Figure size 432x288 with 1 Axes>"
      ]
     },
     "metadata": {
      "needs_background": "light"
     },
     "output_type": "display_data"
    },
    {
     "data": {
      "text/plain": [
       "<Figure size 432x288 with 0 Axes>"
      ]
     },
     "metadata": {},
     "output_type": "display_data"
    }
   ],
   "source": [
    "import matplotlib.pyplot as plt\n",
    "acc = history3.history['accuracy']\n",
    "val_acc = history3.history['val_accuracy']\n",
    "\n",
    "epochs = range(1, 11)\n",
    "\n",
    "plt.plot(epochs, acc, 'purple', label='Training acc')\n",
    "plt.plot(epochs, val_acc, 'red', label='Validation acc')\n",
    "plt.title('Training and validation accuracy for LSTM Model with Bag of words Feature')\n",
    "plt.xlabel('Epochs')\n",
    "plt.ylabel('Accuracy')\n",
    "plt.legend()\n",
    "plt.figure()\n",
    "plt.show()"
   ]
  },
  {
   "cell_type": "code",
   "execution_count": 54,
   "id": "instructional-establishment",
   "metadata": {},
   "outputs": [
    {
     "data": {
      "image/png": "[encoded data removed]",
      "text/plain": [
       "<Figure size 432x288 with 1 Axes>"
      ]
     },
     "metadata": {
      "needs_background": "light"
     },
     "output_type": "display_data"
    }
   ],
   "source": [
    "loss = history3.history['loss']\n",
    "val_loss = history3.history['val_loss']\n",
    "\n",
    "epochs = range(1, 11)\n",
    "\n",
    "plt.plot(epochs, loss, 'purple', label='Training loss')\n",
    "plt.plot(epochs, val_loss, 'red', label='Validation loss')\n",
    "plt.title('Training and validation loss for LSTM Model with Bag of words Feature')\n",
    "plt.xlabel('Epochs')\n",
    "plt.ylabel('Loss')\n",
    "plt.legend()\n",
    "plt.show()"
   ]
  },
  {
   "cell_type": "code",
   "execution_count": null,
   "id": "monetary-kingston",
   "metadata": {},
   "outputs": [],
   "source": []
  }
 ],
 "metadata": {
  "kernelspec": {
   "display_name": "Python 3",
   "language": "python",
   "name": "python3"
  },
  "language_info": {
   "codemirror_mode": {
    "name": "ipython",
    "version": 3
   },
   "file_extension": ".py",
   "mimetype": "text/x-python",
   "name": "python",
   "nbconvert_exporter": "python",
   "pygments_lexer": "ipython3",
   "version": "3.7.10"
  }
 },
 "nbformat": 4,
 "nbformat_minor": 5
}
