{
 "cells": [
  {
   "cell_type": "markdown",
   "metadata": {},
   "source": [
    "# Import Libraries & Model"
   ]
  },
  {
   "cell_type": "code",
   "execution_count": 1,
   "metadata": {},
   "outputs": [],
   "source": [
    "import pandas as pd\n",
    "import numpy as np \n",
    "from string import punctuation\n",
    "import re\n",
    "from nltk.tokenize import word_tokenize\n",
    "import nltk\n",
    "from nltk.corpus import stopwords\n",
    "from nltk.stem import WordNetLemmatizer\n",
    "import joblib\n",
    "import gradio as gr\n",
    "import os\n",
    "from os.path import dirname, join, realpath"
   ]
  },
  {
   "cell_type": "code",
   "execution_count": 2,
   "metadata": {},
   "outputs": [],
   "source": [
    "# Load the sentiment model \n",
    "with open(\n",
    "    join( \"Bertopic_model_cpu.pkl\"), \"rb\"\n",
    ") as f:\n",
    "    model = joblib.load(f) \n",
    "\n",
    "# Load the topic list\n",
    "topics_name = pd.read_excel(\"topic_list_cpu.xlsx\")\n",
    "\n",
    "topic_dict = topics_name.set_index(\"Topic\")[\"Representation\"].to_dict()  "
   ]
  },
  {
   "cell_type": "markdown",
   "metadata": {},
   "source": [
    "# Predefined Functions"
   ]
  },
  {
   "cell_type": "code",
   "execution_count": 3,
   "metadata": {},
   "outputs": [],
   "source": [
    "# Text cleaning function\n",
    "def text_cleaning(text, remove_stop_words=True, lemmatize_words=True):\n",
    "    text = re.sub(r\"[^A-Za-z0-9]\", \" \", text)\n",
    "    text = re.sub(r\"\\'s\", \" \", text)\n",
    "    text = re.sub(r\"http\\S+\", \" link \", text)\n",
    "    text = re.sub(r\"\\b\\d+(?:\\.\\d+)?\\s+\", \"\", text)\n",
    "    text = \"\".join([c for c in text if c not in punctuation])\n",
    "    if lemmatize_words:\n",
    "        text = text.split()\n",
    "        lemmatizer = WordNetLemmatizer()\n",
    "        lemmatized_words = [lemmatizer.lemmatize(word) for word in text]\n",
    "        text = \" \".join(lemmatized_words)\n",
    "    return text\n",
    "\n",
    "def format_dictionary(dictionary):\n",
    "    formatted_string = \"{\\n\"\n",
    "    for key, value in dictionary.items():\n",
    "        formatted_string += f\"    '{key}': {value},\\n\"\n",
    "    formatted_string += \"}\"\n",
    "    return formatted_string\n",
    "\n",
    "# Prediction function\n",
    "def predict_topics(review):\n",
    "    cleaned_review = text_cleaning(review)\n",
    "    num_of_topics = 3\n",
    "    similar_topics, similarity = model.find_topics(cleaned_review, top_n=num_of_topics)\n",
    "    predictTopicOutput = {}\n",
    "    predictTopicOutput['Number of Topics'] = num_of_topics\n",
    "    for i in range(num_of_topics):\n",
    "        # topic_num = str(similar_topics[i])\n",
    "        predictTopicOutput[f'Topic {i+1}'] = f'Topic Number: {similar_topics[i]}, Associated Words: {topic_dict.get(similar_topics[i], \"\")}'\n",
    "    predictTopicOutput['Probability'] = np.round(similarity, 2)\n",
    "    return format_dictionary(predictTopicOutput)\n"
   ]
  },
  {
   "cell_type": "markdown",
   "metadata": {},
   "source": [
    "# Launch Gradio Interface"
   ]
  },
  {
   "cell_type": "code",
   "execution_count": 4,
   "metadata": {},
   "outputs": [
    {
     "name": "stdout",
     "output_type": "stream",
     "text": [
      "Running on local URL:  http://127.0.0.1:7860\n",
      "\n",
      "To create a public link, set `share=True` in `launch()`.\n"
     ]
    },
    {
     "data": {
      "text/html": [
       "<div><iframe src=\"http://127.0.0.1:7860/\" width=\"100%\" height=\"500\" allow=\"autoplay; camera; microphone; clipboard-read; clipboard-write;\" frameborder=\"0\" allowfullscreen></iframe></div>"
      ],
      "text/plain": [
       "<IPython.core.display.HTML object>"
      ]
     },
     "metadata": {},
     "output_type": "display_data"
    },
    {
     "data": {
      "text/plain": []
     },
     "execution_count": 4,
     "metadata": {},
     "output_type": "execute_result"
    }
   ],
   "source": [
    "\n",
    "# Interface\n",
    "iface = gr.Interface(fn=predict_topics, inputs=\"text\", outputs=\"text\")\n",
    "\n",
    "# Launching the interface\n",
    "iface.launch()\n"
   ]
  },
  {
   "cell_type": "code",
   "execution_count": null,
   "metadata": {},
   "outputs": [],
   "source": []
  }
 ],
 "metadata": {
  "kernelspec": {
   "display_name": "Python 3 (ipykernel)",
   "language": "python",
   "name": "python3"
  },
  "language_info": {
   "codemirror_mode": {
    "name": "ipython",
    "version": 3
   },
   "file_extension": ".py",
   "mimetype": "text/x-python",
   "name": "python",
   "nbconvert_exporter": "python",
   "pygments_lexer": "ipython3",
   "version": "3.11.5"
  }
 },
 "nbformat": 4,
 "nbformat_minor": 2
}
