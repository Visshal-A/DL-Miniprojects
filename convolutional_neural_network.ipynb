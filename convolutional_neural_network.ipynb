{
 "cells": [
  {
   "cell_type": "markdown",
   "metadata": {
    "colab_type": "text",
    "id": "3DR-eO17geWu"
   },
   "source": [
    "# Convolutional Neural Network"
   ]
  },
  {
   "cell_type": "markdown",
   "metadata": {
    "colab_type": "text",
    "id": "EMefrVPCg-60"
   },
   "source": [
    "### Importing the libraries"
   ]
  },
  {
   "cell_type": "code",
   "execution_count": 1,
   "metadata": {
    "colab": {},
    "colab_type": "code",
    "id": "sCV30xyVhFbE"
   },
   "outputs": [],
   "source": [
    "import tensorflow as tf\n",
    "from keras.preprocessing.image import ImageDataGenerator"
   ]
  },
  {
   "cell_type": "code",
   "execution_count": 2,
   "metadata": {
    "colab": {},
    "colab_type": "code",
    "id": "FIleuCAjoFD8"
   },
   "outputs": [
    {
     "data": {
      "text/plain": [
       "'2.4.1'"
      ]
     },
     "execution_count": 2,
     "metadata": {},
     "output_type": "execute_result"
    }
   ],
   "source": [
    "tf.__version__"
   ]
  },
  {
   "cell_type": "markdown",
   "metadata": {
    "colab_type": "text",
    "id": "oxQxCBWyoGPE"
   },
   "source": [
    "## Part 1 - Data Preprocessing"
   ]
  },
  {
   "cell_type": "markdown",
   "metadata": {
    "colab_type": "text",
    "id": "MvE-heJNo3GG"
   },
   "source": [
    "### Preprocessing the Training set"
   ]
  },
  {
   "cell_type": "code",
   "execution_count": 3,
   "metadata": {
    "colab": {},
    "colab_type": "code",
    "id": "0koUcJMJpEBD"
   },
   "outputs": [
    {
     "name": "stdout",
     "output_type": "stream",
     "text": [
      "Found 8000 images belonging to 2 classes.\n"
     ]
    }
   ],
   "source": [
    "train_datagen = ImageDataGenerator(rescale = 1./255,\n",
    "                                   shear_range = 0.2,\n",
    "                                   zoom_range = 0.2,\n",
    "                                   horizontal_flip = True)\n",
    "training_set = train_datagen.flow_from_directory('dataset/training_set',\n",
    "                                                 target_size = (64, 64),\n",
    "                                                 batch_size = 32,\n",
    "                                                 class_mode = 'binary')"
   ]
  },
  {
   "cell_type": "markdown",
   "metadata": {
    "colab_type": "text",
    "id": "mrCMmGw9pHys"
   },
   "source": [
    "### Preprocessing the Test set"
   ]
  },
  {
   "cell_type": "code",
   "execution_count": 4,
   "metadata": {
    "colab": {},
    "colab_type": "code",
    "id": "SH4WzfOhpKc3"
   },
   "outputs": [
    {
     "name": "stdout",
     "output_type": "stream",
     "text": [
      "Found 2000 images belonging to 2 classes.\n"
     ]
    }
   ],
   "source": [
    "test_datagen = ImageDataGenerator(rescale = 1./255)\n",
    "test_set = test_datagen.flow_from_directory('dataset/test_set',\n",
    "                                            target_size = (64, 64),\n",
    "                                            batch_size = 32,\n",
    "                                            class_mode = 'binary')"
   ]
  },
  {
   "cell_type": "markdown",
   "metadata": {
    "colab_type": "text",
    "id": "af8O4l90gk7B"
   },
   "source": [
    "## Part 2 - Building the CNN"
   ]
  },
  {
   "cell_type": "markdown",
   "metadata": {
    "colab_type": "text",
    "id": "ces1gXY2lmoX"
   },
   "source": [
    "### Initialising the CNN"
   ]
  },
  {
   "cell_type": "code",
   "execution_count": 5,
   "metadata": {
    "colab": {},
    "colab_type": "code",
    "id": "SAUt4UMPlhLS"
   },
   "outputs": [],
   "source": [
    "cnn = tf.keras.models.Sequential()"
   ]
  },
  {
   "cell_type": "markdown",
   "metadata": {
    "colab_type": "text",
    "id": "u5YJj_XMl5LF"
   },
   "source": [
    "### Step 1 - Convolution"
   ]
  },
  {
   "cell_type": "code",
   "execution_count": 6,
   "metadata": {
    "colab": {},
    "colab_type": "code",
    "id": "XPzPrMckl-hV"
   },
   "outputs": [],
   "source": [
    "cnn.add(tf.keras.layers.Conv2D(filters=32, kernel_size=3, activation='relu', input_shape=[64, 64, 3]))"
   ]
  },
  {
   "cell_type": "markdown",
   "metadata": {
    "colab_type": "text",
    "id": "tf87FpvxmNOJ"
   },
   "source": [
    "### Step 2 - Pooling"
   ]
  },
  {
   "cell_type": "code",
   "execution_count": 7,
   "metadata": {
    "colab": {},
    "colab_type": "code",
    "id": "ncpqPl69mOac"
   },
   "outputs": [],
   "source": [
    "cnn.add(tf.keras.layers.MaxPool2D(pool_size=2, strides=2))"
   ]
  },
  {
   "cell_type": "markdown",
   "metadata": {
    "colab_type": "text",
    "id": "xaTOgD8rm4mU"
   },
   "source": [
    "### Adding a second convolutional layer"
   ]
  },
  {
   "cell_type": "code",
   "execution_count": 8,
   "metadata": {
    "colab": {},
    "colab_type": "code",
    "id": "i_-FZjn_m8gk"
   },
   "outputs": [],
   "source": [
    "cnn.add(tf.keras.layers.Conv2D(filters=32, kernel_size=3, activation='relu'))\n",
    "cnn.add(tf.keras.layers.MaxPool2D(pool_size=2, strides=2))"
   ]
  },
  {
   "cell_type": "markdown",
   "metadata": {
    "colab_type": "text",
    "id": "tmiEuvTunKfk"
   },
   "source": [
    "### Step 3 - Flattening"
   ]
  },
  {
   "cell_type": "code",
   "execution_count": 9,
   "metadata": {
    "colab": {},
    "colab_type": "code",
    "id": "6AZeOGCvnNZn"
   },
   "outputs": [],
   "source": [
    "cnn.add(tf.keras.layers.Flatten())"
   ]
  },
  {
   "cell_type": "markdown",
   "metadata": {
    "colab_type": "text",
    "id": "dAoSECOm203v"
   },
   "source": [
    "### Step 4 - Full Connection"
   ]
  },
  {
   "cell_type": "code",
   "execution_count": 10,
   "metadata": {
    "colab": {},
    "colab_type": "code",
    "id": "8GtmUlLd26Nq"
   },
   "outputs": [],
   "source": [
    "cnn.add(tf.keras.layers.Dense(units=128, activation='relu'))"
   ]
  },
  {
   "cell_type": "markdown",
   "metadata": {
    "colab_type": "text",
    "id": "yTldFvbX28Na"
   },
   "source": [
    "### Step 5 - Output Layer"
   ]
  },
  {
   "cell_type": "code",
   "execution_count": 11,
   "metadata": {
    "colab": {},
    "colab_type": "code",
    "id": "1p_Zj1Mc3Ko_"
   },
   "outputs": [],
   "source": [
    "cnn.add(tf.keras.layers.Dense(units=1, activation='sigmoid'))"
   ]
  },
  {
   "cell_type": "markdown",
   "metadata": {
    "colab_type": "text",
    "id": "D6XkI90snSDl"
   },
   "source": [
    "## Part 3 - Training the CNN"
   ]
  },
  {
   "cell_type": "markdown",
   "metadata": {
    "colab_type": "text",
    "id": "vfrFQACEnc6i"
   },
   "source": [
    "### Compiling the CNN"
   ]
  },
  {
   "cell_type": "code",
   "execution_count": 12,
   "metadata": {
    "colab": {},
    "colab_type": "code",
    "id": "NALksrNQpUlJ"
   },
   "outputs": [],
   "source": [
    "cnn.compile(optimizer = 'adam', loss = 'binary_crossentropy', metrics = ['accuracy'])"
   ]
  },
  {
   "cell_type": "markdown",
   "metadata": {
    "colab_type": "text",
    "id": "ehS-v3MIpX2h"
   },
   "source": [
    "### Training the CNN on the Training set and evaluating it on the Test set"
   ]
  },
  {
   "cell_type": "code",
   "execution_count": 13,
   "metadata": {
    "colab": {},
    "colab_type": "code",
    "id": "XUj1W4PJptta"
   },
   "outputs": [
    {
     "name": "stdout",
     "output_type": "stream",
     "text": [
      "Epoch 1/25\n",
      "250/250 [==============================] - 122s 487ms/step - loss: 0.6833 - accuracy: 0.5623 - val_loss: 0.6119 - val_accuracy: 0.6705\n",
      "Epoch 2/25\n",
      "250/250 [==============================] - 42s 169ms/step - loss: 0.5934 - accuracy: 0.6788 - val_loss: 0.5384 - val_accuracy: 0.7385\n",
      "Epoch 3/25\n",
      "250/250 [==============================] - 44s 177ms/step - loss: 0.5566 - accuracy: 0.7183 - val_loss: 0.5379 - val_accuracy: 0.7435\n",
      "Epoch 4/25\n",
      "250/250 [==============================] - 47s 189ms/step - loss: 0.5231 - accuracy: 0.7362 - val_loss: 0.4996 - val_accuracy: 0.7610\n",
      "Epoch 5/25\n",
      "250/250 [==============================] - 46s 186ms/step - loss: 0.4860 - accuracy: 0.7599 - val_loss: 0.4860 - val_accuracy: 0.7675\n",
      "Epoch 6/25\n",
      "250/250 [==============================] - 41s 164ms/step - loss: 0.4695 - accuracy: 0.7768 - val_loss: 0.4773 - val_accuracy: 0.7795\n",
      "Epoch 7/25\n",
      "250/250 [==============================] - 43s 174ms/step - loss: 0.4580 - accuracy: 0.7861 - val_loss: 0.4823 - val_accuracy: 0.7755\n",
      "Epoch 8/25\n",
      "250/250 [==============================] - 42s 168ms/step - loss: 0.4379 - accuracy: 0.7873 - val_loss: 0.4484 - val_accuracy: 0.7890\n",
      "Epoch 9/25\n",
      "250/250 [==============================] - 43s 170ms/step - loss: 0.4233 - accuracy: 0.8077 - val_loss: 0.4521 - val_accuracy: 0.7955\n",
      "Epoch 10/25\n",
      "250/250 [==============================] - 44s 174ms/step - loss: 0.4149 - accuracy: 0.8028 - val_loss: 0.4535 - val_accuracy: 0.7865\n",
      "Epoch 11/25\n",
      "250/250 [==============================] - 46s 183ms/step - loss: 0.3882 - accuracy: 0.8218 - val_loss: 0.4417 - val_accuracy: 0.7975\n",
      "Epoch 12/25\n",
      "250/250 [==============================] - 45s 179ms/step - loss: 0.3895 - accuracy: 0.8216 - val_loss: 0.4340 - val_accuracy: 0.8060\n",
      "Epoch 13/25\n",
      "250/250 [==============================] - 42s 168ms/step - loss: 0.3711 - accuracy: 0.8276 - val_loss: 0.4432 - val_accuracy: 0.7905\n",
      "Epoch 14/25\n",
      "250/250 [==============================] - 43s 172ms/step - loss: 0.3619 - accuracy: 0.8362 - val_loss: 0.4888 - val_accuracy: 0.7880\n",
      "Epoch 15/25\n",
      "250/250 [==============================] - 42s 168ms/step - loss: 0.3386 - accuracy: 0.8525 - val_loss: 0.4409 - val_accuracy: 0.8090\n",
      "Epoch 16/25\n",
      "250/250 [==============================] - 47s 188ms/step - loss: 0.3384 - accuracy: 0.8507 - val_loss: 0.4409 - val_accuracy: 0.8110\n",
      "Epoch 17/25\n",
      "250/250 [==============================] - 40s 161ms/step - loss: 0.3239 - accuracy: 0.8578 - val_loss: 0.4567 - val_accuracy: 0.8045\n",
      "Epoch 18/25\n",
      "250/250 [==============================] - 44s 175ms/step - loss: 0.3158 - accuracy: 0.8641 - val_loss: 0.4414 - val_accuracy: 0.8175\n",
      "Epoch 19/25\n",
      "250/250 [==============================] - 37s 149ms/step - loss: 0.3014 - accuracy: 0.8686 - val_loss: 0.4582 - val_accuracy: 0.8150\n",
      "Epoch 20/25\n",
      "250/250 [==============================] - 38s 151ms/step - loss: 0.3014 - accuracy: 0.8710 - val_loss: 0.4600 - val_accuracy: 0.8110\n",
      "Epoch 21/25\n",
      "250/250 [==============================] - 44s 175ms/step - loss: 0.2842 - accuracy: 0.8798 - val_loss: 0.4781 - val_accuracy: 0.8150\n",
      "Epoch 22/25\n",
      "250/250 [==============================] - 40s 159ms/step - loss: 0.2605 - accuracy: 0.8918 - val_loss: 0.4721 - val_accuracy: 0.8125\n",
      "Epoch 23/25\n",
      "250/250 [==============================] - 46s 185ms/step - loss: 0.2474 - accuracy: 0.8952 - val_loss: 0.5182 - val_accuracy: 0.8060\n",
      "Epoch 24/25\n",
      "250/250 [==============================] - 45s 180ms/step - loss: 0.2316 - accuracy: 0.9062 - val_loss: 0.5491 - val_accuracy: 0.7975\n",
      "Epoch 25/25\n",
      "250/250 [==============================] - 50s 200ms/step - loss: 0.2310 - accuracy: 0.9016 - val_loss: 0.4999 - val_accuracy: 0.8080\n"
     ]
    },
    {
     "data": {
      "text/plain": [
       "<tensorflow.python.keras.callbacks.History at 0x183fc207708>"
      ]
     },
     "execution_count": 13,
     "metadata": {},
     "output_type": "execute_result"
    }
   ],
   "source": [
    "cnn.fit(x = training_set, validation_data = test_set, epochs = 25)"
   ]
  },
  {
   "cell_type": "markdown",
   "metadata": {
    "colab_type": "text",
    "id": "U3PZasO0006Z"
   },
   "source": [
    "## Part 4 - Making a single prediction"
   ]
  },
  {
   "cell_type": "code",
   "execution_count": 30,
   "metadata": {
    "colab": {},
    "colab_type": "code",
    "id": "gsSiWEJY1BPB"
   },
   "outputs": [],
   "source": [
    "import numpy as np\n",
    "from keras.preprocessing import image\n",
    "test_image = image.load_img('dataset/single_prediction/cat_or_dog_2.jpg', target_size = (64, 64))\n",
    "test_image = image.img_to_array(test_image)\n",
    "test_image = np.expand_dims(test_image, axis = 0)\n",
    "result = cnn.predict(test_image)\n",
    "training_set.class_indices\n",
    "if result[0][0] == 0:\n",
    "  prediction = 'dog'\n",
    "else:\n",
    "  prediction = 'cat'"
   ]
  },
  {
   "cell_type": "code",
   "execution_count": 31,
   "metadata": {
    "colab": {},
    "colab_type": "code",
    "id": "ED9KB3I54c1i"
   },
   "outputs": [
    {
     "name": "stdout",
     "output_type": "stream",
     "text": [
      "cat\n"
     ]
    }
   ],
   "source": [
    "print(prediction)"
   ]
  },
  {
   "cell_type": "code",
   "execution_count": null,
   "metadata": {},
   "outputs": [],
   "source": []
  }
 ],
 "metadata": {
  "colab": {
   "collapsed_sections": [],
   "name": "convolutional_neural_network.ipynb",
   "provenance": [],
   "toc_visible": true
  },
  "kernelspec": {
   "display_name": "Python 3",
   "language": "python",
   "name": "python3"
  },
  "language_info": {
   "codemirror_mode": {
    "name": "ipython",
    "version": 3
   },
   "file_extension": ".py",
   "mimetype": "text/x-python",
   "name": "python",
   "nbconvert_exporter": "python",
   "pygments_lexer": "ipython3",
   "version": "3.7.10"
  }
 },
 "nbformat": 4,
 "nbformat_minor": 1
}
